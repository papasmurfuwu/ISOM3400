{
  "cells": [
    {
      "cell_type": "markdown",
      "metadata": {
        "id": "eKUoS234zVDC"
      },
      "source": [
        " ### <span style=\"color: #DB4437; font-family: Trebuchet MS, sans-serif;\"> Disclaimer: Please note that the instructions for Web scraping in this file are tailored for the Chrome browser, and may not be applicable to other browsers. We recommend using Chrome for best results. </span>  \n",
        " [Chrome Download Link](https://www.google.com/chrome/)"
      ]
    },
    {
      "cell_type": "markdown",
      "metadata": {
        "id": "vIb0Iv2pcVdS"
      },
      "source": [
        "# [Trump's Lies](https://www.nytimes.com/interactive/2017/06/23/opinion/trumps-lies.html)\n",
        "\n",
        "<img src=\"https://raw.githubusercontent.com/justinjiajia/img/69b47fdb83d0f3026cb3677e818df0ead20e15b7/python/trump%20lies.PNG\"/>"
      ]
    },
    {
      "cell_type": "markdown",
      "metadata": {
        "id": "_Ztt4qCBySA8"
      },
      "source": [
        "How to open the Chrome's developer tools (or devtools):\n",
        "\n",
        "- Press <kbd>F12</kbd> on the keyboard (sometimes <kbd>Fn</kbd> + <kbd>F12</kbd>)\n",
        "- Right-click on a Web page → Inspect\n",
        "- Choose <kbd>⋮</kbd> at the top right corner of the Chrome window → More tools → Developers tool (or <kbd>Ctrl</kbd> or <kbd>Command</kbd> + <kbd>Shift</kbd> + <kbd>I</kbd>)"
      ]
    },
    {
      "cell_type": "markdown",
      "metadata": {
        "id": "kKjtPYWHcVdY"
      },
      "source": [
        "\n",
        "---\n",
        "\n",
        "\n",
        "# Web Scraping\n",
        "\n",
        "\n",
        "Using the Python programming language, it is possible to \"scrape\" data from the Web in a quick and efficient manner.\n",
        "\n",
        "**Web Scraping** commonly refers to the practice of writing an automated program\n",
        "that queries a web server, requests data (usually in the form of HTML and other files\n",
        "that compose web pages), and then parses that data to extract needed information.\n",
        "\n",
        "\n",
        "\n",
        "Web scraping is a valuable tool in the data scientist's skill set.\n",
        "\n",
        "<span style=\"margin-right: 10%;  margin-left: 20%;\">[BeautifulSoup](https://www.crummy.com/software/BeautifulSoup/)</span>\n",
        "<span style=\"margin-left: 5%;\">[Selenium](https://www.selenium.dev)</span>\n",
        "\n",
        "<p>\n",
        "\n",
        "<img src=\"https://raw.githubusercontent.com/justinjiajia/img/master/python/beautifulsoup.jpg\" style=\"float: left; margin-bottom: 1.5em; margin-top: 1.5em; margin-right: 10%;  margin-left: 15%; \" width=220/>\n",
        " <img src=\"https://upload.wikimedia.org/wikipedia/commons/d/d5/Selenium_Logo.png\" style=\"float: left; margin-top: 3.8em;\" width=140/>\n",
        "\n"
      ]
    },
    {
      "cell_type": "markdown",
      "metadata": {
        "id": "oq_AQVAlcVdZ"
      },
      "source": [
        "---\n",
        "<br>\n",
        "\n",
        "# HTML Basics\n",
        "\n",
        "\n",
        "\n",
        "[**HyperText Markup Language**](https://developer.mozilla.org/en-US/docs/Web/HTML) (HTML for short) is a markup language for describing Web documents.\n",
        "\n",
        "\n",
        "It is plain text, but includes a rich collection of \"tags\" that define the structure of the document and allow documents to include a variety of page elements.\n",
        "\n",
        "- Tags are always enclosed in angle brackets: ` <tagname>`.\n",
        "\n",
        "\n",
        "<img src=\"https://developer.mozilla.org/en-US/docs/Learn/HTML/Introduction_to_HTML/Getting_started/grumpy-cat-small.png\" width=480/>\n",
        "\n",
        "\n",
        "- Tags usually travel in pairs and contain something in between. An opening (or start) tag begins a section of page content, and a closing (or end) tag ends it, e.g.,  `<tagname>content</tagname>`.\n",
        "\n",
        "    - `<h1>`, `<h2>`, ..., `<h6>`: largest headings, second largest headings, etc.;\n",
        "\n",
        "    - `<p>`: paragraphs;\n",
        "\n",
        "    - `<ul>` or `<ol>`: unordered or ordered bulleted lists;\n",
        "\n",
        "    - `<li>`: individual list items;\n",
        "\n",
        "    - `<div>`: divisions or sections;\n",
        "\n",
        "    - `<a>`: anchors;\n",
        "\n",
        "    - and [many others ...](https://developer.mozilla.org/en-US/docs/Web/HTML/Element)\n",
        "\n"
      ]
    },
    {
      "cell_type": "markdown",
      "metadata": {
        "id": "g88zNx5pzVDH"
      },
      "source": [
        "    \n",
        "- There are also a few *self-closing* tags, e.g.:\n",
        "\n",
        "    - `<br/>`\n",
        "\n",
        "    - ```html\n",
        "      <img src=\"https://idp.ust.hk/idp/images/logo.png\" alt=\"UST Logo\"/>\n",
        "      ```\n",
        "\n",
        "\n",
        "- Tags can have attributes, which are always specified in the start tag and come in `name=\"value\"` pairs. E.g.:\n",
        "\n",
        "    - ```html\n",
        "      <a href=\"https://docs.python.org/\" target=\"_blank\">Python documentation</a>\n",
        "      ```\n",
        "      \n",
        "      \n",
        "<img src=\"https://developer.mozilla.org/en-US/docs/Learn/HTML/Introduction_to_HTML/Getting_started/grumpy-cat-attribute-small.png\" width=600/>\n",
        "\n",
        "\n"
      ]
    },
    {
      "cell_type": "markdown",
      "metadata": {
        "id": "-VmWuSNPzVDH"
      },
      "source": [
        "\n",
        "\n",
        "- There are a few attributes that are common to all tags, among which the two most used ones are `id` and `class`:\n",
        "\n",
        "    - `id` allows us to specify a unique identifier for an element which must be unique in the whole document. E.g.:\n",
        "    \n",
        "        - ```html\n",
        "          <p id=\"unique-one\">This is a paragraph with id \"unique-one\".</p>\n",
        "          ```    \n",
        "\n",
        "    - `class` allows us to assign multiple elements (possibly of different types) to the same group identified by a class name. E.g.:\n",
        "\n",
        "        - ```html\n",
        "          <p class=\"class-one\"> This is a paragraph of class \"class-one\". </p>\n",
        "          ```\n",
        "\n",
        "        - An element can also be assigned to multiple groups that are specified by a *space-separated* list of class names. E.g.:\n",
        "        \n",
        "            - ```html\n",
        "              <div class=\"col m-1 border class-one\">Some Content</div>\n",
        "              ```\n",
        "\n",
        "    - In Web scraping, the  `class` and/or `id` attributes can be leveraged to differentiate the section we want from other sections. To do so, we need to use something called the **CSS selector**."
      ]
    },
    {
      "cell_type": "markdown",
      "metadata": {
        "id": "7rYey1VFzVDI"
      },
      "source": [
        "**<font color='steelblue' >Question</font>**:\n",
        "\n",
        "\n",
        "Use a text editor on your computer to create an HTML Web page that has the following layout:\n",
        "\n",
        "<img src=\"https://canvas.ust.hk/courses/49017/files/7437224/preview?instfs=true\" width=800 />\n",
        "\n",
        "\n",
        "- The text on the page is as follows:\n",
        "\n",
        "    Countries of the World: A Simple Example\n",
        "\n",
        "    Andorra\n",
        "\n",
        "    - Capital: Andorra la Vella\n",
        "    - Population: 84000\n",
        "    - Area (km^2): 468.0\n",
        "\n",
        "    - The image address: https://upload.wikimedia.org/wikipedia/commons/5/5b/Andorra_la_Vella_-_view2.jpg\n",
        "\n",
        "\n",
        "\n",
        "- Tags you may want to enclose in the `<body>` tag includes: `<h1>`, `<h3>`, `<hr>`, `<div>`, `<ol>`, `<li>`, and `<img>`"
      ]
    },
    {
      "cell_type": "markdown",
      "metadata": {
        "id": "MiTl0wi9ySBA"
      },
      "source": [
        "---\n",
        "\n",
        "<br>\n",
        "\n",
        "## CSS Basics\n",
        "\n",
        "\n",
        "[**Cascading Style Sheets**](https://developer.mozilla.org/en-US/docs/Web/CSS) (CSS for short) is a style sheet language for describing the presentation of a document written in a markup language.\n",
        "\n",
        "HTML dictates the content and structure of a webpage, while CSS modifies design and display of HTML elements.\n",
        "\n",
        "\n",
        "\n",
        "\n",
        "3 ways of creating and applying CSS rules:\n",
        "\n",
        "- An inline style created right on an HTML start tag, using `style=\"attribute: value;\"`;\n",
        "\n",
        "- An [embedded style sheet](sample_embeddedCSS.html) included by a `<style>` tag nested within the `<head>` section;\n",
        "\n",
        "- As an [external style sheet](sample_externalCSS.html) in a [separate file](example.css).\n"
      ]
    },
    {
      "cell_type": "markdown",
      "metadata": {
        "id": "uTd0Lh1vySBB"
      },
      "source": [
        "<img src=\"https://4.bp.blogspot.com/-yQFU_PhmTRg/U7viQ7bMNjI/AAAAAAAADJE/ctlBTLl-fhY/s640/css-selectors-lrg.png\" width=500px />\n",
        "\n",
        "A CSS stylesheet is a set of style rules, and a CSS ruleset consists of:\n",
        "\n",
        "- A CSS selector: a pattern used to select the element(s) we want to style;\n",
        "\n",
        "-  A style declaration block, which contains a list of style properties and their values:\n",
        "\n",
        "    - Style properties and values come in pairs, with each pair separated with a semicolon (`;`).\n",
        "\n",
        "    - See a [list](https://developer.mozilla.org/en-US/docs/Web/CSS/CSS_Properties_Reference) of common properties and what values are accepted for them.\n",
        "\n",
        "\n",
        "\n",
        "\n",
        "\n"
      ]
    },
    {
      "cell_type": "markdown",
      "metadata": {
        "id": "sI1uAkVHySBB"
      },
      "source": [
        "Different types of selectors:\n",
        "\n",
        "| Type | Notation |  Example | Explanation |\n",
        "|-----|-----|-----|-----|\n",
        "| type | `elementname` | `p` | Select all `<p>` elements|\n",
        "| id | `#idname` | `#unique-one` | Select the element with `id=\"unique-one\"` |\n",
        "| class | `.classname` | `.class-one`  |Select all elements with `class=\"class-one\"` |\n",
        "| attribute | `[attributename]` |`[alt]` | Select all elements with an `alt` attribute |\n",
        "| attribute value | `[attr=value]` |`[alt='UST Logo']` |  Select all elements whose `alt` attribute has the value `'UST Logo'` |\n",
        "\n",
        "\n",
        "\n",
        "\n",
        "Attribute selectors also allow for several special symbols (e.g., `~`, `$`, `^`, `*`, etc.) to create more flexible value matching patterns. You can find more details [here](https://developer.mozilla.org/en-US/docs/Web/CSS)."
      ]
    },
    {
      "cell_type": "markdown",
      "metadata": {
        "id": "cPnrIwa6ySBC"
      },
      "source": [
        "CSS selectors can be combined to create more specific selectors. For example,\n",
        "to select\n",
        "```html\n",
        "<div class=\"col m-1 border class-one\">Relevant Content</div>\n",
        "```\n",
        "we can use:\n",
        "\n",
        "- `div.class-one`;\n",
        "\n",
        "- `div.m-1.col` (the order does not matter);\n",
        "\n",
        "- `div[class=\"col m-1 border class-one\"]`.\n"
      ]
    },
    {
      "cell_type": "markdown",
      "metadata": {
        "id": "VZ6oGok3ySBD"
      },
      "source": [
        "\n",
        "CSS selector syntax also supports a set of relational notations, called **combinators**, that describe elements in terms of their relations to others\n",
        "\n",
        "| Name | Notation |  Example | Explanation |\n",
        "|-----|-----|-----|-----|\n",
        "| Descendant| ` `| `div p` | Select all `<p>` elements inside `<div>` elements |\n",
        "| Child | `>`| `div > p` | Select all `<p>` elements whose parent is a `<div>` element|\n",
        "|Adjacent sibling | `+`| `div + p` | Select all `<p>` elements that immediately follows a `<div>` element |\n",
        "|General sibling  | `~`| `div ~ p` | Select all `<p>` elements as long as they follow a `<div>` element |\n",
        "\n",
        "\n",
        "More use can be find [here](https://developer.mozilla.org/en-US/docs/Web/CSS/CSS_Selectors)."
      ]
    },
    {
      "cell_type": "markdown",
      "metadata": {
        "id": "Wlb0jc3TySBE"
      },
      "source": [
        "\n",
        "Handy interactive [HTML cheatsheet](https://htmlcheatsheet.com/html) and [CSS cheatsheet](https://htmlcheatsheet.com/css)\n",
        "\n",
        "\n"
      ]
    },
    {
      "cell_type": "markdown",
      "metadata": {
        "id": "tCo6d17KcVdg"
      },
      "source": [
        "---\n",
        "\n",
        "\n",
        "# Beautiful Soup\n",
        "\n",
        "\n",
        "> Beautiful Soup, so rich and green,<br>\n",
        "> Waiting in a hot tureen!<br>\n",
        "> Who for such dainties would not stoop?<br>\n",
        "> Soup of the evening, beautiful Soup!\n",
        "\n",
        "\n",
        "<img src=\"https://raw.githubusercontent.com/justinjiajia/img/master/python/beautifulsoup.jpg\"  width=220/>\n",
        "\n",
        "\n",
        "<br>\n",
        "\n",
        "[BeautifulSoup](https://www.crummy.com/software/BeautifulSoup/) is a Python library for pulling data out of files written in a markup language.\n",
        "\n"
      ]
    },
    {
      "cell_type": "markdown",
      "metadata": {
        "cell_style": "split",
        "id": "50LjKh3lcVdh"
      },
      "source": [
        "\n",
        "An examples of [\"**tag soup**\"](https://en.wikipedia.org/wiki/Tag_soup):\n",
        "\n",
        "\n",
        "```html\n",
        "<H1>Tacky HTML</H1>\n",
        "<p>\n",
        "    <img src=https://idp.ust.hk/idp/images/logo.png>\n",
        "    Browsers tolerate a lot of completely broken HTML.\n",
        "<UL>\n",
        "    <LI>List one\n",
        "    <LI>List 2\n",
        "</UL>\n",
        "```"
      ]
    },
    {
      "cell_type": "markdown",
      "metadata": {
        "id": "XtXOYuKGcVdh"
      },
      "source": [
        "BeautifulSoup helps format and organize the messy web by fixing bad HTML and presenting us with easily traversable Python objects.\n",
        "\n",
        "The most commonly used object in the BeautifulSoup library is the `BeautifulSoup` object."
      ]
    },
    {
      "cell_type": "code",
      "execution_count": 2,
      "metadata": {
        "id": "_69I1EqKzVDK"
      },
      "outputs": [
        {
          "data": {
            "text/plain": [
              "'4.12.3'"
            ]
          },
          "execution_count": 2,
          "metadata": {},
          "output_type": "execute_result"
        }
      ],
      "source": [
        "from bs4 import BeautifulSoup\n",
        "import bs4\n",
        "\n",
        "bs4.__version__"
      ]
    },
    {
      "cell_type": "markdown",
      "metadata": {
        "id": "uULEZPD4cVdj"
      },
      "source": [
        "\n",
        "The use of the `BeautifulSoup` constructor:\n",
        "\n",
        "- The 1st argument is the HTML text the object is based on;\n",
        "\n",
        "- The 2nd argument specifies the parser that we want BeautifulSoup to use in order to create a `BeautifulSoup` object.\n",
        "\n",
        "\n",
        "<div class='alert alert-info'><code>html.parser</code> is the HTML parser included in the standard Python 3 library. Information on other HTML parsers is available <a href=\"http://www.crummy.com/software/BeautifulSoup/bs4/doc/#installing-a-parser\">here</a>.</div>\n",
        "\n",
        "\n",
        "\n",
        "\n",
        "Let's create a `BeautifulSoup` object for the tacky HTML code above to \"***make the soup***\":\n",
        "\n"
      ]
    },
    {
      "cell_type": "code",
      "execution_count": 3,
      "metadata": {
        "id": "vCqMJz1azVDL"
      },
      "outputs": [
        {
          "data": {
            "text/plain": [
              "<h1>Tacky HTML</h1>\n",
              "<p>\n",
              "<img src=\"https://idp.ust.hk/idp/images/logo.png\"/>\n",
              "    Browsers tolerate a lot of completely broken HTML.\n",
              "<ul>\n",
              "<li>List one </li>\n",
              "<li>List 2\n",
              "</li></ul></p>"
            ]
          },
          "execution_count": 3,
          "metadata": {},
          "output_type": "execute_result"
        }
      ],
      "source": [
        "tacky_html = '''<H1>Tacky HTML</H1>\n",
        "<p>\n",
        "    <img src=https://idp.ust.hk/idp/images/logo.png>\n",
        "    Browsers tolerate a lot of completely broken HTML.\n",
        "<UL>\n",
        "    <LI>List one </LI>\n",
        "    <LI>List 2\n",
        "</UL>'''\n",
        "\n",
        "BeautifulSoup(tacky_html, 'html.parser')"
      ]
    },
    {
      "cell_type": "code",
      "execution_count": 4,
      "metadata": {
        "id": "2qxgpgs9zVDL"
      },
      "outputs": [
        {
          "data": {
            "text/plain": [
              "<!DOCTYPE html>\n",
              "<html lang=\"en\"><head><title>Sample HTML Page</title></head><body><h1>This is a heading.</h1><p>This is a typical paragraph.</p><p class=\"class-one\">This is a paragraph of class \"class-one\".</p><ol><li class=\"class-one\"><a href=\"sample.html\">The 1st item</a></li></ol><p id=\"unique-one\">This is a paragraph with id \"unique-one\".</p><div class=\"col m-3 border class-one\">This is a division.</div></body></html>"
            ]
          },
          "execution_count": 4,
          "metadata": {},
          "output_type": "execute_result"
        }
      ],
      "source": [
        "html_sample_code = ('<!DOCTYPE html><html lang=\"en\"><head><title>Sample HTML Page</title></head>'\n",
        "                    '<body><h1>This is a heading.</h1>'\n",
        "                    '<p>This is a typical paragraph.</p>'\n",
        "                    '<p class=\"class-one\">This is a paragraph of class \"class-one\".</p>'\n",
        "                    '<ol><li class=\"class-one\"><a href=\"sample.html\">The 1st item</a></li></ol>'\n",
        "                    '<p id=\"unique-one\">This is a paragraph with id \"unique-one\".</p>'\n",
        "                    '<div class=\"col m-3 border class-one\">This is a division.</div></body></html>')\n",
        "\n",
        "sample_soup = BeautifulSoup(html_sample_code, 'html.parser')\n",
        "sample_soup"
      ]
    },
    {
      "cell_type": "markdown",
      "metadata": {
        "id": "UqrfNIzHcVdk"
      },
      "source": [
        "\n",
        "We can use the `prettify()` method to format the HTML source code so as to get a better idea of its structure:\n"
      ]
    },
    {
      "cell_type": "code",
      "execution_count": 5,
      "metadata": {
        "id": "2iG83dCDzVDM"
      },
      "outputs": [
        {
          "name": "stdout",
          "output_type": "stream",
          "text": [
            "<!DOCTYPE html>\n",
            "<html lang=\"en\">\n",
            " <head>\n",
            "  <title>\n",
            "   Sample HTML Page\n",
            "  </title>\n",
            " </head>\n",
            " <body>\n",
            "  <h1>\n",
            "   This is a heading.\n",
            "  </h1>\n",
            "  <p>\n",
            "   This is a typical paragraph.\n",
            "  </p>\n",
            "  <p class=\"class-one\">\n",
            "   This is a paragraph of class \"class-one\".\n",
            "  </p>\n",
            "  <ol>\n",
            "   <li class=\"class-one\">\n",
            "    <a href=\"sample.html\">\n",
            "     The 1st item\n",
            "    </a>\n",
            "   </li>\n",
            "  </ol>\n",
            "  <p id=\"unique-one\">\n",
            "   This is a paragraph with id \"unique-one\".\n",
            "  </p>\n",
            "  <div class=\"col m-3 border class-one\">\n",
            "   This is a division.\n",
            "  </div>\n",
            " </body>\n",
            "</html>\n",
            "\n"
          ]
        }
      ],
      "source": [
        "from bs4.formatter import HTMLFormatter\n",
        "\n",
        "# you can customize the indent size by setting e.g., formatter=HTMLFormatter(indent=4)\n",
        "print(sample_soup.prettify())"
      ]
    },
    {
      "cell_type": "markdown",
      "metadata": {
        "id": "dqbKHhyFySBK"
      },
      "source": [
        "\n",
        "\n",
        "These textual components form a [\"family tree\"](familytree.html), where the top-level `<html>` tag contains the `<head>` and `<body`> tags, which further contain other textual contents and tags, and so on.\n",
        "\n",
        "\n",
        "\n",
        "\n",
        "We can define parents, chidren, and siblings for each tag by referencing this family tree (based on the identation levels of related tags)"
      ]
    },
    {
      "cell_type": "markdown",
      "metadata": {
        "id": "aYtUhm2IcVdl"
      },
      "source": [
        "\n",
        "## What's in a Soup?\n",
        "\n",
        "A `BeautifulSoup` object is essentially a hierarchical collection of `Tag` objects, which are each equipped with attributes for navigating and iterating over child tags and strings it contains.\n",
        "\n",
        "The simplest way to navigate this collection is to say the name of a child tag we want:"
      ]
    },
    {
      "cell_type": "code",
      "execution_count": 6,
      "metadata": {
        "id": "KjR8UYEszVDM"
      },
      "outputs": [
        {
          "data": {
            "text/plain": [
              "<body><h1>This is a heading.</h1><p>This is a typical paragraph.</p><p class=\"class-one\">This is a paragraph of class \"class-one\".</p><ol><li class=\"class-one\"><a href=\"sample.html\">The 1st item</a></li></ol><p id=\"unique-one\">This is a paragraph with id \"unique-one\".</p><div class=\"col m-3 border class-one\">This is a division.</div></body>"
            ]
          },
          "execution_count": 6,
          "metadata": {},
          "output_type": "execute_result"
        }
      ],
      "source": [
        "sample_soup.html.body          # the <body> tag is beneath the <html> tag"
      ]
    },
    {
      "cell_type": "markdown",
      "metadata": {
        "id": "kGDHT8AqySBL"
      },
      "source": [
        "We can also call the <body> tag directly as long as there's no ambiguity:"
      ]
    },
    {
      "cell_type": "code",
      "execution_count": 7,
      "metadata": {
        "id": "XHC07xmJzVDM"
      },
      "outputs": [
        {
          "data": {
            "text/plain": [
              "<body><h1>This is a heading.</h1><p>This is a typical paragraph.</p><p class=\"class-one\">This is a paragraph of class \"class-one\".</p><ol><li class=\"class-one\"><a href=\"sample.html\">The 1st item</a></li></ol><p id=\"unique-one\">This is a paragraph with id \"unique-one\".</p><div class=\"col m-3 border class-one\">This is a division.</div></body>"
            ]
          },
          "execution_count": 7,
          "metadata": {},
          "output_type": "execute_result"
        }
      ],
      "source": [
        "sample_soup.body"
      ]
    },
    {
      "cell_type": "code",
      "execution_count": 8,
      "metadata": {
        "id": "dyiLO1HMzVDN"
      },
      "outputs": [
        {
          "data": {
            "text/plain": [
              "<h1>This is a heading.</h1>"
            ]
          },
          "execution_count": 8,
          "metadata": {},
          "output_type": "execute_result"
        }
      ],
      "source": [
        "# get the <h1> tag nested two layers deep into the BeautifulSoup object structure (html → body → h1)\n",
        "sample_soup.html.body.h1        # equivalently, bs_sample.body.h1 or bs_sample.h1"
      ]
    },
    {
      "cell_type": "code",
      "execution_count": 9,
      "metadata": {
        "id": "C2Bp8xeTzVDN"
      },
      "outputs": [
        {
          "data": {
            "text/plain": [
              "<p>This is a typical paragraph.</p>"
            ]
          },
          "execution_count": 9,
          "metadata": {},
          "output_type": "execute_result"
        }
      ],
      "source": [
        "sample_soup.body.p              # get the 1st <p> tag beneath the <body> tag"
      ]
    },
    {
      "cell_type": "markdown",
      "metadata": {
        "id": "b1YzIb15cVdm"
      },
      "source": [
        "A tag's children are available in a list when we call `.contents`:"
      ]
    },
    {
      "cell_type": "code",
      "execution_count": 10,
      "metadata": {
        "id": "EdOjLeFNzVDN"
      },
      "outputs": [
        {
          "data": {
            "text/plain": [
              "[<h1>This is a heading.</h1>,\n",
              " <p>This is a typical paragraph.</p>,\n",
              " <p class=\"class-one\">This is a paragraph of class \"class-one\".</p>,\n",
              " <ol><li class=\"class-one\"><a href=\"sample.html\">The 1st item</a></li></ol>,\n",
              " <p id=\"unique-one\">This is a paragraph with id \"unique-one\".</p>,\n",
              " <div class=\"col m-3 border class-one\">This is a division.</div>]"
            ]
          },
          "execution_count": 10,
          "metadata": {},
          "output_type": "execute_result"
        }
      ],
      "source": [
        "sample_soup.body.contents"
      ]
    },
    {
      "cell_type": "markdown",
      "metadata": {
        "id": "GwIILCrGcVdp"
      },
      "source": [
        "If we want the human-readable text inside a document or tag, we can use the `get_text()` method, which returns all the text in a document or beneath a tag, as a single regular string:"
      ]
    },
    {
      "cell_type": "code",
      "execution_count": 11,
      "metadata": {
        "id": "BG4Zp9omzVDN"
      },
      "outputs": [
        {
          "data": {
            "text/plain": [
              "'This is a heading.This is a typical paragraph.This is a paragraph of class \"class-one\".The 1st itemThis is a paragraph with id \"unique-one\".This is a division.'"
            ]
          },
          "execution_count": 11,
          "metadata": {},
          "output_type": "execute_result"
        }
      ],
      "source": [
        "sample_soup.body.get_text()"
      ]
    },
    {
      "cell_type": "code",
      "execution_count": 12,
      "metadata": {
        "id": "CnD0zfk2zVDO"
      },
      "outputs": [
        {
          "data": {
            "text/plain": [
              "'The 1st item'"
            ]
          },
          "execution_count": 12,
          "metadata": {},
          "output_type": "execute_result"
        }
      ],
      "source": [
        "sample_soup.ol.get_text()"
      ]
    },
    {
      "cell_type": "markdown",
      "metadata": {
        "id": "K7SpB8QuySBQ"
      },
      "source": [
        "If we want to extract the value of a specific attribute, we can use a tag's `.get()` method:"
      ]
    },
    {
      "cell_type": "code",
      "execution_count": 13,
      "metadata": {
        "id": "XsY0ofkWzVDO"
      },
      "outputs": [
        {
          "data": {
            "text/plain": [
              "'sample.html'"
            ]
          },
          "execution_count": 13,
          "metadata": {},
          "output_type": "execute_result"
        }
      ],
      "source": [
        "sample_soup.a.get('href')    # alternatively, it can also be accessed with dictionary-like indexing, e.g., sample_soup.a['href]"
      ]
    },
    {
      "cell_type": "code",
      "execution_count": 14,
      "metadata": {},
      "outputs": [
        {
          "name": "stdout",
          "output_type": "stream",
          "text": [
            "\n",
            "Hello, World!\n",
            "Hello again!\n",
            "This is a paragraph with some text.\n",
            "\n",
            "Item 1\n",
            "Item 2\n",
            "\n",
            "\n"
          ]
        }
      ],
      "source": [
        "from bs4 import BeautifulSoup\n",
        "\n",
        "html = \"\"\"\n",
        "<div>\n",
        "  <h1>Hello, World!</h1>\n",
        "  <h2>Hello again!</h2>\n",
        "  <p>This is a <strong>paragraph</strong> with some text.</p>\n",
        "  <ul>\n",
        "    <li>Item 1</li>\n",
        "    <li>Item 2</li>\n",
        "  </ul>\n",
        "</div>\n",
        "\"\"\"\n",
        "\n",
        "soup = BeautifulSoup(html, 'html.parser')\n",
        "div = soup.find('div')\n",
        "\n",
        "# Get the text of the div element and its children\n",
        "text = div.get_text()\n",
        "print(text)"
      ]
    },
    {
      "cell_type": "markdown",
      "metadata": {
        "id": "Twf_7ay4cVdq"
      },
      "source": [
        "\n",
        "---\n",
        "\n",
        "<br>\n",
        "\n",
        "### `.find()` & `.find_all()`--> returns List\n",
        "\n",
        "Using a tag name as an attribute gives us only the first tag by that name.\n",
        "\n",
        "If we need to get all tags with a certain name, we need to use `find_all()`.\n",
        "\n",
        "The `find_all()` (`find()`) method can take a variety of filters to find lists of desired tags (a single tag):"
      ]
    },
    {
      "cell_type": "code",
      "execution_count": 15,
      "metadata": {
        "id": "Ge9U4xLfcVdq",
        "outputId": "aa57f685-1468-4682-ba19-8c43b13d236a"
      },
      "outputs": [
        {
          "data": {
            "text/plain": [
              "[<p>This is a typical paragraph.</p>,\n",
              " <p class=\"class-one\">This is a paragraph of class \"class-one\".</p>,\n",
              " <p id=\"unique-one\">This is a paragraph with id \"unique-one\".</p>]"
            ]
          },
          "execution_count": 15,
          "metadata": {},
          "output_type": "execute_result"
        }
      ],
      "source": [
        "sample_soup.find_all('p')                      # perform a match against that exact string; return a list of tags"
      ]
    },
    {
      "cell_type": "code",
      "execution_count": 16,
      "metadata": {
        "id": "jH33YDNjcVdq",
        "outputId": "1e76be2f-a9ce-42f2-d897-be19bd172a9f"
      },
      "outputs": [
        {
          "data": {
            "text/plain": [
              "[<p>This is a typical paragraph.</p>,\n",
              " <p class=\"class-one\">This is a paragraph of class \"class-one\".</p>,\n",
              " <a href=\"sample.html\">The 1st item</a>,\n",
              " <p id=\"unique-one\">This is a paragraph with id \"unique-one\".</p>]"
            ]
          },
          "execution_count": 16,
          "metadata": {},
          "output_type": "execute_result"
        }
      ],
      "source": [
        "sample_soup.find_all([\"p\", \"a\"])               # perform a string match against any item in that list"
      ]
    },
    {
      "cell_type": "markdown",
      "metadata": {
        "id": "WQQmhRpdcVdq"
      },
      "source": [
        " We can also form filters based on tags' various attributes:\n",
        "\n",
        "- The 1st argument is a (list of) filter(s) on tag name(s);\n",
        "\n",
        "- The 2nd argument is a dictionary of filters on attribute values, e.g., `{attr_1: val_1, attr_2: val_2, ...}`."
      ]
    },
    {
      "cell_type": "code",
      "execution_count": 17,
      "metadata": {
        "colab": {
          "base_uri": "https://localhost:8080/"
        },
        "id": "sf-oH3_ry5jZ",
        "outputId": "50acc5b0-41a4-40ce-eaad-ab63538fb5f7"
      },
      "outputs": [
        {
          "name": "stdout",
          "output_type": "stream",
          "text": [
            "Help on method find_all in module bs4.element:\n",
            "\n",
            "find_all(name=None, attrs={}, recursive=True, string=None, limit=None, **kwargs) method of bs4.BeautifulSoup instance\n",
            "    Look in the children of this PageElement and find all\n",
            "    PageElements that match the given criteria.\n",
            "    \n",
            "    All find_* methods take a common set of arguments. See the online\n",
            "    documentation for detailed explanations.\n",
            "    \n",
            "    :param name: A filter on tag name.\n",
            "    :param attrs: A dictionary of filters on attribute values.\n",
            "    :param recursive: If this is True, find_all() will perform a\n",
            "        recursive search of this PageElement's children. Otherwise,\n",
            "        only the direct children will be considered.\n",
            "    :param limit: Stop looking after finding this many results.\n",
            "    :kwargs: A dictionary of filters on attribute values.\n",
            "    :return: A ResultSet of PageElements.\n",
            "    :rtype: bs4.element.ResultSet\n",
            "\n"
          ]
        }
      ],
      "source": [
        "help(sample_soup.find_all)"
      ]
    },
    {
      "cell_type": "code",
      "execution_count": 18,
      "metadata": {
        "id": "X4C8p4BBcVdq"
      },
      "outputs": [
        {
          "data": {
            "text/plain": [
              "[<p class=\"class-one\">This is a paragraph of class \"class-one\".</p>]"
            ]
          },
          "execution_count": 18,
          "metadata": {},
          "output_type": "execute_result"
        }
      ],
      "source": [
        "sample_soup.find_all('p', {'class': 'class-one'})"
      ]
    },
    {
      "cell_type": "code",
      "execution_count": 19,
      "metadata": {
        "id": "_K_0hnwRcVdr"
      },
      "outputs": [
        {
          "data": {
            "text/plain": [
              "[<p class=\"class-one\">This is a paragraph of class \"class-one\".</p>,\n",
              " <div class=\"col m-3 border class-one\">This is a division.</div>]"
            ]
          },
          "execution_count": 19,
          "metadata": {},
          "output_type": "execute_result"
        }
      ],
      "source": [
        "sample_soup.find_all(['div', 'p'], {'class': 'class-one'})"
      ]
    },
    {
      "cell_type": "code",
      "execution_count": 20,
      "metadata": {
        "id": "SYCfsslXySBR"
      },
      "outputs": [
        {
          "data": {
            "text/plain": [
              "[<p class=\"class-one\">This is a paragraph of class \"class-one\".</p>,\n",
              " <li class=\"class-one\"><a href=\"sample.html\">The 1st item</a></li>,\n",
              " <div class=\"col m-3 border class-one\">This is a division.</div>]"
            ]
          },
          "execution_count": 20,
          "metadata": {},
          "output_type": "execute_result"
        }
      ],
      "source": [
        "# filter elements only on attributes' values\n",
        "sample_soup.find_all(attrs={'class': 'class-one'})"
      ]
    },
    {
      "cell_type": "markdown",
      "metadata": {
        "id": "tM9BMBuTySBS"
      },
      "source": [
        "We can also search for the exact string value of the class attribute:"
      ]
    },
    {
      "cell_type": "code",
      "execution_count": 21,
      "metadata": {
        "id": "x2CdUbXVySBS",
        "outputId": "a722c7a8-e95c-49e7-e2fb-67f24c912fad"
      },
      "outputs": [
        {
          "data": {
            "text/plain": [
              "<div class=\"col m-3 border class-one\">This is a division.</div>"
            ]
          },
          "execution_count": 21,
          "metadata": {},
          "output_type": "execute_result"
        }
      ],
      "source": [
        "sample_soup.find('div', {'class': 'col m-3 border class-one'})"
      ]
    },
    {
      "cell_type": "markdown",
      "metadata": {
        "id": "XkdKK18-ySBS"
      },
      "source": [
        "But searching for variants of the string value won't work:"
      ]
    },
    {
      "cell_type": "code",
      "execution_count": 22,
      "metadata": {
        "id": "jOKGFkT4zVDV"
      },
      "outputs": [
        {
          "data": {
            "text/plain": [
              "[]"
            ]
          },
          "execution_count": 22,
          "metadata": {},
          "output_type": "execute_result"
        }
      ],
      "source": [
        "sample_soup.find_all('div', {'class': 'col class-one'})"
      ]
    },
    {
      "cell_type": "markdown",
      "metadata": {
        "id": "fNRdNmq7zVDV"
      },
      "source": [
        "**<font color='steelblue' >Question</font>**:\n",
        "\n",
        "\n",
        "This [web page](https://justinjia.people.ust.hk/countries.html) lists information about 249 countries in the world. Use `.find_all()` to extract the information on name, capital, population, and area of each country."
      ]
    },
    {
      "cell_type": "code",
      "execution_count": 51,
      "metadata": {
        "id": "5QS3IVH3zVDV"
      },
      "outputs": [
        {
          "data": {
            "text/html": [
              "<div>\n",
              "<style scoped>\n",
              "    .dataframe tbody tr th:only-of-type {\n",
              "        vertical-align: middle;\n",
              "    }\n",
              "\n",
              "    .dataframe tbody tr th {\n",
              "        vertical-align: top;\n",
              "    }\n",
              "\n",
              "    .dataframe thead th {\n",
              "        text-align: right;\n",
              "    }\n",
              "</style>\n",
              "<table border=\"1\" class=\"dataframe\">\n",
              "  <thead>\n",
              "    <tr style=\"text-align: right;\">\n",
              "      <th></th>\n",
              "      <th>Name</th>\n",
              "      <th>Capital</th>\n",
              "      <th>Population</th>\n",
              "      <th>Area</th>\n",
              "    </tr>\n",
              "  </thead>\n",
              "  <tbody>\n",
              "    <tr>\n",
              "      <th>1</th>\n",
              "      <td>Andorra</td>\n",
              "      <td>Andorra la Vella</td>\n",
              "      <td>84000</td>\n",
              "      <td>468.0</td>\n",
              "    </tr>\n",
              "    <tr>\n",
              "      <th>2</th>\n",
              "      <td>United Arab Emirates</td>\n",
              "      <td>Abu Dhabi</td>\n",
              "      <td>4975593</td>\n",
              "      <td>82880.0</td>\n",
              "    </tr>\n",
              "    <tr>\n",
              "      <th>3</th>\n",
              "      <td>Afghanistan</td>\n",
              "      <td>Kabul</td>\n",
              "      <td>29121286</td>\n",
              "      <td>647500.0</td>\n",
              "    </tr>\n",
              "    <tr>\n",
              "      <th>4</th>\n",
              "      <td>Antigua and Barbuda</td>\n",
              "      <td>St. John's</td>\n",
              "      <td>86754</td>\n",
              "      <td>443.0</td>\n",
              "    </tr>\n",
              "    <tr>\n",
              "      <th>5</th>\n",
              "      <td>Anguilla</td>\n",
              "      <td>The Valley</td>\n",
              "      <td>13254</td>\n",
              "      <td>102.0</td>\n",
              "    </tr>\n",
              "    <tr>\n",
              "      <th>...</th>\n",
              "      <td>...</td>\n",
              "      <td>...</td>\n",
              "      <td>...</td>\n",
              "      <td>...</td>\n",
              "    </tr>\n",
              "    <tr>\n",
              "      <th>245</th>\n",
              "      <td>Yemen</td>\n",
              "      <td>Sanaa</td>\n",
              "      <td>23495361</td>\n",
              "      <td>527970.0</td>\n",
              "    </tr>\n",
              "    <tr>\n",
              "      <th>246</th>\n",
              "      <td>Mayotte</td>\n",
              "      <td>Mamoudzou</td>\n",
              "      <td>159042</td>\n",
              "      <td>374.0</td>\n",
              "    </tr>\n",
              "    <tr>\n",
              "      <th>247</th>\n",
              "      <td>South Africa</td>\n",
              "      <td>Pretoria</td>\n",
              "      <td>49000000</td>\n",
              "      <td>1219912.0</td>\n",
              "    </tr>\n",
              "    <tr>\n",
              "      <th>248</th>\n",
              "      <td>Zambia</td>\n",
              "      <td>Lusaka</td>\n",
              "      <td>13460305</td>\n",
              "      <td>752614.0</td>\n",
              "    </tr>\n",
              "    <tr>\n",
              "      <th>249</th>\n",
              "      <td>Zimbabwe</td>\n",
              "      <td>Harare</td>\n",
              "      <td>11651858</td>\n",
              "      <td>390580.0</td>\n",
              "    </tr>\n",
              "  </tbody>\n",
              "</table>\n",
              "<p>249 rows × 4 columns</p>\n",
              "</div>"
            ],
            "text/plain": [
              "                     Name           Capital  Population       Area\n",
              "1                 Andorra  Andorra la Vella       84000      468.0\n",
              "2    United Arab Emirates         Abu Dhabi     4975593    82880.0\n",
              "3             Afghanistan             Kabul    29121286   647500.0\n",
              "4     Antigua and Barbuda        St. John's       86754      443.0\n",
              "5                Anguilla        The Valley       13254      102.0\n",
              "..                    ...               ...         ...        ...\n",
              "245                 Yemen             Sanaa    23495361   527970.0\n",
              "246               Mayotte         Mamoudzou      159042      374.0\n",
              "247          South Africa          Pretoria    49000000  1219912.0\n",
              "248                Zambia            Lusaka    13460305   752614.0\n",
              "249              Zimbabwe            Harare    11651858   390580.0\n",
              "\n",
              "[249 rows x 4 columns]"
            ]
          },
          "execution_count": 51,
          "metadata": {},
          "output_type": "execute_result"
        }
      ],
      "source": [
        "# starter code\n",
        "\n",
        "import requests\n",
        "import pandas as pd \n",
        "\n",
        "response = requests.get(\"https://justinjia.people.ust.hk/countries.html\", timeout=3)\n",
        "soup = BeautifulSoup(response.content, 'html.parser')\n",
        "\n",
        "\n",
        "# provide your code below\n",
        "# print(soup.prettify()) <-- print out HTML structure \n",
        "countries = soup.find_all('div', {'class': 'col-md-4 country'})\n",
        "country_data = []\n",
        "\n",
        "for country in countries:\n",
        "    country_name = country.h3.get_text().strip() # Extract country name [[1]]\n",
        "    capital = country.find('span', {'class': 'country-capital'}).get_text() # Extract capital [[2]]\n",
        "    population = country.find('span', {'class': 'country-population'}).get_text() # Extract population [[3]]\n",
        "    area = country.select_one('.country-area').get_text() # select_one() works exactly the same \n",
        "    \n",
        "    country_data.append({\n",
        "        'name': country_name,\n",
        "        'capital': capital,\n",
        "        'population': int(population),\n",
        "        'area': round(float(area), 2)\n",
        "    })\n",
        "\n",
        "df = pd.DataFrame(country_data, columns=['name', 'capital', 'population', 'area']) # <-- creating dataframe\n",
        "df.index = df.index + 1 \n",
        "df.columns = df.columns.str.title()\n",
        "# df.to_excel('data.xlsx', sheet_name='Sheet1', index=False) \n",
        "# df.to_csv('data.csv', index=False)\n",
        "df\n"
      ]
    },
    {
      "cell_type": "code",
      "execution_count": 24,
      "metadata": {},
      "outputs": [
        {
          "name": "stdout",
          "output_type": "stream",
          "text": [
            "<span class=\"country-capital\">Andorra la Vella</span>\n"
          ]
        }
      ],
      "source": [
        "print(soup.select_one('span'))"
      ]
    },
    {
      "cell_type": "markdown",
      "metadata": {
        "id": "Pri5rdTsySBS"
      },
      "source": [
        "---\n",
        "\n",
        "<br/>\n",
        "\n",
        "### `.select()` & `.select_one()` --> returns list\n",
        "\n",
        "\n"
      ]
    },
    {
      "cell_type": "markdown",
      "metadata": {
        "id": "Jnwtnb_HySBT"
      },
      "source": [
        "A `BeautifulSoup` object has a `.select()` (or `.select_one()`) method, which allows us to query elements using CSS selectors:"
      ]
    },
    {
      "cell_type": "code",
      "execution_count": 25,
      "metadata": {
        "id": "sRNvosLLySBT"
      },
      "outputs": [
        {
          "data": {
            "text/plain": [
              "[<div class=\"col m-3 border class-one\">This is a division.</div>]"
            ]
          },
          "execution_count": 25,
          "metadata": {},
          "output_type": "execute_result"
        }
      ],
      "source": [
        "# match elements against two or more classes\n",
        "sample_soup.select(\".class-one.m-3\")"
      ]
    },
    {
      "cell_type": "code",
      "execution_count": 26,
      "metadata": {
        "id": "9WZ6fy45ySBT"
      },
      "outputs": [
        {
          "data": {
            "text/plain": [
              "[<a href=\"sample.html\">The 1st item</a>]"
            ]
          },
          "execution_count": 26,
          "metadata": {},
          "output_type": "execute_result"
        }
      ],
      "source": [
        "sample_soup.select(\"[href]\")"
      ]
    },
    {
      "cell_type": "markdown",
      "metadata": {
        "id": "z-Vd6wSPzVDW"
      },
      "source": [
        "**<font color='steelblue' >Question</font>**:\n",
        "\n",
        "\n",
        "Now use `.select()` to extract the same information from this [web page](https://justinjia.people.ust.hk/countries.html)."
      ]
    },
    {
      "cell_type": "code",
      "execution_count": null,
      "metadata": {
        "id": "9jF-9SgfzVDW"
      },
      "outputs": [],
      "source": [
        "# starter code\n",
        "import requests\n",
        "response = requests.get(\"https://justinjia.people.ust.hk/countries.html\", timeout=3)\n",
        "soup = BeautifulSoup(response.content, 'html.parser')\n",
        "\n",
        "# provide your code below\n",
        "countries = soup.select('div.col-md-4.country')\n",
        "country_data = []\n",
        "\n",
        "for country in countries:\n",
        "    country_name = country.select_one('h3').get_text().strip()  # Extract country name\n",
        "    capital = country.select_one('span.country-capital').get_text()  # Extract capital\n",
        "    population = country.select_one('span.country-population').get_text()  # Extract population\n",
        "    \n",
        "    country_data.append({\n",
        "        'name': country_name,\n",
        "        'capital': capital,\n",
        "        'population': int(population)\n",
        "    })\n",
        "\n",
        "country_data\n",
        "\n",
        "\n"
      ]
    },
    {
      "cell_type": "markdown",
      "metadata": {
        "id": "pj54e5X_cVdr"
      },
      "source": [
        "---\n",
        "<Br>\n",
        "\n",
        "## Scraping Textual Data on Trump's Lies\n",
        "\n",
        "\n",
        "We'll first use `requests.get(url)` to connect to a URL and make a soup with what is held by the `.content` attribute of the response:\n",
        "\n",
        "\n",
        "\n"
      ]
    },
    {
      "cell_type": "code",
      "execution_count": 28,
      "metadata": {
        "id": "071arDD6zVDX"
      },
      "outputs": [],
      "source": [
        "from bs4 import BeautifulSoup\n",
        "\n",
        "import requests\n",
        "# open the URL; set timeout to 3 seconds\n",
        "response = requests.get(\"https://drive.google.com/uc?export=download&id=1rJNpIuhDMnuARYfDbUqHjo-RQMWTCTvg\",\n",
        "                        timeout=3)\n",
        "lies_soup = BeautifulSoup(response.content, 'html.parser')"
      ]
    },
    {
      "cell_type": "markdown",
      "metadata": {
        "id": "ayJhh_j-cVds"
      },
      "source": [
        "---\n",
        "\n",
        "<br>\n",
        "\n",
        "\n",
        "In the HTML code, every record is surrounded by the `<span>` tag of `class=\"short-desc\"`:\n",
        "\n",
        "```html\n",
        "<span class=\"short-desc\">\n",
        "      <strong> DATE </strong> LIE <span class=\"short-truth\"><a href=\"URL\"> EXPLANATION </a></span>\n",
        "</span>\n",
        "\n",
        "```\n",
        "\n",
        "\n",
        "\n",
        "\n"
      ]
    },
    {
      "cell_type": "code",
      "execution_count": 29,
      "metadata": {
        "id": "y8S3TxUMcVdt"
      },
      "outputs": [],
      "source": [
        "# equivalently, lies_soup.select('span.short-desc')\n",
        "item_list = lies_soup.find_all('span', {'class': 'short-desc'})"
      ]
    },
    {
      "cell_type": "markdown",
      "metadata": {
        "id": "eEqleGfZcVdt"
      },
      "source": [
        "This returns a list of all tags that match the given criteria:"
      ]
    },
    {
      "cell_type": "code",
      "execution_count": 30,
      "metadata": {
        "id": "9Ze-CBtazVDX"
      },
      "outputs": [
        {
          "ename": "SyntaxError",
          "evalue": "invalid syntax (1110853626.py, line 1)",
          "output_type": "error",
          "traceback": [
            "\u001b[1;36m  Cell \u001b[1;32mIn[30], line 1\u001b[1;36m\u001b[0m\n\u001b[1;33m    item_list[0]s\u001b[0m\n\u001b[1;37m                ^\u001b[0m\n\u001b[1;31mSyntaxError\u001b[0m\u001b[1;31m:\u001b[0m invalid syntax\n"
          ]
        }
      ],
      "source": [
        "item_list[0]s"
      ]
    },
    {
      "cell_type": "code",
      "execution_count": null,
      "metadata": {
        "id": "nGDcBqvlzVDY"
      },
      "outputs": [],
      "source": [
        "item_list[5]"
      ]
    },
    {
      "cell_type": "markdown",
      "metadata": {
        "id": "XbPGIExdcVdt"
      },
      "source": [
        "The general structure of a single record is:\n",
        "\n",
        "```html\n",
        "<strong> DATE </strong> LIE <span class=\"short-truth\"><a href=\"URL\"> EXPLANATION </a></span>\n",
        "```\n",
        "\n",
        "\n",
        "Use `.find()` with the tag name `\"strong\"` to select the tag that contains the `DATE`:\n",
        "\n"
      ]
    },
    {
      "cell_type": "code",
      "execution_count": null,
      "metadata": {
        "id": "cZsLaC3bzVDY"
      },
      "outputs": [],
      "source": [
        "item_list[0].find(\"strong\")    # equivalently, item_list[0].select_one(\"strong\")"
      ]
    },
    {
      "cell_type": "markdown",
      "metadata": {
        "id": "qPNZcyEgcVdu"
      },
      "source": [
        "Then use `.get_text()` to extract only the text, with the `strip` option active to remove leading and trailing spaces:"
      ]
    },
    {
      "cell_type": "code",
      "execution_count": null,
      "metadata": {
        "id": "-VkbO3zpzVDY"
      },
      "outputs": [],
      "source": [
        "item_list[0].find(\"strong\").get_text(strip=True)"
      ]
    },
    {
      "cell_type": "markdown",
      "metadata": {
        "id": "pc-ZMS5ycVdu"
      },
      "source": [
        "Next, use `.contents` with list indexing to extract the `LIE`:"
      ]
    },
    {
      "cell_type": "code",
      "execution_count": null,
      "metadata": {
        "id": "XrAId62CzVDZ"
      },
      "outputs": [],
      "source": [
        "item_list[0].contents"
      ]
    },
    {
      "cell_type": "code",
      "execution_count": null,
      "metadata": {
        "id": "xpZEOKyczVDZ"
      },
      "outputs": [],
      "source": [
        "child_nodes = item_list[0].contents\n",
        "child_nodes[1][1:-2]"
      ]
    },
    {
      "cell_type": "markdown",
      "metadata": {
        "id": "DZzB9YSccVdu"
      },
      "source": [
        "For the `EXPLANATION`, select the text within the `<span>` tag, which is the 3rd child of the tag:"
      ]
    },
    {
      "cell_type": "code",
      "execution_count": null,
      "metadata": {
        "id": "5TAwBZFKcVdu",
        "outputId": "276010dc-6e5a-424d-ef86-0a764c914e63"
      },
      "outputs": [
        {
          "data": {
            "text/plain": [
              "'He was for an invasion before he was against it'"
            ]
          },
          "execution_count": 42,
          "metadata": {},
          "output_type": "execute_result"
        }
      ],
      "source": [
        "child_nodes[2].get_text(strip=True)[1:-2]"
      ]
    },
    {
      "cell_type": "markdown",
      "metadata": {
        "id": "rH6J0fAKcVdv"
      },
      "source": [
        "Note that the `URL` is an attribute (the `href` attribute) within the `<a>` tag.  We can access the tag's certain attribute with `get()`:\n"
      ]
    },
    {
      "cell_type": "code",
      "execution_count": null,
      "metadata": {
        "id": "d7ztio3wcVdv",
        "outputId": "e17c88ca-dbd6-4a13-a8e2-3ed7a751369b"
      },
      "outputs": [
        {
          "data": {
            "text/plain": [
              "'https://www.buzzfeed.com/andrewkaczynski/in-2002-donald-trump-said-he-supported-invading-iraq-on-the'"
            ]
          },
          "execution_count": 84,
          "metadata": {},
          "output_type": "execute_result"
        }
      ],
      "source": [
        "item_list[0].a.get('href')"
      ]
    },
    {
      "cell_type": "markdown",
      "metadata": {
        "id": "JkkZuvmxcVdv"
      },
      "source": [
        "Finally, we extend this process to all the rest of it using a `for` loop:"
      ]
    },
    {
      "cell_type": "code",
      "execution_count": null,
      "metadata": {
        "id": "bIFFwj-dcVdv"
      },
      "outputs": [],
      "source": [
        "date_list = []; lie_list = []; explanation_list = []; url_list = []\n",
        "\n",
        "for item in item_list:\n",
        "    first, middle, last = item.contents\n",
        "    date_list.append(first.get_text(strip=True))\n",
        "    lie_list.append(middle[1:-2])\n",
        "    explanation_list.append(last.get_text(strip=True)[1:-2])\n",
        "    url_list.append(item.find('a').get('href'))\n"
      ]
    },
    {
      "cell_type": "code",
      "execution_count": null,
      "metadata": {
        "id": "KBY1DK_WzVDa"
      },
      "outputs": [],
      "source": [
        "print(date_list)"
      ]
    },
    {
      "cell_type": "markdown",
      "metadata": {
        "id": "KeNYOUDpcVdw"
      },
      "source": [
        "We can now combine the data into a pandas `DataFrame` (a tabular data model that makes data manipulation and analysis easier):"
      ]
    },
    {
      "cell_type": "code",
      "execution_count": null,
      "metadata": {
        "id": "mry-Tl_fcVdw",
        "outputId": "c3ecb75a-7b8b-4137-d005-40eff8209779"
      },
      "outputs": [
        {
          "data": {
            "text/html": [
              "<div>\n",
              "<style scoped>\n",
              "    .dataframe tbody tr th:only-of-type {\n",
              "        vertical-align: middle;\n",
              "    }\n",
              "\n",
              "    .dataframe tbody tr th {\n",
              "        vertical-align: top;\n",
              "    }\n",
              "\n",
              "    .dataframe thead th {\n",
              "        text-align: right;\n",
              "    }\n",
              "</style>\n",
              "<table border=\"1\" class=\"dataframe\">\n",
              "  <thead>\n",
              "    <tr style=\"text-align: right;\">\n",
              "      <th></th>\n",
              "      <th>date</th>\n",
              "      <th>lie</th>\n",
              "      <th>explanation</th>\n",
              "      <th>url</th>\n",
              "    </tr>\n",
              "  </thead>\n",
              "  <tbody>\n",
              "    <tr>\n",
              "      <th>0</th>\n",
              "      <td>Jan. 21</td>\n",
              "      <td>I wasn't a fan of Iraq. I didn't want to go in...</td>\n",
              "      <td>He was for an invasion before he was against it</td>\n",
              "      <td>https://www.buzzfeed.com/andrewkaczynski/in-20...</td>\n",
              "    </tr>\n",
              "    <tr>\n",
              "      <th>1</th>\n",
              "      <td>Jan. 21</td>\n",
              "      <td>A reporter for Time magazine — and I have been...</td>\n",
              "      <td>Trump was on the cover 11 times and Nixon appe...</td>\n",
              "      <td>http://nation.time.com/2013/11/06/10-things-yo...</td>\n",
              "    </tr>\n",
              "    <tr>\n",
              "      <th>2</th>\n",
              "      <td>Jan. 23</td>\n",
              "      <td>Between 3 million and 5 million illegal votes ...</td>\n",
              "      <td>There's no evidence of illegal voting</td>\n",
              "      <td>https://www.nytimes.com/2017/01/23/us/politics...</td>\n",
              "    </tr>\n",
              "    <tr>\n",
              "      <th>3</th>\n",
              "      <td>Jan. 25</td>\n",
              "      <td>Now, the audience was the biggest ever. But th...</td>\n",
              "      <td>Official aerial photos show Obama's 2009 inaug...</td>\n",
              "      <td>https://www.nytimes.com/2017/01/21/us/politics...</td>\n",
              "    </tr>\n",
              "    <tr>\n",
              "      <th>4</th>\n",
              "      <td>Jan. 25</td>\n",
              "      <td>Take a look at the Pew reports (which show vot...</td>\n",
              "      <td>The report never mentioned voter fraud</td>\n",
              "      <td>https://www.nytimes.com/2017/01/24/us/politics...</td>\n",
              "    </tr>\n",
              "    <tr>\n",
              "      <th>...</th>\n",
              "      <td>...</td>\n",
              "      <td>...</td>\n",
              "      <td>...</td>\n",
              "      <td>...</td>\n",
              "    </tr>\n",
              "    <tr>\n",
              "      <th>175</th>\n",
              "      <td>Oct. 25</td>\n",
              "      <td>We have trade deficits with almost everybody.</td>\n",
              "      <td>We have trade surpluses with more than 100 cou...</td>\n",
              "      <td>https://www.bea.gov/newsreleases/international...</td>\n",
              "    </tr>\n",
              "    <tr>\n",
              "      <th>176</th>\n",
              "      <td>Oct. 27</td>\n",
              "      <td>Wacky &amp; totally unhinged Tom Steyer, who has b...</td>\n",
              "      <td>Steyer has financially supported many winning ...</td>\n",
              "      <td>https://www.opensecrets.org/donor-lookup/resul...</td>\n",
              "    </tr>\n",
              "    <tr>\n",
              "      <th>177</th>\n",
              "      <td>Nov. 1</td>\n",
              "      <td>Again, we're the highest-taxed nation, just ab...</td>\n",
              "      <td>We're not</td>\n",
              "      <td>http://www.politifact.com/truth-o-meter/statem...</td>\n",
              "    </tr>\n",
              "    <tr>\n",
              "      <th>178</th>\n",
              "      <td>Nov. 7</td>\n",
              "      <td>When you look at the city with the strongest g...</td>\n",
              "      <td>Several other cities, including New York and L...</td>\n",
              "      <td>http://www.politifact.com/truth-o-meter/statem...</td>\n",
              "    </tr>\n",
              "    <tr>\n",
              "      <th>179</th>\n",
              "      <td>Nov. 11</td>\n",
              "      <td>I'd rather have him  – you know, work with him...</td>\n",
              "      <td>There is no evidence that Democrats \"set up\" R...</td>\n",
              "      <td>https://www.nytimes.com/interactive/2017/12/10...</td>\n",
              "    </tr>\n",
              "  </tbody>\n",
              "</table>\n",
              "<p>180 rows × 4 columns</p>\n",
              "</div>"
            ],
            "text/plain": [
              "        date                                                lie  \\\n",
              "0    Jan. 21  I wasn't a fan of Iraq. I didn't want to go in...   \n",
              "1    Jan. 21  A reporter for Time magazine — and I have been...   \n",
              "2    Jan. 23  Between 3 million and 5 million illegal votes ...   \n",
              "3    Jan. 25  Now, the audience was the biggest ever. But th...   \n",
              "4    Jan. 25  Take a look at the Pew reports (which show vot...   \n",
              "..       ...                                                ...   \n",
              "175  Oct. 25      We have trade deficits with almost everybody.   \n",
              "176  Oct. 27  Wacky & totally unhinged Tom Steyer, who has b...   \n",
              "177   Nov. 1  Again, we're the highest-taxed nation, just ab...   \n",
              "178   Nov. 7  When you look at the city with the strongest g...   \n",
              "179  Nov. 11  I'd rather have him  – you know, work with him...   \n",
              "\n",
              "                                           explanation  \\\n",
              "0      He was for an invasion before he was against it   \n",
              "1    Trump was on the cover 11 times and Nixon appe...   \n",
              "2                There's no evidence of illegal voting   \n",
              "3    Official aerial photos show Obama's 2009 inaug...   \n",
              "4               The report never mentioned voter fraud   \n",
              "..                                                 ...   \n",
              "175  We have trade surpluses with more than 100 cou...   \n",
              "176  Steyer has financially supported many winning ...   \n",
              "177                                          We're not   \n",
              "178  Several other cities, including New York and L...   \n",
              "179  There is no evidence that Democrats \"set up\" R...   \n",
              "\n",
              "                                                   url  \n",
              "0    https://www.buzzfeed.com/andrewkaczynski/in-20...  \n",
              "1    http://nation.time.com/2013/11/06/10-things-yo...  \n",
              "2    https://www.nytimes.com/2017/01/23/us/politics...  \n",
              "3    https://www.nytimes.com/2017/01/21/us/politics...  \n",
              "4    https://www.nytimes.com/2017/01/24/us/politics...  \n",
              "..                                                 ...  \n",
              "175  https://www.bea.gov/newsreleases/international...  \n",
              "176  https://www.opensecrets.org/donor-lookup/resul...  \n",
              "177  http://www.politifact.com/truth-o-meter/statem...  \n",
              "178  http://www.politifact.com/truth-o-meter/statem...  \n",
              "179  https://www.nytimes.com/interactive/2017/12/10...  \n",
              "\n",
              "[180 rows x 4 columns]"
            ]
          },
          "execution_count": 18,
          "metadata": {},
          "output_type": "execute_result"
        }
      ],
      "source": [
        "import pandas as pd\n",
        "lie_df = pd.DataFrame({'date': date_list, 'lie': lie_list,\n",
        "                       'explanation': explanation_list, 'url': url_list})\n",
        "lie_df"
      ]
    },
    {
      "cell_type": "code",
      "execution_count": null,
      "metadata": {
        "id": "QijontFm0b5i"
      },
      "outputs": [
        {
          "ename": "NameError",
          "evalue": "name 'item_list' is not defined",
          "output_type": "error",
          "traceback": [
            "\u001b[1;31m---------------------------------------------------------------------------\u001b[0m",
            "\u001b[1;31mNameError\u001b[0m                                 Traceback (most recent call last)",
            "Cell \u001b[1;32mIn[1], line 6\u001b[0m\n\u001b[0;32m      1\u001b[0m \u001b[38;5;66;03m# alternatively, a row-based approach\u001b[39;00m\n\u001b[0;32m      3\u001b[0m all_records \u001b[38;5;241m=\u001b[39m []\n\u001b[1;32m----> 6\u001b[0m \u001b[38;5;28;01mfor\u001b[39;00m item \u001b[38;5;129;01min\u001b[39;00m \u001b[43mitem_list\u001b[49m:\n\u001b[0;32m      7\u001b[0m     first, middle, last \u001b[38;5;241m=\u001b[39m item\u001b[38;5;241m.\u001b[39mcontents\n\u001b[0;32m      8\u001b[0m     date \u001b[38;5;241m=\u001b[39m first\u001b[38;5;241m.\u001b[39mget_text(strip\u001b[38;5;241m=\u001b[39m\u001b[38;5;28;01mTrue\u001b[39;00m)\n",
            "\u001b[1;31mNameError\u001b[0m: name 'item_list' is not defined"
          ]
        }
      ],
      "source": [
        "# alternatively, a row-based approach\n",
        "\n",
        "all_records = []\n",
        "\n",
        "    \n",
        "for item in item_list:\n",
        "    first, middle, last = item.contents\n",
        "    date = first.get_text(strip=True)\n",
        "    lie = middle[1:-2]\n",
        "    explanation = last.get_text(strip=True)[1:-2]\n",
        "    url = item.find('a').get('href')\n",
        "    record = {'date': date, 'lie': lie, 'explanation': explanation, 'url': url}\n",
        "    all_records.append(record)\n",
        "\n",
        "lie_df = pd.DataFrame(all_records)"
      ]
    },
    {
      "cell_type": "markdown",
      "metadata": {
        "id": "cD3G0wjEcVdw"
      },
      "source": [
        "Save the output in the file system:"
      ]
    },
    {
      "cell_type": "code",
      "execution_count": null,
      "metadata": {
        "id": "g4qKJo9scVdw"
      },
      "outputs": [],
      "source": [
        "lie_df.to_csv('trump_lies.csv')"
      ]
    },
    {
      "cell_type": "markdown",
      "metadata": {
        "id": "YJXLgkizzVDd"
      },
      "source": [
        "---\n",
        "\n",
        "\n",
        "**<font color='steelblue' >Question</font>**:\n",
        "\n",
        "This time, extract the 4 pieces of information country by country, and combine them into a Pandas `DataFrame`.\n"
      ]
    },
    {
      "cell_type": "code",
      "execution_count": null,
      "metadata": {
        "id": "vtZ84KEczVDd"
      },
      "outputs": [],
      "source": [
        "# starter code\n",
        "import requests\n",
        "response = requests.get(\"https://justinjia.people.ust.hk/countries.html\", timeout=3)\n",
        "soup = BeautifulSoup(response.content, 'html.parser')\n",
        "\n",
        "# provide your code below\n",
        "\n",
        "\n"
      ]
    }
  ],
  "metadata": {
    "colab": {
      "provenance": []
    },
    "kernelspec": {
      "display_name": "Python 3 (ipykernel)",
      "language": "python",
      "name": "python3"
    },
    "language_info": {
      "codemirror_mode": {
        "name": "ipython",
        "version": 3
      },
      "file_extension": ".py",
      "mimetype": "text/x-python",
      "name": "python",
      "nbconvert_exporter": "python",
      "pygments_lexer": "ipython3",
      "version": "3.11.5"
    },
    "vscode": {
      "interpreter": {
        "hash": "ad2bdc8ecc057115af97d19610ffacc2b4e99fae6737bb82f5d7fb13d2f2c186"
      }
    }
  },
  "nbformat": 4,
  "nbformat_minor": 0
}
