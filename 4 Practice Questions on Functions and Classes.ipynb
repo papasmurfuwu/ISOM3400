{
 "cells": [
  {
   "cell_type": "markdown",
   "metadata": {
    "colab_type": "text",
    "id": "lJWZY1plAqW4"
   },
   "source": [
    "# Practice Questions on Functions and Classes\n",
    "\n",
    "For each question below, please write the corresponding code, and then run the code to show the output.\n",
    " "
   ]
  },
  {
   "cell_type": "markdown",
   "metadata": {
    "colab_type": "text",
    "id": "cZJPdCumFhRh"
   },
   "source": [
    "1) Create a function called `func_a`, which prints a message. \n",
    "\n",
    "- Call the function.\n",
    "- Assign the function object to a name `b`, without calling the function.\n",
    "- Now call the function using the name `b`."
   ]
  },
  {
   "cell_type": "code",
   "execution_count": 4,
   "metadata": {
    "colab": {},
    "colab_type": "code",
    "id": "JfKH9ycKFws8"
   },
   "outputs": [
    {
     "data": {
      "text/plain": [
       "'Hello World!'"
      ]
     },
     "execution_count": 4,
     "metadata": {},
     "output_type": "execute_result"
    }
   ],
   "source": [
    "def func_a():\n",
    "    return(\"Hello World!\")\n",
    "b = func_a\n",
    "b()\n"
   ]
  },
  {
   "cell_type": "markdown",
   "metadata": {
    "colab_type": "text",
    "id": "rY3jLQT66i6u"
   },
   "source": [
    "2)  Create a function called `hypotenuse`, which takes two numbers as inputs and prints the square root of the sum of their squares. Call this function with two floats, with two integers, and with one integer and one float sequentially."
   ]
  },
  {
   "cell_type": "code",
   "execution_count": 23,
   "metadata": {
    "colab": {},
    "colab_type": "code",
    "id": "YIHeZovtFB5-"
   },
   "outputs": [
    {
     "name": "stdout",
     "output_type": "stream",
     "text": [
      "10.0\n",
      "10.0\n",
      "10.0\n"
     ]
    }
   ],
   "source": [
    "def hypotenuse(a, b):\n",
    "    c = (a**2 + b**2)**0.5\n",
    "    print(c)  \n",
    "hypotenuse(6.0, 8.0)  # Output: 10.0\n",
    "hypotenuse(6, 8)      # Output: 10.0\n",
    "hypotenuse(6, 8.0)    # Output: 10.0"
   ]
  },
  {
   "cell_type": "markdown",
   "metadata": {
    "colab_type": "text",
    "id": "OmPgfLUF6wH1"
   },
   "source": [
    "3) Rewrite the `hypotenuse` function from above so that it returns a value instead of printing it. Add exception handling so that the function returns `None` if it is called with inputs of the wrong type. Call the function with two numbers, with two strings, and with a number and a string sequentially."
   ]
  },
  {
   "cell_type": "code",
   "execution_count": 21,
   "metadata": {
    "colab": {},
    "colab_type": "code",
    "id": "G1P3ZFVTFC4A"
   },
   "outputs": [
    {
     "name": "stdout",
     "output_type": "stream",
     "text": [
      "10.0\n",
      "None\n"
     ]
    }
   ],
   "source": [
    "def hypotenuse(a, b):\n",
    "    try:\n",
    "        a = float(a)\n",
    "        b = float(b)\n",
    "        c = (a**2 + b**2)**0.5\n",
    "        return c \n",
    "    except ValueError: \n",
    "        return None\n",
    "\n",
    "print(hypotenuse(6, 8))\n",
    "print(hypotenuse('six', 8))"
   ]
  },
  {
   "cell_type": "markdown",
   "metadata": {
    "colab_type": "text",
    "id": "z2qFugAn7Ml2"
   },
   "source": [
    "4) Write a function called `calculator`. It should take the following arguments: two numbers and an arithmetic operation (which can be addition, subtraction, multiplication or division and is addition by default). Raise exceptions as appropriate if any of the arguments passed to the function are invalid.\n",
    "\n",
    "Call the function with the following sets of arguments, and check that the answer is what you expect:\n",
    "\n",
    "- `2`, `3.0`\n",
    "- `2`, `3.0`, operation is division\n"
   ]
  },
  {
   "cell_type": "code",
   "execution_count": null,
   "metadata": {
    "colab": {},
    "colab_type": "code",
    "id": "xi9_Be44FDzT"
   },
   "outputs": [],
   "source": []
  },
  {
   "cell_type": "markdown",
   "metadata": {
    "colab_type": "text",
    "id": "5EUvQDke-QrA"
   },
   "source": [
    "5) Rewrite the `calculator` function from above so that it takes any number of numeric arguments as well as the same optional keyword argument. The function should apply the operation to the first two numbers, and then apply it again to the result and the next number, and so on. \n",
    "\n",
    "For example, if the numbers are `6`, `4`, `9` and `1` and the operation is subtraction the function should return `6 - 4 - 9 - 1`. If only one number is entered, it should be returned unmodified. If no numbers are entered, raise an exception."
   ]
  },
  {
   "cell_type": "code",
   "execution_count": null,
   "metadata": {
    "colab": {},
    "colab_type": "code",
    "id": "NlHjH0-kFM8C"
   },
   "outputs": [],
   "source": []
  },
  {
   "cell_type": "markdown",
   "metadata": {
    "colab_type": "text",
    "id": "qLTp2bL0FOXj"
   },
   "source": [
    "6) Define the following functions as `lambda`s, and assign them to names:\n",
    "\n",
    "- Take one argument; return its square\n",
    "- Take two arguments; return the square root of the sums of their squares\n",
    "- Take any number of arguments; return their average\n",
    "- Take a string argument; return a collection which contains the unique letters in the input string (in any order)"
   ]
  },
  {
   "cell_type": "code",
   "execution_count": null,
   "metadata": {},
   "outputs": [],
   "source": []
  },
  {
   "cell_type": "markdown",
   "metadata": {
    "colab_type": "text",
    "id": "-rx1TWEIAqW5"
   },
   "source": [
    "7) Define a function that could convert temperature from fahrenheit to celsius, round it to two decimal points, and return the converted temperature. \n",
    "\n",
    "After defining the function, call it to convert `101.5` fahrenheit to celsius, the result should be: `38.61`"
   ]
  },
  {
   "cell_type": "code",
   "execution_count": null,
   "metadata": {
    "colab": {},
    "colab_type": "code",
    "id": "CioCxVfSH0l-"
   },
   "outputs": [],
   "source": []
  },
  {
   "cell_type": "markdown",
   "metadata": {
    "colab_type": "text",
    "id": "ekZ3mnacAqW7"
   },
   "source": [
    "8) Define your own min and max function, such that when users call the function with a series of numbers and whether they want mininum or maximum of these numbers. Set the default value to be `'max'`, but users can choose to input `'min'` when calling the function. The function will return the desired mininum or maximum number out of the numbers. If a user provides neither `'max'` nor `'min'` when calling the function, print `Wrong call!`. \n",
    "\n",
    "For example, calling `min_max(5, 2, 2, 0, -6, -22, 77)` returns `77`."
   ]
  },
  {
   "cell_type": "code",
   "execution_count": null,
   "metadata": {
    "colab": {},
    "colab_type": "code",
    "id": "RvftHWXxH1Rg"
   },
   "outputs": [],
   "source": []
  },
  {
   "cell_type": "markdown",
   "metadata": {
    "colab_type": "text",
    "id": "eYX2pwt3AqW8"
   },
   "source": [
    "9) Define a function that will return a list of $n$ numbers, such that except for the first two numbers, which are set to be 1 and 1, the rest of the numbers are sum of the previous two numbers. For example, such a list will be `1, 1, 2, 3, 5, 8, 13 ,21, 34...` (when $n = 9$) "
   ]
  },
  {
   "cell_type": "code",
   "execution_count": null,
   "metadata": {
    "colab": {},
    "colab_type": "code",
    "id": "t1Iv4qHIIauM"
   },
   "outputs": [],
   "source": []
  },
  {
   "cell_type": "markdown",
   "metadata": {
    "colab_type": "text",
    "id": "SfA2DSP1AqW9"
   },
   "source": [
    "10) Define a function that can draw a horizontal histogram based on any number of integers (between 0 to 9) inputted. For example, providing the following numbers as the arguments: `4, 6, 4, 7, 0, 5, 7, 5, 3, 4, 4, 3, 2, 1, 3, 4, 5, 6, 7, 9` prints out a histogram based on the frequency of each integer in sorted order as follows:\n",
    "\n",
    "```python\n",
    "0\n",
    "1\n",
    "2\n",
    "333\n",
    "44444\n",
    "555\n",
    "66\n",
    "777\n",
    "9\n",
    "```"
   ]
  },
  {
   "cell_type": "markdown",
   "metadata": {
    "colab_type": "text",
    "id": "L3S8I_rYAqW-"
   },
   "source": [
    "11) Define a function that accepts a sequence of numbers, and then raise all numbers to a designated power (usually by 2, which is the default), then return a new list as the output. \n",
    "\n",
    "After defining the function, call it with these numbers: `1, 3, 5`, raised to the power of 2; and then to the power of 3 for each element. So the printout would be `[1, 9, 25]` for power 2, and `[1, 27, 125]` for power 3 (i.e., call the function twice). "
   ]
  },
  {
   "cell_type": "markdown",
   "metadata": {
    "colab_type": "text",
    "id": "6EzgC8LVAqW_"
   },
   "source": [
    "## Questions 12-15 are about an McDonald's order function"
   ]
  },
  {
   "cell_type": "markdown",
   "metadata": {
    "colab_type": "text",
    "id": "WU7FICisAqW_"
   },
   "source": [
    "Please see **function** below that can take some simple McDonald's orders. Assume that each other has a required argument order_id (integers starting from 1), and about 35% the orders at UST have the following three items: a fish burger, coke, and medium size fries, which can be set as default arguments. Other items on each order vary a lot. But note that some extra items are single items, such as harsh browns, or twist cone, while other extra items may have different flavor options, such as corn pie and apple pie for pies. \n",
    "\n",
    "Given the definition of the function below, try to make a few orders by calling this function with different arguments in the following questions. "
   ]
  },
  {
   "cell_type": "code",
   "execution_count": null,
   "metadata": {
    "colab": {},
    "colab_type": "code",
    "id": "2qOSOE3iAqXA"
   },
   "outputs": [],
   "source": [
    "def order(order_id, *extra, burger=\"fish\", drink=\"coke\", fries = \"M\", **others): \n",
    "    print(\"Order \"+ str(order_id)+ \":\", burger, \"burger;\", drink+\";\", fries, 'fries', extra, others)"
   ]
  },
  {
   "cell_type": "markdown",
   "metadata": {
    "colab_type": "text",
    "id": "PBC-sRZjAqXD"
   },
   "source": [
    "12) Order ID 1 contains the following food: a fish burger, coke, a medium size fries, and a strawberry sundae. The printout should be: \n",
    "\n",
    "`Order 1: fish burger; coke; M fries () {'Sundae': 'strawberry'}`"
   ]
  },
  {
   "cell_type": "markdown",
   "metadata": {
    "colab_type": "text",
    "id": "WKYS-A4AAqXE"
   },
   "source": [
    "13) Order ID 2 contains the following food: a chicken burger, coke, a small size fries, a twist cone, an apple pie, and a strawberry shake. The printout should be \n",
    "\n",
    "`Order 2: chicken burger; coke; S fries ('twist cone',) {'Pie': 'apple', 'Shake': 'strawberry'}`"
   ]
  },
  {
   "cell_type": "markdown",
   "metadata": {
    "colab_type": "text",
    "id": "nrczLG5RAqXF"
   },
   "source": [
    "14) Order ID 3 contains the following food: orange juice, a fish burger, harsh browns, a twist cone, and a corn pie. The printout should be \n",
    "\n",
    "`Order 3: fish burger; Orange juice; None fries ('harshbrown', 'twist cone') {'Pie': 'corn'}`"
   ]
  },
  {
   "cell_type": "markdown",
   "metadata": {
    "colab_type": "text",
    "id": "mCVeX479AqXG"
   },
   "source": [
    "15) Now define a class called `Ordered_Item`, which has 3 data attributes: `name`, `price`, and `quantity`, and 1 function attribute `print_item` which prints this ordered item's name, price, quantity, and total. \n",
    "\n",
    "After defining the class, use the following code to call the function, and you should get output as follows: \n",
    "\n",
    "```python\n",
    "item1 = Ordered_Item(\"fish burger\", 11.25, 2)\n",
    "item1.print_item()\n",
    "```\n",
    "`fish burger $11.25 Quantity: 2 Total = $22.5`"
   ]
  },
  {
   "cell_type": "code",
   "execution_count": null,
   "metadata": {
    "colab": {},
    "colab_type": "code",
    "id": "yGaP-0ehAqXH"
   },
   "outputs": [],
   "source": []
  },
  {
   "cell_type": "markdown",
   "metadata": {
    "colab_type": "text",
    "id": "MOgffr7bA1-e"
   },
   "source": [
    "16) **Yang Hui Triangle**. Define a function `YangHuiTriangle(n)` that will print a yang hui triangle with n levels (n=6 in the example below):\n",
    "\n",
    "```python\n",
    "[1]\n",
    "[1, 1]\n",
    "[1, 2, 1]\n",
    "[1, 3, 3, 1]\n",
    "[1, 4, 6, 4, 1]\n",
    "[1, 5, 10, 10, 5, 1]\n",
    "[1, 6, 15, 20, 15, 6, 1]\n",
    "```\n",
    "\n",
    "\n",
    "Observe the triangle carefully and you will notice three things: \n",
    "\n",
    "- the numbers in the first two lines are given, rather than derived from any algorithem; \n",
    "- starting the third line, each number is the sum of two numbers in the line above, e.g. line6: `[1, 5, 10, 10, 5, 1]`:\n",
    "    - the second element 5 is the sum of the previous line's elements 1 and 4;\n",
    "    - the third element 10 is the sum of the previous line's elements 4 and 6;\n",
    "    - the fourth element *10* is the sum of the previous line's elements 6 and 4, etc.\n",
    "- the first and the last number on each line are set to be 1.\n",
    "\n",
    "If the input argument `n` is not positive integer, print a message \n",
    "\n",
    "```\n",
    "A positive integer n is required for YangHuiTriangle\n",
    "```"
   ]
  },
  {
   "cell_type": "code",
   "execution_count": null,
   "metadata": {
    "colab": {},
    "colab_type": "code",
    "id": "LNl_FU0bA038"
   },
   "outputs": [],
   "source": [
    "def YangHuiTriangle(n):\n",
    "    triangle = []\n",
    "    if n < 1 or type(n) != int:\n",
    "        \n",
    "        \n",
    "    if n >= 1:\n",
    "        \n",
    "        \n",
    "    \n",
    "    if n >= 2:\n",
    "        \n",
    "        \n",
    "        \n",
    "        \n",
    "    print(*triangle, sep='\\n')"
   ]
  },
  {
   "cell_type": "markdown",
   "metadata": {
    "colab_type": "text",
    "id": "GsACNgOTAJo-"
   },
   "source": [
    "17) Write a function `matrixConstructor` which can take up to 5 integer arguments: `m` (required), `n` (required), `args` (1 to 3 element(s)) to construct a $m \\times n$ matrix (nested list).\n",
    "\n",
    "The elements used to construct the matrix are generated based on args.\n",
    "- If no input for `args`, print a message \n",
    "```\n",
    "matrixConstructor expected to take at lease 1 'args' arguments, got 0\n",
    "```\n",
    "- If only 1 integer is provided to `args`, the sequence of integers starts from 0 and ends with integer-1 with step = 1, i.e. `range(args)`.\n",
    "\n",
    "- If 2 integers are provided to `args`, the sequence of integers starts from the first integer in `args` to the second integer in `args` - 1 with step = 1, i.e. `range(arg1, arg2)`.\n",
    "\n",
    "- Otherwise, the sequence of integers starts from the first integer in `args` to the second integer in `args` -1 with step = the third integer, i.e. `range(arg1, arg2, arg3)`.\n"
   ]
  },
  {
   "cell_type": "markdown",
   "metadata": {
    "colab_type": "text",
    "id": "QvsoefPdLB0W"
   },
   "source": [
    "\n",
    "## Read and run the following code and answer questions 18-19:\n"
   ]
  },
  {
   "cell_type": "code",
   "execution_count": null,
   "metadata": {
    "colab": {},
    "colab_type": "code",
    "id": "zab3GYG4LFDp"
   },
   "outputs": [],
   "source": [
    "import datetime     # we will use this for date objects\n",
    "\n",
    "class Person:\n",
    "\n",
    "    def __init__(self, name, surname, birthdate, address, telephone, email):\n",
    "        self.name = name\n",
    "        self.surname = surname\n",
    "        self.birthdate = birthdate\n",
    "\n",
    "        self.address = address\n",
    "        self.telephone = telephone\n",
    "        self.email = email\n",
    "\n",
    "    def age(self):\n",
    "        today = datetime.date.today()             # return a date object\n",
    "        age = today.year - self.birthdate.year     \n",
    "\n",
    "        if today < datetime.date(today.year, self.birthdate.month, self.birthdate.day):\n",
    "            age -= 1\n",
    "\n",
    "        return age\n",
    "\n",
    "person = Person(\n",
    "    \"Jane\",\n",
    "    \"Doe\",\n",
    "    datetime.date(1992, 3, 12),          # create a date object by providing year, month, and day\n",
    "    \"No. 12 Short Street, Greenville\",\n",
    "    \"555 456 0987\",\n",
    "    \"jane.doe@example.com\"\n",
    ")"
   ]
  },
  {
   "cell_type": "markdown",
   "metadata": {
    "colab_type": "text",
    "id": "iu0UFUWwMOBS"
   },
   "source": [
    "18)  Explain what the following variables refer to, and their scope (in which namespace):\n",
    "\n",
    "- `Person`\n",
    "- `person`\n",
    "- `surname`\n",
    "- `self`\n",
    "- `age` (the function name)\n",
    "- `age` (the variable used inside the function)\n",
    "- `self.email`\n",
    "- `person.email`"
   ]
  },
  {
   "cell_type": "code",
   "execution_count": null,
   "metadata": {
    "colab": {},
    "colab_type": "code",
    "id": "oQN2M9jALbWz"
   },
   "outputs": [],
   "source": []
  },
  {
   "cell_type": "markdown",
   "metadata": {
    "colab_type": "text",
    "id": "EybxwIQiM-2E"
   },
   "source": [
    "19) Rewrite the `Person` class so that a person's age is calculated for the first time when a new person instance is created, and recalculated (when it is requested) if the day has changed since the last time that it was calculated.\n",
    "\n",
    "Hint: define a function attribute `recalculate_age` and use an instance attribute `age_last_recalculated` to record the last time the age was calculated."
   ]
  },
  {
   "cell_type": "markdown",
   "metadata": {
    "colab_type": "text",
    "id": "OMt5lCulOBcV"
   },
   "source": [
    "20) Explain the differences between the attributes `name`, `surname` and `profession`, and what values they can have in different instances of this class:\n",
    "\n",
    "```python\n",
    "class Smith:\n",
    "    surname = \"Smith\"\n",
    "    profession = \"smith\"\n",
    "\n",
    "    def __init__(self, name, profession=None):\n",
    "        self.name = name\n",
    "        if profession is not None:\n",
    "            self.profession = profession\n",
    "```            "
   ]
  },
  {
   "cell_type": "code",
   "execution_count": null,
   "metadata": {
    "colab": {},
    "colab_type": "code",
    "id": "o2q36lInOg06"
   },
   "outputs": [],
   "source": []
  },
  {
   "cell_type": "markdown",
   "metadata": {
    "colab_type": "text",
    "id": "eeIW4NWZOhdF"
   },
   "source": [
    "21) Create a class called `Numbers`, which has a single class attribute called `MULTIPLIER`, and an initializer which has the parameters `x` and `y` (these should all be numbers).\n",
    "\n",
    "- Write a function attribute called `add` which returns the sum of the attributes `x` and `y`.\n",
    "- Write a function attribute called `multiply`, which has a single number parameter `a` and returns the product of `a` and `MULTIPLIER`.\n",
    "- Write a function attribute called `subtract`, which has two number parameters, `b` and `c`, and returns `b - c`.\n"
   ]
  }
 ],
 "metadata": {
  "colab": {
   "collapsed_sections": [],
   "name": "4 Extra Exercises on Functions and Classes.ipynb",
   "provenance": []
  },
  "kernelspec": {
   "display_name": "Python 3",
   "language": "python",
   "name": "python3"
  },
  "language_info": {
   "codemirror_mode": {
    "name": "ipython",
    "version": 3
   },
   "file_extension": ".py",
   "mimetype": "text/x-python",
   "name": "python",
   "nbconvert_exporter": "python",
   "pygments_lexer": "ipython3",
   "version": "3.11.5"
  }
 },
 "nbformat": 4,
 "nbformat_minor": 1
}
