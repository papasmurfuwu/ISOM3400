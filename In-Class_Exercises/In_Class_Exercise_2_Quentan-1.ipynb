{
  "cells": [
    {
      "cell_type": "markdown",
      "metadata": {
        "id": "buh8GAO7FdP_"
      },
      "source": [
        "# Exercise on Dictionaries and Control Structures\n"
      ]
    },
    {
      "cell_type": "markdown",
      "metadata": {
        "id": "lLEIDcjy8D3R"
      },
      "source": [
        "## Section 1: Warm-up Questions\n",
        "\n",
        "Each multiple choice has a **SINGLE** correct answer unless explicitly stated otherwise. Put **x** inside **[ ]** to mark your choice."
      ]
    },
    {
      "cell_type": "markdown",
      "metadata": {
        "id": "b9099EkJ_fYG"
      },
      "source": [
        "**Question 1**\n",
        "\n",
        " Given\n",
        "\n",
        "```python\n",
        "a = {'first': 'third', 'second': {0: False, 1: True}, 'third': [True, False, 0], 0: {0, 1, 2}}\n",
        "```\n",
        "\n",
        "Which of the following will output `0`?\n",
        "\n",
        "\n",
        "- [ ] A. `a[0]`\n",
        "- [X] B. `a[a['first']][2]`\n",
        "- [ ] C. `a['second'][0]`\n",
        "- [ ] D. `a[0][0]`"
      ]
    },
    {
      "cell_type": "markdown",
      "metadata": {
        "id": "utLx9BcK6ojE"
      },
      "source": [
        "\n",
        "**Question 2**\n",
        "\n",
        "What's printed when `x = 0` and `y = 5`?\n",
        "\n",
        "```python\n",
        "x = float(input(\"Enter a number for x: \"))\n",
        "y = float(input(\"Enter a number for y: \"))\n",
        "if x == y:\n",
        "    if y != 0:\n",
        "        print(\"x / y is\", x/y)\n",
        "elif x < y:\n",
        "    print(\"x is smaller\")\n",
        "else:\n",
        "    print(\"y is smaller\")\n",
        "```\n",
        "\n",
        "- [X] `x is smaller`\n",
        "- [ ] `y is smaller`\n",
        "- [ ] `x / y is 0.0`\n",
        "- [ ] `x / y is 0`\n",
        "\n"
      ]
    },
    {
      "cell_type": "markdown",
      "metadata": {
        "id": "D1d_VnbS7Hkm"
      },
      "source": [
        "**Question 3**\n",
        "\n",
        "What is printed when the below code is run?\n",
        "\n",
        "```python\n",
        "sounds = {'sound1': 'meow', 'sound2': 'woof', 'sound3': 'quack'}\n",
        "\n",
        "if 'meow' in sounds:\n",
        "    print('meow1', end='\\t')\n",
        "if 'woof' in sounds.values():\n",
        "    print('woof', end='\\t')\n",
        "elif 'meow' in sounds.values():   \n",
        "    print('meow2', end='\\t')\n",
        "else: print('quack', end='\\t')\n",
        "```\n",
        "\n",
        "- [ ] `meow1    woof    meow2`\n",
        "- [ ] `woof    meow2`\n",
        "- [X] `woof`\n",
        "- [ ] `meow1`\n",
        "\n",
        "\n"
      ]
    },
    {
      "cell_type": "markdown",
      "metadata": {
        "id": "XPB097-i_fYJ"
      },
      "source": [
        "**Question 4**\n",
        "\n",
        "Suppose we have two variables defined as follows:\n",
        "\n",
        "```python\n",
        "a = {1: 'one', 2: 'two', 3: 'three'}\n",
        "b = 'python'\n",
        "```\n",
        "\n",
        "What will be the output of `list(zip(a, b))`?\n",
        "\n",
        "- [ ] An error message due to unmatched lengths\n",
        "- [ ] `[('one', 'python'), ('two', 'python'), ('three', 'python')]`\n",
        "- [X] `[(1, 'p'), (2, 'y'), (3, 't')]`\n",
        "- [ ] `[('one', 'p'), ('two', 'y'), ('three', 't')]`\n"
      ]
    },
    {
      "cell_type": "markdown",
      "metadata": {
        "id": "44aoBngv_fYK"
      },
      "source": [
        "**Question 5**\n",
        "\n",
        "\n",
        "Consider a nested dictionary representing gradebooks of different ISOM courses:\n",
        "\n",
        "```python\n",
        "gradebooks = {'Business Analytics': {'Alice': 95, 'Troy': 92},\n",
        "              'Python Programming': {'James': 89, 'Charles': 100, 'Bryn': 69, 'Alice': 100},\n",
        "              'Artificial Intelligence': {'Troy': 93, 'James': 100, 'Charles': 88}}\n",
        "```\n",
        "\n",
        "- Use a dictionary comprehension to create a dictionary with each entry representing a course and the maximum score for that course. The result should look like (the order of entries may vary with respect to the Python version you use):\n",
        "\n",
        "```python\n",
        "{'Business Analytics': 95, 'Python Programming': 100, 'Artificial Intelligence': 100}\n",
        "```\n",
        "\n",
        "\n"
      ]
    },
    {
      "cell_type": "code",
      "execution_count": 21,
      "metadata": {
        "colab": {
          "base_uri": "https://localhost:8080/"
        },
        "id": "prO6_oAv_fYL",
        "outputId": "6a0d0571-3ee5-40ac-ed85-06e419b2eee7"
      },
      "outputs": [
        {
          "name": "stdout",
          "output_type": "stream",
          "text": [
            "{'Business Analytics': 95, 'Python Programming': 100, 'Artificial Intelligence': 100}\n"
          ]
        }
      ],
      "source": [
        "gradebooks = {'Business Analytics': {'Alice': 95, 'Troy': 92},\n",
        "              'Python Programming': {'James': 89, 'Charles': 100, 'Bryn': 69, 'Alice': 100},\n",
        "              'Artificial Intelligence': {'Troy': 93, 'James': 100, 'Charles': 88}}\n",
        "\n",
        "\n",
        "# Write your code below\n",
        "max_scores = {key: max(value.values()) for key, value in gradebooks.items()}\n",
        "print(max_scores)\n",
        "\n",
        "\n",
        "\n",
        "\n"
      ]
    },
    {
      "cell_type": "markdown",
      "metadata": {
        "id": "EmBUV9Bu_fYM"
      },
      "source": [
        "- Write a (possibly nested) for loop to create a dictionary with each entry representing a course and all students receiving the maximum score for that course. The result should be\n",
        "\n",
        "```python\n",
        "{'Business Analytics': ['Alice'], 'Python Programming': ['Charles', 'Alice'], 'Artificial Intelligence': ['James']}\n",
        "```\n"
      ]
    },
    {
      "cell_type": "code",
      "execution_count": 22,
      "metadata": {
        "colab": {
          "base_uri": "https://localhost:8080/"
        },
        "id": "NN90UT4p_fYN",
        "outputId": "acbfe6a4-a9f6-4c01-985b-bbdbb2b4d357"
      },
      "outputs": [
        {
          "name": "stdout",
          "output_type": "stream",
          "text": [
            "{'Business Analytics': ['Alice'], 'Python Programming': ['Charles', 'Alice'], 'Artificial Intelligence': ['James']}\n"
          ]
        }
      ],
      "source": [
        "# Write your code below\n",
        "max_scores_students = {}\n",
        "for key, value in gradebooks.items():\n",
        "    max_score = max(value.values())\n",
        "    max_score_students = [student for student, score in value.items() if score == max_score]\n",
        "    max_scores_students[key] = max_score_students\n",
        "\n",
        "print(max_scores_students)\n",
        "\n",
        "\n"
      ]
    },
    {
      "cell_type": "markdown",
      "metadata": {
        "id": "tBEWecgt_fYO"
      },
      "source": [
        "**Question 6**\n",
        "\n",
        "\n",
        "\n",
        "Suppose a music streaming service uses two lists to maintain a user's favorite songs and the corresponding ratings, respectively:\n",
        "\n",
        "```python\n",
        "songs = ['Back to Black', 'Poker Face', 'Yellow', 'Lolipop', 'All Too Well', 'Delicate', 'Moves Like Jagger']\n",
        "ratings = [9.5, 8, 9, 8, 10, 7.5, 8]\n",
        "```\n",
        "\n",
        "Write code to create a playlist, which orders the user's favorite songs based on their ratings. And if a tie is observed, include the lastest one first (the one closest to the end of the list).\n",
        "\n",
        "The expected output should look like the following:\n",
        "\n",
        "```python\n",
        "['All Too Well', 'Back to Black', 'Yellow', 'Moves Like Jagger', 'Lolipop', 'Poker Face', 'Delicate']\n",
        "```\n",
        "\n",
        "\n"
      ]
    },
    {
      "cell_type": "code",
      "execution_count": 23,
      "metadata": {
        "colab": {
          "base_uri": "https://localhost:8080/"
        },
        "id": "zFxWQSot_fYO",
        "outputId": "2b37e372-dca3-4406-b4f2-1cd43fe543b4"
      },
      "outputs": [
        {
          "name": "stdout",
          "output_type": "stream",
          "text": [
            "['All Too Well', 'Back to Black', 'Yellow', 'Poker Face', 'Lolipop', 'Moves Like Jagger', 'Delicate']\n"
          ]
        }
      ],
      "source": [
        "songs = ['Back to Black', 'Poker Face', 'Yellow', 'Lolipop', 'All Too Well', 'Delicate', 'Moves Like Jagger']\n",
        "ratings = [9.5, 8, 9, 8, 10, 7.5, 8]\n",
        "\n",
        "# Write your code below\n",
        "playlist = [(rating, index, song) for index, (song, rating) in enumerate(zip(songs, ratings))]\n",
        "playlist.sort(key=lambda x: (-x[0], x[1]))\n",
        "sorted_songs = [song for rating, index, song in playlist]\n",
        "print(sorted_songs)\n"
      ]
    },
    {
      "cell_type": "markdown",
      "metadata": {
        "id": "SEk7SnrK7wGH"
      },
      "source": [
        "---\n",
        "\n",
        "\n",
        "\n",
        "## Section 2\n",
        "\n",
        "\n",
        "For each question below, please write the corresponding code and then run the code to show the output."
      ]
    },
    {
      "cell_type": "markdown",
      "metadata": {
        "id": "aU9V2bkn_fYP"
      },
      "source": [
        "**Question 1**\n",
        "\n",
        "Assume you are creating a map for a game scene, and you plan to use a dictionary to store the coordinates of the items on the screen, for example, at coordinate (1, 3) there is a tree; at coordinate (4, 8) there is a bird, etc. In Python, you decide to use a dictionary to represent the map and call it `dicmap`:\n",
        "\n",
        "```python\n",
        "dicmap = {(4, 8): 'Bird', (2, 2): 'Pond', (6, 2): 'Dog', (9, 3): 'Frog', (7, 1): 'Dog', (8, 4): 'Cat', (1, 3): 'Tree' }\n",
        "```\n",
        "\n",
        "- Find out what item is at coordinate (2, 2).\n",
        "\n"
      ]
    },
    {
      "cell_type": "code",
      "execution_count": 24,
      "metadata": {
        "colab": {
          "base_uri": "https://localhost:8080/"
        },
        "id": "Az8x7w5v_fYP",
        "outputId": "245b9a25-3497-4dd1-ce0c-dea4f09e4ce0"
      },
      "outputs": [
        {
          "name": "stdout",
          "output_type": "stream",
          "text": [
            "Pond\n"
          ]
        }
      ],
      "source": [
        "dicmap = {(4, 8): 'Bird', (2, 2): 'Pond', (6, 2): 'Dog', (9, 3): 'Frog', (7, 1): 'Dog', (8, 4): 'Cat', (1, 3): 'Tree' }\n",
        "\n",
        "# Write your code below\n",
        "print(dicmap[(2, 2)])\n",
        "\n"
      ]
    },
    {
      "cell_type": "markdown",
      "metadata": {
        "id": "_RSeBtxg_fYQ"
      },
      "source": [
        "- Replace the item at coordinate (8, 4) with `'Dog'`.\n"
      ]
    },
    {
      "cell_type": "code",
      "execution_count": 25,
      "metadata": {
        "id": "Sck0bmB2_fYQ"
      },
      "outputs": [],
      "source": [
        "# Write your code below\n",
        "dicmap[(8, 4)] = 'Dog'\n",
        "\n"
      ]
    },
    {
      "cell_type": "markdown",
      "metadata": {
        "id": "ZZ32IWjL_fYQ"
      },
      "source": [
        "-  Use a **list comprehension** to find out how many dogs there are on the map using the updated `dicmap`.\n"
      ]
    },
    {
      "cell_type": "code",
      "execution_count": 26,
      "metadata": {
        "colab": {
          "base_uri": "https://localhost:8080/"
        },
        "id": "_94OvASQ_fYQ",
        "outputId": "2a79041a-7421-456f-ebb2-28adce1849f7"
      },
      "outputs": [
        {
          "data": {
            "text/plain": [
              "3"
            ]
          },
          "execution_count": 26,
          "metadata": {},
          "output_type": "execute_result"
        }
      ],
      "source": [
        "# Write your code below\n",
        "dog_count = [key for key, value in dicmap.items() if value == 'Dog']\n",
        "len(dog_count)\n",
        "\n",
        "\n"
      ]
    },
    {
      "cell_type": "markdown",
      "metadata": {
        "id": "0ufc-DQO_fYQ"
      },
      "source": [
        "- Find out the coordinate of the 2nd `'Dog'` in the dictionary.\n",
        "    - Hint: first use a list comprehension to select all coordinates where a dog is located."
      ]
    },
    {
      "cell_type": "code",
      "execution_count": 27,
      "metadata": {
        "colab": {
          "base_uri": "https://localhost:8080/"
        },
        "id": "ERvGY7Vb_fYR",
        "outputId": "c80e714d-3ecd-4806-b89b-557dd2d9126f"
      },
      "outputs": [
        {
          "data": {
            "text/plain": [
              "(7, 1)"
            ]
          },
          "execution_count": 27,
          "metadata": {},
          "output_type": "execute_result"
        }
      ],
      "source": [
        "# Write your code below\n",
        "dog_count[1]\n",
        "\n"
      ]
    },
    {
      "cell_type": "markdown",
      "metadata": {
        "id": "W4iJsabYZyDG"
      },
      "source": [
        "**Question 2**\n",
        "\n",
        "Given a sentence:\n",
        "\n",
        "```python\n",
        "s = \"python is a high-level language for general-purpose programming\"\n",
        "```\n",
        "Use a comprehension to find the index numbers of all `'a'`s. This problem presents a common data analysis task with textual data. The expected output is\n",
        "\n",
        "```\n",
        "[10, 24, 28, 41, 57]\n",
        "```\n",
        "\n",
        "Hint: `enumerate()`.\n",
        "\n",
        "\n",
        "    \n"
      ]
    },
    {
      "cell_type": "code",
      "execution_count": 28,
      "metadata": {
        "colab": {
          "base_uri": "https://localhost:8080/"
        },
        "id": "ijrn5EG9_fYR",
        "outputId": "89fba1a3-7a10-4b5c-c6c5-b7a0e1ff15f1"
      },
      "outputs": [
        {
          "name": "stdout",
          "output_type": "stream",
          "text": [
            "[10, 24, 28, 41, 57]\n"
          ]
        }
      ],
      "source": [
        "s = \"python is a high-level language for general-purpose programming\"\n",
        "\n",
        "# Write your code below\n",
        "a_indices = [index for index, char in enumerate(s) if char == 'a']\n",
        "print(a_indices)\n",
        "\n",
        "\n"
      ]
    },
    {
      "cell_type": "markdown",
      "metadata": {
        "id": "nT4_V6j-LjEd"
      },
      "source": [
        "**Question 3**\n",
        "\n",
        "Given\n",
        "\n",
        "```python\n",
        "list1 = [1, 2, 3, 4, 5]\n",
        "```\n",
        "\n",
        "- Write a nested `for` loop  to create a new list, named `pair_list`, to include all the combinations of 2 elements from `list1`, i.e., `[[1, 2], [1, 3], [1, 4], [1, 5], [2, 3], [2, 4], [2, 5], [3, 4], [3, 5], [4, 5]]`.\n",
        "\n",
        "    - Hint:\n",
        "        1. the outer loop steps through list items.\n",
        "        2. at each iteration of the outer loop, the inner loop iterates over the subsequence following the current item of the outer loop.\n",
        "        3. Think about using `enumerate()` to generate the index of the current item being processed by the outer iteration, and use it in slicing to construct the iterable used by the inner loop.\n",
        "\n",
        "\n",
        "\n"
      ]
    },
    {
      "cell_type": "code",
      "execution_count": 29,
      "metadata": {
        "colab": {
          "base_uri": "https://localhost:8080/"
        },
        "id": "05riXcKq2TDN",
        "outputId": "729d0542-40db-4e07-b096-587b85c5d570"
      },
      "outputs": [
        {
          "name": "stdout",
          "output_type": "stream",
          "text": [
            "[[1, 2], [1, 3], [1, 4], [1, 5], [2, 3], [2, 4], [2, 5], [3, 4], [3, 5], [4, 5]]\n"
          ]
        }
      ],
      "source": [
        "list1 = [1, 2, 3, 4, 5]\n",
        "\n",
        "# Write your code below\n",
        "pair_list = []\n",
        "\n",
        "for i, num1 in enumerate(list1):\n",
        "    for num2 in list1[i+1:]:\n",
        "        pair_list.append([num1, num2])\n",
        "\n",
        "print(pair_list)\n",
        "\n"
      ]
    },
    {
      "cell_type": "markdown",
      "metadata": {
        "id": "j5tLYhYJ_fYS"
      },
      "source": [
        "\n",
        "---\n",
        "\n",
        "**Question 4**\n",
        "\n",
        "Assume that a firm uses a nested dictionary to maintain the information on annual sales made from various sales strategies for 2020, 2021, and 2022.\n",
        "\n",
        "```python\n",
        "sales_3_years = {'2020': {\"Radio Sales\": 5000, \"TV Sales\": 26000, \"Direct-Mail Sales\": 1000, \"Telephone Sales\": 26000},\n",
        "                 '2021': {\"TV Sales\": 26000, \"Online Sales\": 37000, \"Telephone Sales\": 9000, \"Radio Sales\": 3000},\n",
        "                 '2022': {\"Telephone Sales\": 8000, \"TV Sales\": 19000, \"Online Sales\": 107000}}\n",
        "```\n",
        "\n",
        "\n",
        "\n",
        "\n",
        "- Write a **comprehension** to output the annual sales made from all sales strategies for each year. Your output should look like the following (Hint: use `sum()` on the return value of `.values()`):\n",
        "\n",
        "```python\n",
        "{'2020': 58000, '2021': 75000, '2022': 134000}\n",
        "```\n",
        "\n"
      ]
    },
    {
      "cell_type": "code",
      "execution_count": 30,
      "metadata": {
        "colab": {
          "base_uri": "https://localhost:8080/"
        },
        "id": "qLy2pyHX_fYT",
        "outputId": "071af518-f69d-4366-ce08-1ea500b50559"
      },
      "outputs": [
        {
          "name": "stdout",
          "output_type": "stream",
          "text": [
            "{'2020': 58000, '2021': 75000, '2022': 134000}\n"
          ]
        }
      ],
      "source": [
        "sales_3_years = {'2020': {\"Radio Sales\": 5000, \"TV Sales\": 26000, \"Direct-Mail Sales\": 1000, \"Telephone Sales\": 26000},\n",
        "                 '2021': {\"TV Sales\": 26000, \"Online Sales\": 37000, \"Telephone Sales\": 9000, \"Radio Sales\": 3000},\n",
        "                 '2022': {\"Telephone Sales\": 8000, \"TV Sales\": 19000, \"Online Sales\": 107000}}\n",
        "\n",
        "\n",
        "# Write your code below\n",
        "annual_sales = {year: sum(sales.values()) for year, sales in sales_3_years.items()}\n",
        "print(annual_sales)\n",
        "\n",
        "\n"
      ]
    },
    {
      "cell_type": "markdown",
      "metadata": {
        "id": "90UvbfI9_fYT"
      },
      "source": [
        "- Write  a (possibly nested) for loop to figure out which strategy creates the highest sales for each year. Your output should look like the following:\n",
        "\n",
        "```python\n",
        "{'2020': ['TV Sales', 'Telephone Sales'], '2021': ['Online Sales'], '2022': ['Online Sales']}\n",
        "```\n",
        "\n"
      ]
    },
    {
      "cell_type": "code",
      "execution_count": 31,
      "metadata": {
        "colab": {
          "base_uri": "https://localhost:8080/"
        },
        "id": "GNX2HL9l_fYT",
        "outputId": "fa95cc6b-84a1-4544-abd5-ebeac454c020"
      },
      "outputs": [
        {
          "name": "stdout",
          "output_type": "stream",
          "text": [
            "{'2020': ['TV Sales', 'Telephone Sales'], '2021': ['Online Sales'], '2022': ['Online Sales']}\n"
          ]
        }
      ],
      "source": [
        "# Write your code below\n",
        "highest_sales = {} \n",
        "for year, value in sales_3_years.items(): \n",
        "    highest = max(value.values())\n",
        "    highest_sales[year] = [program for program, sales in value.items() if sales == highest]\n",
        "print(highest_sales)\n",
        "\n",
        "\n",
        "\n",
        "\n"
      ]
    },
    {
      "cell_type": "markdown",
      "metadata": {
        "id": "dCsHXO3l_fYU"
      },
      "source": [
        "- Write a (possibly nested) for loop to answer: How many distinct strategies have been used? What are the total sales made from them for the 3 consecutive years? Store your result in a dictionary that looks like the following (the order in which entries are listed can be different):\n",
        "```python\n",
        "{'Radio Sales': 8000, 'TV Sales': 71000, 'Direct-Mail Sales': 1000, 'Telephone Sales': 43000, 'Online Sales': 144000}\n",
        "```    \n",
        "\n",
        " - Hint: think about using `dict.get()`"
      ]
    },
    {
      "cell_type": "code",
      "execution_count": 32,
      "metadata": {
        "colab": {
          "base_uri": "https://localhost:8080/"
        },
        "id": "Iqs0RPzy_fYU",
        "outputId": "1aff896a-9611-48cb-a290-9d5d18810d84"
      },
      "outputs": [
        {
          "name": "stdout",
          "output_type": "stream",
          "text": [
            "{'Radio Sales': 8000, 'TV Sales': 71000, 'Direct-Mail Sales': 1000, 'Telephone Sales': 43000, 'Online Sales': 144000}\n"
          ]
        }
      ],
      "source": [
        "program_sales = {} \n",
        "for value in sales_3_years.values(): \n",
        "    for program, sales in value.items(): \n",
        "        program_sales[program] = program_sales.get(program, 0) + sales  \n",
        "print(program_sales)\n",
        "\n",
        "\n",
        "\n"
      ]
    },
    {
      "cell_type": "markdown",
      "metadata": {
        "id": "RwGlBTfw_fYU"
      },
      "source": [
        "---\n",
        "\n",
        "**Question 5**\n",
        "\n",
        "Suppose we use a dictionary to maintain gradebooks for several IS courses:\n",
        "\n",
        "```python\n",
        "IS_gradebooks = {'ISOM2020': [59, 100, 80, 55, 95, 87, 95, 98, 74, 69, 92, 94, 75, 97, 43, 57],\n",
        "                 'ISOM3400': [98, 73, 45, 88, 72, 94, 82, 100, 89, 52],\n",
        "                 'ISOM3600': [24, 44, 100, 81, 91, 93, 87, 72, 55],\n",
        "                 'ISOM4200': [90, 56, 78, 67, 90, 93]}\n",
        "```\n",
        "\n",
        "Write code to count how many students earned scores below 60 for each course. The expected output should look like the following:\n",
        "\n",
        "```python\n",
        "{'ISOM2020': 4, 'ISOM3400': 2, 'ISOM3600': 3, 'ISOM4200': 1}\n",
        "```"
      ]
    },
    {
      "cell_type": "code",
      "execution_count": 33,
      "metadata": {
        "colab": {
          "base_uri": "https://localhost:8080/"
        },
        "id": "LCLAD-pw_fYU",
        "outputId": "989a37d6-7535-466a-be1c-9ab7118040bc"
      },
      "outputs": [
        {
          "name": "stdout",
          "output_type": "stream",
          "text": [
            "{'ISOM2020': 4, 'ISOM3400': 2, 'ISOM3600': 3, 'ISOM4200': 1}\n"
          ]
        }
      ],
      "source": [
        "IS_gradebooks = {'ISOM2020': [59, 100, 80, 55, 95, 87, 95, 98, 74, 69, 92, 94, 75, 97, 43, 57],\n",
        "                 'ISOM3400': [98, 73, 45, 88, 72, 94, 82, 100, 89, 52],\n",
        "                 'ISOM3600': [24, 44, 100, 81, 91, 93, 87, 72, 55],\n",
        "                 'ISOM4200': [90, 56, 78, 67, 90, 93]}\n",
        "\n",
        "# Write your code below\n",
        "below_60_counts = {course: len([score for score in scores if score < 60]) for course, scores in IS_gradebooks.items()}\n",
        "print(below_60_counts)\n",
        "\n",
        "\n",
        "\n"
      ]
    }
  ],
  "metadata": {
    "colab": {
      "machine_shape": "hm",
      "provenance": []
    },
    "kernelspec": {
      "display_name": "Python 3 (ipykernel)",
      "language": "python",
      "name": "python3"
    },
    "language_info": {
      "codemirror_mode": {
        "name": "ipython",
        "version": 3
      },
      "file_extension": ".py",
      "mimetype": "text/x-python",
      "name": "python",
      "nbconvert_exporter": "python",
      "pygments_lexer": "ipython3",
      "version": "3.11.5"
    }
  },
  "nbformat": 4,
  "nbformat_minor": 0
}
