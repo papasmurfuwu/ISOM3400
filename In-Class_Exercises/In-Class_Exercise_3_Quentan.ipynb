{
 "cells": [
  {
   "cell_type": "markdown",
   "metadata": {
    "colab_type": "text",
    "id": "LPRYsq_O1sly"
   },
   "source": [
    "## Section 1: Warm-up Questions"
   ]
  },
  {
   "cell_type": "markdown",
   "metadata": {},
   "source": [
    "\n",
    "**Question 1.** \n",
    "\n",
    "Suppose you are asked to develop a frontend program for a database system that backs an ecommerce website. \n",
    "You need to write an `add_product` function, which allow people to add a new batch of products into the database. \n",
    "\n",
    "The information people must provide at the point of call includes the product name, the quantity, and the time when the batch is added. People can also possibly provide other custom specifics about the batch. \n",
    "\n",
    "Which of the following function signatures is the most appropriate for this desired function: \n",
    "\n",
    "- [x] `add_product(name, quantity, time, *args, **kwargs)`\n",
    "- [ ] `add_product(name=None, quantity, time, **kwargs)`\n",
    "- [ ] `add_product(name, quantity, time=None, *args)`\n",
    "- [ ] `add_product(name, quantity, time, **kwargs)`\n",
    "\n",
    "\n"
   ]
  },
  {
   "cell_type": "markdown",
   "metadata": {},
   "source": [
    "---\n",
    "\n",
    "**Question 2. Element-wise text concatenation** \n",
    "\n",
    "Suppose you are given two lists, with their elements at the corresponding position representing the first name and the last name of the same person:\n",
    "\n",
    "```python\n",
    "first_names = ['Alice', 'Bob', 'Carol', 'David']\n",
    "last_names = ['Alligator', 'Bear', 'Chimpanzee', 'Deer']\n",
    "```\n",
    "\n",
    "Write a lambda expression, name it `concat_names`, and call it with the two lists above to form a list of full names. The expected output is as follows:\n",
    "\n",
    "\n",
    "```python\n",
    "['Alice Alligator', 'Bob Bear', 'Carol Chimpanzee', 'David Deer']\n",
    "```"
   ]
  },
  {
   "cell_type": "code",
   "execution_count": 42,
   "metadata": {},
   "outputs": [
    {
     "name": "stdout",
     "output_type": "stream",
     "text": [
      "['Alice Alligator', 'Bob Bear', 'Carol Chimpanzee', 'David Deer']\n"
     ]
    }
   ],
   "source": [
    "first_names = ['Alice','Bob','Carol','David']\n",
    "last_names = ['Alligator','Bear','Chimpanzee','Deer']\n",
    "\n",
    "\n",
    "concat_names = list(map(lambda x, y: f\"{x} {y}\", first_names, last_names))\n",
    "print(concat_names)\n",
    "\n",
    "\n"
   ]
  },
  {
   "cell_type": "markdown",
   "metadata": {
    "colab_type": "text",
    "id": "gO5fbOf_5Mr2"
   },
   "source": [
    "---\n",
    "\n",
    "\n",
    "**Question 3. Use of `lambda`s as function arguments** \n",
    "\n",
    " \n",
    "\n",
    "Suppose a music streaming service uses two lists to maintain a user's favorite songs and the corresponding ratings, respectively:\n",
    "\n",
    "```python\n",
    "songs = ['Back to Black', 'Poker Face', 'Yellow', 'Lolipop', 'All Too Well', 'Delicate', 'Moves Like Jagger']\n",
    "ratings = [9.5, 8, 9, 8, 10, 7.5, 8]\n",
    "```\n",
    "\n",
    "1). Write code *without using loop statements* to create a playlist, which orders the user's favorite songs based on their ratings.  And if a tie is observed, include the lastest one first (the one closest to the end of the list).\n",
    "\n",
    "\n",
    "\n",
    "\n",
    "The expected output should look like the following:\n",
    "\n",
    "```python\n",
    "['All Too Well', 'Back to Black', 'Yellow', 'Moves Like Jagger', 'Lolipop', 'Poker Face', 'Delicate']\n",
    "```\n",
    "\n",
    "Tips: use `enumerate()` and `sorted()` with a lambda expression.\n",
    "\n"
   ]
  },
  {
   "cell_type": "code",
   "execution_count": 43,
   "metadata": {},
   "outputs": [
    {
     "data": {
      "text/plain": [
       "[('All Too Well', 10),\n",
       " ('Back to Black', 9.5),\n",
       " ('Yellow', 9),\n",
       " ('Moves Like Jagger', 8),\n",
       " ('Lolipop', 8),\n",
       " ('Poker Face', 8),\n",
       " ('Delicate', 7.5)]"
      ]
     },
     "execution_count": 43,
     "metadata": {},
     "output_type": "execute_result"
    }
   ],
   "source": [
    "# the solution we saw in the 2nd in-class exercise\n",
    "\n",
    "songs = ['Back to Black', 'Poker Face', 'Yellow', 'Lolipop', 'All Too Well', 'Delicate', 'Moves Like Jagger']\n",
    "ratings = [9.5, 8, 9, 8, 10, 7.5, 8]\n",
    "\n",
    "rating_with_idx = [(rating, idx) for idx, rating in enumerate(ratings)]\n",
    "\n",
    "[(songs[idx], rating) for rating, idx in sorted(rating_with_idx, reverse=True)]"
   ]
  },
  {
   "cell_type": "code",
   "execution_count": 44,
   "metadata": {
    "colab": {},
    "colab_type": "code",
    "id": "Yn0q5mhE7h2y"
   },
   "outputs": [
    {
     "data": {
      "text/plain": [
       "['All Too Well',\n",
       " 'Back to Black',\n",
       " 'Yellow',\n",
       " 'Moves Like Jagger',\n",
       " 'Lolipop',\n",
       " 'Poker Face',\n",
       " 'Delicate']"
      ]
     },
     "execution_count": 44,
     "metadata": {},
     "output_type": "execute_result"
    }
   ],
   "source": [
    "songs = ['Back to Black', 'Poker Face', 'Yellow', 'Lolipop', \n",
    "         'All Too Well', 'Delicate', 'Moves Like Jagger']\n",
    "\n",
    "ratings = [9.5, 8, 9, 8, 10, 7.5, 8]\n",
    "\n",
    "# Write one line of code below \n",
    "[songs[idx] for idx ,_ in sorted(enumerate(ratings), key=lambda x: (x[1],x[0]), reverse=True)]\n"
   ]
  },
  {
   "cell_type": "markdown",
   "metadata": {},
   "source": [
    "2). What if we break the tie by sorting song titles lexicographically. The expected output should look like the following:\n",
    "\n",
    "```python\n",
    "[('All Too Well', 10),\n",
    " ('Back to Black', 9.5),\n",
    " ('Yellow', 9),\n",
    " ('Lolipop', 8),\n",
    " ('Moves Like Jagger', 8),\n",
    " ('Poker Face', 8),\n",
    " ('Delicate', 7.5)]\n",
    "```\n",
    "\n",
    "Tips: use `zip()` and `sorted()` with a lambda expression.\n"
   ]
  },
  {
   "cell_type": "code",
   "execution_count": 45,
   "metadata": {},
   "outputs": [
    {
     "data": {
      "text/plain": [
       "[('All Too Well', 10),\n",
       " ('Back to Black', 9.5),\n",
       " ('Yellow', 9),\n",
       " ('Lolipop', 8),\n",
       " ('Moves Like Jagger', 8),\n",
       " ('Poker Face', 8),\n",
       " ('Delicate', 7.5)]"
      ]
     },
     "execution_count": 45,
     "metadata": {},
     "output_type": "execute_result"
    }
   ],
   "source": [
    "# Write your code below\n",
    "sorted(zip(songs, ratings), key=lambda x: (-x[1],x[0]))\n",
    "\n"
   ]
  },
  {
   "cell_type": "markdown",
   "metadata": {},
   "source": [
    "---\n",
    "\n",
    "\n",
    "**Question 4**\n",
    "\n",
    "\n",
    "Assume that you are considering booking accommodation for a 1-week stay in Hong Kong on Airbnb, and you have multiple potential targets (e.g., dozens) under consideration.\n",
    "\n",
    "Note that every accommodations on Airbnb is rated on a 5-star scale for each of the following 8 categories: Overall experience, cleanliness, accuracy, check-in, communication, location, value, and amenities.\n",
    "\n",
    "Now, suppose that you manage to obtain the rating data for your target rentals, and maintain it in a Python list as follows:\n",
    "\n",
    "```python\n",
    "ratings = [[3, 4, 4, 5, 5, 3, 5, 3],\n",
    "           [5, 5, 5, 3, 4, 4, 4, 5],\n",
    "           [3, 5, 5, 2, 4, 4, 5, 2],\n",
    "           [5, 5, 5, 5, 3, 2, 4, 5],\n",
    "           [4, 5, 3, 3, 3, 4, 2, 4],\n",
    "           [4, 5, 3, 3, 2, 3, 2, 5],\n",
    "           [3, 4, 3, 4, 3, 4, 5, 4]]\n",
    "\n",
    "```\n",
    "where each sublist represents the ratings across 8 categories for one potential rental.\n",
    "\n",
    "Write Python code to create a list that contains the indices of accommodations that receive the highest rating for each category.  \n",
    "\n",
    "The expected output should look like the following:\n",
    "\n",
    "```\n",
    "[[2, 4], [2, 3, 4, 5, 6], [2, 3, 4], [1, 4], [1], [2, 3, 5, 7], [1, 3, 7], [2, 4, 6]]\n",
    "```\n",
    "\n",
    "\n",
    "Tips: \n",
    "\n",
    "1) Use `zip()` to reorganize the ratings by category;\n",
    "2) Write a nested for loop to find the indices of the largest rating for each category."
   ]
  },
  {
   "cell_type": "code",
   "execution_count": 46,
   "metadata": {},
   "outputs": [
    {
     "name": "stdout",
     "output_type": "stream",
     "text": [
      "[[2, 4], [2, 3, 4, 5, 6], [2, 3, 4], [1, 4], [1], [2, 3, 5, 7], [1, 3, 7], [2, 4, 6]]\n"
     ]
    }
   ],
   "source": [
    "ratings = [[3, 4, 4, 5, 5, 3, 5, 3],\n",
    "           [5, 5, 5, 3, 4, 4, 4, 5],\n",
    "           [3, 5, 5, 2, 4, 4, 5, 2],\n",
    "           [5, 5, 5, 5, 3, 2, 4, 5],\n",
    "           [4, 5, 3, 3, 3, 4, 2, 4],\n",
    "           [4, 5, 3, 3, 2, 3, 2, 5],\n",
    "           [3, 4, 3, 4, 3, 4, 5, 4]]\n",
    "\n",
    "# iterate over ratings \n",
    "# for each column, select highest rating and check if any matches\n",
    "\n",
    "# provide your code below\n",
    "ls = []\n",
    "for category in zip(*ratings):\n",
    "    ls.append([i for i, rating in enumerate(category, start=1) if rating == max(category)])\n",
    "\n",
    "print(ls)\n"
   ]
  },
  {
   "cell_type": "markdown",
   "metadata": {
    "colab_type": "text",
    "id": "LOvK79aiEbfh"
   },
   "source": [
    "\n",
    "---\n",
    "\n",
    "\n",
    "## Section 2\n",
    "\n",
    "\n",
    "For each question below, please write the corresponding code and then run the code to show the output. \n",
    "\n",
    "\n",
    "\n"
   ]
  },
  {
   "cell_type": "markdown",
   "metadata": {},
   "source": [
    "\n",
    "\n",
    "**Question 1.** \n",
    "\n",
    "Given a Python dictionary that maintians counts of dictinct words occurring in a document:\n",
    "\n",
    "```python\n",
    "word_count_dict = {'i': 2, 'like': 2, 'business': 3, 'analytics': 2, 'applications': 1, \n",
    "                   'development': 2, 'in': 3, 'python': 4, 'is': 3, 'interesting': 1, \n",
    "                   'a': 1, 'popular': 1, 'language': 1, 'application': 1, 'hard': 1}\n",
    "\n",
    "```\n",
    "\n",
    "Use `sorted()` with a `lambda` expression to produce the following output:\n",
    "\n",
    "```python\n",
    "[('python', 4), ('business', 3), ('in', 3), ('is', 3), ('analytics', 2), ('development', 2), ('i', 2), ('like', 2), ('a', 1), ('application', 1), ('applications', 1), ('hard', 1), ('interesting', 1), ('language', 1), ('popular', 1)]\n",
    "```\n",
    "\n",
    "Note that each dictionary was converted to a 2-element tuple, which represents the word count pair for a distinct word. All word-count pairs were sorted first by count in descending order and then by word in ascending order."
   ]
  },
  {
   "cell_type": "code",
   "execution_count": 47,
   "metadata": {},
   "outputs": [
    {
     "name": "stdout",
     "output_type": "stream",
     "text": [
      "[('python', 4), ('business', 3), ('in', 3), ('is', 3), ('i', 2), ('like', 2), ('analytics', 2), ('development', 2), ('applications', 1), ('interesting', 1), ('a', 1), ('popular', 1), ('language', 1), ('application', 1), ('hard', 1)]\n"
     ]
    }
   ],
   "source": [
    "word_count_dict = {'i': 2, 'like': 2, 'business': 3, 'analytics': 2, 'applications': 1, \n",
    "                   'development': 2, 'in': 3, 'python': 4, 'is': 3, 'interesting': 1, \n",
    "                   'a': 1, 'popular': 1, 'language': 1, 'application': 1, 'hard': 1}\n",
    "\n",
    "# Write your code below\n",
    "sorted_word_list = sorted(word_count_dict.items(), key=lambda item: item[1], reverse=True)\n",
    "print(sorted_word_list)\n",
    "\n",
    "\n",
    "\n"
   ]
  },
  {
   "cell_type": "markdown",
   "metadata": {
    "colab_type": "text",
    "id": "PzusxNtL12fu"
   },
   "source": [
    "\n",
    "---\n",
    "\n",
    "\n",
    "\n",
    "**Question 2**\n",
    "\n",
    "Many programming languages implement a function called `sum()`, which returns the sum of an arbitrary sequence of numbers.\n",
    "\n",
    "Define a function `mySum` that allows us to sum up any number of numeric values. For example:\n",
    "\n",
    "- We should be able to call `mySum(1, 12, 89, 5)` with 4 arguments or `mySum(*range(100))` with 100 arguments.\n",
    "- Calling `mySum()` with no arguments returns `0`.\n",
    "\n",
    "The built-in function `sum()` is not allowed to use in the function body. Instead, use a for loop to tally the sum incrementally."
   ]
  },
  {
   "cell_type": "code",
   "execution_count": 48,
   "metadata": {
    "colab": {},
    "colab_type": "code",
    "id": "LJIylDFMOF2a"
   },
   "outputs": [
    {
     "name": "stdout",
     "output_type": "stream",
     "text": [
      "107\n",
      "4950\n"
     ]
    }
   ],
   "source": [
    "# Write your function definition below\n",
    "def mySum(*nums):\n",
    "    sum = 0\n",
    "    if not nums:\n",
    "        return 0\n",
    "    else: \n",
    "        for num in nums:\n",
    "            sum += num\n",
    "        return sum\n",
    "\n",
    "print(mySum(1, 12, 89, 5))\n",
    "print(mySum(*range(100)))\n",
    "        \n",
    "\n",
    "\n"
   ]
  },
  {
   "cell_type": "markdown",
   "metadata": {},
   "source": [
    "\n",
    "---\n",
    "\n",
    "**Question 3**\n",
    "\n",
    "Parallel processing of multiple sequences is a powerful functionality for data analysis.\n",
    "\n",
    "Define a function `mySumParallel(seqs)` that applies `mySum()` defined in **Question 2** to an arbitrary collection of sequences of numeric values in parallel. This function returns a list of sums of all sequences in the passed-in collection.\n",
    "\n",
    "For example, calling `mySumParallel(collection)` where `collection = [[1, 12, 89, 5], range(100), range(2, 9, 3)]` returns `[107, 4950, 15]`.\n",
    "\n"
   ]
  },
  {
   "cell_type": "code",
   "execution_count": 49,
   "metadata": {},
   "outputs": [
    {
     "data": {
      "text/plain": [
       "[107, 4950, 15]"
      ]
     },
     "execution_count": 49,
     "metadata": {},
     "output_type": "execute_result"
    }
   ],
   "source": [
    "collection = [[1, 12, 89, 5], range(100), range(2, 9, 3)]\n",
    "\n",
    "# Write your code below\n",
    "def mySumParallel(seqs):\n",
    "    new_seqs = list(map(lambda seq: mySum(*seq), seqs))\n",
    "    return new_seqs\n",
    "mySumParallel(collection)\n",
    "\n",
    "    \n",
    "\n"
   ]
  },
  {
   "cell_type": "markdown",
   "metadata": {},
   "source": [
    "---\n",
    "\n",
    "**Question 4**\n",
    "\n",
    "Further define a function `myParallel(aggfunc, seqs)` that allows any aggregation function to be applied to an arbitrary collection of sequences of numeric values.\n",
    "\n",
    "For example, calling `myParallel(mySum, collection)` yields `[107, 4950, 15]`, while calling `myParallel(max, collection)` yields `[89, 99, 8]`."
   ]
  },
  {
   "cell_type": "code",
   "execution_count": 50,
   "metadata": {},
   "outputs": [
    {
     "name": "stdout",
     "output_type": "stream",
     "text": [
      "[89, 99, 8]\n",
      "[107, 4950, 15]\n"
     ]
    }
   ],
   "source": [
    "# Write your code below\n",
    "def myParallel(aggfunc, seqs):\n",
    "    if aggfunc == max:\n",
    "        new_seqs = list(map(lambda seq: max(*seq), seqs))\n",
    "        return new_seqs\n",
    "    elif aggfunc == mySum:\n",
    "        new_seqs = list(map(lambda seq: mySum(*seq), seqs))\n",
    "        return new_seqs\n",
    "    \n",
    "print(myParallel(max, collection))\n",
    "print(myParallel(mySum, collection))\n",
    "\n"
   ]
  },
  {
   "cell_type": "markdown",
   "metadata": {},
   "source": [
    "---\n",
    "\n",
    "**Question 5**\n",
    "\n",
    "Student A wants to select gifts for student B. Student A uses two dictionaries to record two types of ratings for options s/he considers: a dictionary that records the rating of how good a gift would be for student B (on a scale of 1-5), and a dictionary that records the rating of how much student B wants the gift (on a scale of 1-5). The rating of a gift that is not in either of the dictionaries is considered to be 0.\n",
    "\n",
    "Student A wants to select the gifts with the maximal possible combined rating, where the combined rating is the sum of the rating of how good the gift would be for the student and the rating of how much the student wants the gift.\n",
    "\n",
    "For example, the dictionaries can be:\n",
    "\n",
    "```python\n",
    "good_ratings = {\"Python textbook\": 5, \"iPhone\": 1, \"iPad\": 4, \"AirPods\": 4}\n",
    "want_ratings = {\"iPhone\": 5, \"A+ in ISOM3400\": 5, \"Python textbook\": 3, \"AirPods\": 4, \"Xbox\": 5}\n",
    "```\n",
    "\n",
    "Here, the gifts student A wants to select are \"Python textbook\" and \"AirPods\", since the combined rating for them is 5+3=4+4=8, larger than any other one. The combined rating of \"Xbox\" is 5+0=5.\n",
    "\n",
    "\n",
    "Write a function with the signature `select_gifts(good_ratings, want_ratings)` that returns a list\n",
    "of all the gifts which have the highest combined rating of all the gifts, sorted in alphabetical order.\n",
    "\n",
    "\n",
    "For example, for `good_ratings` and `want_ratings` as defined above,\n",
    "`select_gifts(good_ratings, want_ratings)` should return `['AirPods', 'Python textbook']`."
   ]
  },
  {
   "cell_type": "code",
   "execution_count": 51,
   "metadata": {},
   "outputs": [
    {
     "data": {
      "text/plain": [
       "['AirPods', 'Python textbook']"
      ]
     },
     "execution_count": 51,
     "metadata": {},
     "output_type": "execute_result"
    }
   ],
   "source": [
    "# write your code below\n",
    "good_ratings = {\"Python textbook\": 5, \"iPhone\": 1, \"iPad\": 4, \"AirPods\": 4}\n",
    "want_ratings = {\"iPhone\": 5, \"A+ in ISOM3400\": 5, \"Python textbook\": 3, \"AirPods\": 4, \"Xbox\": 5}\n",
    "\n",
    "# iterate over both dictionaries, create new dictionary to store unique items and their total score \n",
    "def select_gifts(good, want): \n",
    "    unique_dict = {item: rating for item, rating in good.items()}\n",
    "    for item, rating in want.items():\n",
    "        if item in unique_dict:\n",
    "            unique_dict[item] += rating \n",
    "        else:\n",
    "            unique_dict[item] = rating \n",
    "    highest_ls = [item for item, rating in unique_dict.items() if rating == max(unique_dict.values())]\n",
    "    return sorted(highest_ls, key=lambda x: x[0])\n",
    "\n",
    "select_gifts(good_ratings, want_ratings)\n",
    "    \n",
    "\n",
    "\n",
    "\n",
    "\n"
   ]
  },
  {
   "cell_type": "markdown",
   "metadata": {},
   "source": [
    "---\n",
    "\n",
    "**Question 6**\n",
    "\n",
    "\n",
    "Suppose the organizer of the Hong Kong International Film Festival wants to determine the winner of a popularity award by conducting an online survey. In the survey form, respondents are asked to rate each nominated movie on a 5-point scale. The ratings collected by each form is stored as a flat Python list (e.g., `[4, 5, 3, 4, 5]` if there are 5 nominees), and the winner will be the movie that receives the highest average rating (or the largest sum of ratings).\n",
    "\n",
    "Please define a custom Python function, `determine_winner(*forms)`, to perform needed calculations and return the index of the winner in the form (e.g., if the 2nd movie gets the highest average rating, return `2` as the output of call this function).\n",
    "\n",
    "For example, calling it with the data collected by the following 4 forms:\n",
    "\n",
    "```python\n",
    "collected_forms = [[4, 5, 3, 4, 5], [3, 5, 2, 4, 4], [4, 5, 4, 4, 5], [3, 4, 4, 3, 3]]\n",
    "determine_winner(*collected_forms)\n",
    "```\n",
    "\n",
    "produces `2`.\n",
    "\n",
    "\n",
    "Assume that there will be no ties in the case of mass responses, and no missing values as well (so every form contains the same number of ratings).\n"
   ]
  },
  {
   "cell_type": "code",
   "execution_count": 53,
   "metadata": {},
   "outputs": [
    {
     "name": "stdout",
     "output_type": "stream",
     "text": [
      "[3.5, 4.75, 3.25, 3.75, 4.25]\n"
     ]
    },
    {
     "data": {
      "text/plain": [
       "2"
      ]
     },
     "execution_count": 53,
     "metadata": {},
     "output_type": "execute_result"
    }
   ],
   "source": [
    "# write your code below\n",
    "# find sum of each movie and find highest, assuming no ties  \n",
    "collected_forms = [[4, 5, 3, 4, 5], [3, 5, 2, 4, 4], [4, 5, 4, 4, 5], [3, 4, 4, 3, 3]]\n",
    "\n",
    "def determine_winner(*forms):\n",
    "    combined_ls = [sum(ls)/ len(ls) for ls in zip(*forms)]\n",
    "    print(combined_ls)\n",
    "    return combined_ls.index(max(combined_ls)) + 1\n",
    "\n",
    "determine_winner(*collected_forms)\n"
   ]
  }
 ],
 "metadata": {
  "colab": {
   "collapsed_sections": [],
   "name": "4 Functions and Classes exercise.ipynb",
   "provenance": [
    {
     "file_id": "1I7TWy81VCZAXhd6vovMNyNB6cPSbdLZV",
     "timestamp": 1571059405834
    }
   ]
  },
  "kernelspec": {
   "display_name": "Python 3 (ipykernel)",
   "language": "python",
   "name": "python3"
  },
  "language_info": {
   "codemirror_mode": {
    "name": "ipython",
    "version": 3
   },
   "file_extension": ".py",
   "mimetype": "text/x-python",
   "name": "python",
   "nbconvert_exporter": "python",
   "pygments_lexer": "ipython3",
   "version": "3.11.5"
  }
 },
 "nbformat": 4,
 "nbformat_minor": 1
}
