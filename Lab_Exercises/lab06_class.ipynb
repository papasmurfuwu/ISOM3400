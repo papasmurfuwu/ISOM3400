{
 "cells": [
  {
   "cell_type": "markdown",
   "metadata": {},
   "source": [
    "# Lab 6: Class "
   ]
  },
  {
   "cell_type": "markdown",
   "metadata": {},
   "source": [
    "### Task 1"
   ]
  },
  {
   "cell_type": "markdown",
   "metadata": {},
   "source": [
    "Create a class **Sphone** with below implementation.\n",
    "\n",
    "(a) Define the initializer method `__init__` such that all 4 attributes/ properties (`name`, `brand`, `os` and `year`) are initialized upon the creation of an object. \n",
    "\n",
    "Create an object by below code and verify your work.\n",
    "\n",
    "```\n",
    "ip14 = Sphone(\"iPhone 14\", \"Apple\", \"iOS\", 2022)\n",
    "```\n",
    "    \n",
    "Write appropriate docstring for the class to provide concise description for its usage. The content of docstring can be accessed using doc attribute. \n",
    "\n",
    "```\n",
    "print(ip14.__doc__)\n",
    "```\n",
    "\n",
    "(b) Define the methods `set_price` and `sphone_price` which set and display the smartphone's price respectively. \n",
    "\n",
    "The `set_price` method should be invoked by the code below, and a new value will be assigned for price attribute.\n",
    "\n",
    "```\n",
    "ip14.set_price(6799)\n",
    "```\n",
    "\n",
    "When the method `sphone_price` is invoked, that is\n",
    "\n",
    "```\n",
    "ip14.sphone_price()\n",
    "```\n",
    "\n",
    "the output should be shown as below:\n",
    "\n",
    "    -- Smart phone price info --\n",
    "\n",
    "    Name:\tiPhone 14\n",
    "    Brand:\tApple\n",
    "    Price:\t$6799\n",
    "\n",
    "(c) Define a method **compare_sphone** that compares prices of two smartphones, and print out which one is more expensive.\n",
    "\n",
    "Verify your work by assigning `ip14 = Sphone(\"iPhone 14\", \"Apple\", \"iOS\", 2022)` with price `6799` and `galaxy_s22ultra = Sphone(\"galaxy_s22ultra\", \"Samsung\", \"Android\", 2022)` with price `8599`.\n",
    "\n",
    "Make sure both smart phone instances are created and invoke the `compare_sphone` method by this code:\n",
    "\n",
    "```\n",
    "ip14.compare_sphone(galaxy_s22ultra)\n",
    "```"
   ]
  },
  {
   "cell_type": "code",
   "execution_count": 1,
   "metadata": {},
   "outputs": [],
   "source": [
    "# Create a class Sphone\n",
    "\n",
    "class Sphone:\n",
    "    # a) Initializer & docstring\n",
    "    # docstring\n",
    "    '''This class \"Sphone\" takes in the name, brand, os and year of a mobile phone model. It has a method which displays the price, and one that lets you compare the price with another model'''\n",
    "\n",
    "    # Initializer -- Lab Submission (Lab 6): \n",
    "    def __init__(self, name, brand, os, year):\n",
    "        self.name = name\n",
    "        self.brand = brand\n",
    "        self.os = os\n",
    "        self.year = year\n",
    "        print(\"An object is created through __init__!\")\n",
    "     \n",
    "    # b) Define set_price & sphone_price method\n",
    "    def set_price(self, price):\n",
    "        self.price = price\n",
    "\n",
    "    def sphone_price(self):\n",
    "        print(\"-- Smart phone price info --\\n\")\n",
    "        print(f\"Name: {self.name}\\nBrand: {self.brand}\\nPrice: ${self.price}\")\n",
    "            \n",
    "    # c) Define compare_sphone method\n",
    "    def compare_sphone(self, obj):\n",
    "        price_dif = abs(self.price - obj.price)\n",
    "        if self.price < obj.price:\n",
    "            print(f\"{obj.name} is more expensive by ${price_dif}!\")\n",
    "        elif self.price > obj.price:\n",
    "            print(f\"{self.name} is more expensive by ${price_dif}!\")\n",
    "        else:\n",
    "            print(f\"{self.name} and {obj.name} are the same price!\")\n",
    "    "
   ]
  },
  {
   "cell_type": "code",
   "execution_count": 2,
   "metadata": {},
   "outputs": [
    {
     "name": "stdout",
     "output_type": "stream",
     "text": [
      "An object is created through __init__!\n"
     ]
    }
   ],
   "source": [
    "# Create object instance\n",
    "ip14 = Sphone(\"iPhone 14\", \"Apple\", \"iOS\", 2022)"
   ]
  },
  {
   "cell_type": "code",
   "execution_count": 3,
   "metadata": {},
   "outputs": [
    {
     "data": {
      "text/plain": [
       "'This class \"Sphone\" takes in the name, brand, os and year of a mobile phone model. It has a method which displays the price, and one that lets you compare the price with another model'"
      ]
     },
     "execution_count": 3,
     "metadata": {},
     "output_type": "execute_result"
    }
   ],
   "source": [
    "ip14.__doc__"
   ]
  },
  {
   "cell_type": "code",
   "execution_count": 4,
   "metadata": {},
   "outputs": [],
   "source": [
    "# Set price\n",
    "ip14.set_price(6799)"
   ]
  },
  {
   "cell_type": "code",
   "execution_count": 5,
   "metadata": {},
   "outputs": [
    {
     "name": "stdout",
     "output_type": "stream",
     "text": [
      "-- Smart phone price info --\n",
      "\n",
      "Name: iPhone 14\n",
      "Brand: Apple\n",
      "Price: $6799\n"
     ]
    }
   ],
   "source": [
    "# Now you can show the price info\n",
    "ip14.sphone_price() "
   ]
  },
  {
   "cell_type": "code",
   "execution_count": 6,
   "metadata": {},
   "outputs": [
    {
     "name": "stdout",
     "output_type": "stream",
     "text": [
      "<__main__.Sphone object at 0x000001FCC1028850>\n"
     ]
    }
   ],
   "source": [
    "# Print again the object instance\n",
    "print(ip14)"
   ]
  },
  {
   "cell_type": "code",
   "execution_count": 7,
   "metadata": {},
   "outputs": [
    {
     "name": "stdout",
     "output_type": "stream",
     "text": [
      "An object is created through __init__!\n",
      "-- Smart phone price info --\n",
      "\n",
      "Name: galaxy_s22ultra\n",
      "Brand: Samsung\n",
      "Price: $8599\n"
     ]
    }
   ],
   "source": [
    "#Define galaxy_s22ultra\n",
    "galaxy_s22ultra = Sphone(\"galaxy_s22ultra\", \"Samsung\", \"Android\", 2022)\n",
    "galaxy_s22ultra.set_price(8599)    # set price for galaxy sphone\n",
    "galaxy_s22ultra.sphone_price()    # display the price\n"
   ]
  },
  {
   "cell_type": "code",
   "execution_count": 8,
   "metadata": {},
   "outputs": [
    {
     "name": "stdout",
     "output_type": "stream",
     "text": [
      "galaxy_s22ultra is more expensive by $1800!\n"
     ]
    }
   ],
   "source": [
    "#Call compare_sphone\n",
    "ip14.compare_sphone(galaxy_s22ultra)\n"
   ]
  }
 ],
 "metadata": {
  "kernelspec": {
   "display_name": "Python 3 (ipykernel)",
   "language": "python",
   "name": "python3"
  },
  "language_info": {
   "codemirror_mode": {
    "name": "ipython",
    "version": 3
   },
   "file_extension": ".py",
   "mimetype": "text/x-python",
   "name": "python",
   "nbconvert_exporter": "python",
   "pygments_lexer": "ipython3",
   "version": "3.11.5"
  }
 },
 "nbformat": 4,
 "nbformat_minor": 4
}
