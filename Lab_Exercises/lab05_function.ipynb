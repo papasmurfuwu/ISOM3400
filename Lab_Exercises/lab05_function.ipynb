{
 "cells": [
  {
   "cell_type": "markdown",
   "metadata": {},
   "source": [
    "# Lab 5: Function"
   ]
  },
  {
   "cell_type": "markdown",
   "metadata": {},
   "source": [
    "Learning focus:\n",
    "- Self-defined Function\n",
    "- zip() & enumerate()"
   ]
  },
  {
   "cell_type": "code",
   "execution_count": 20,
   "metadata": {},
   "outputs": [],
   "source": [
    "# run this code for displaying multiple return values\n",
    "\n",
    "from IPython.core.interactiveshell import InteractiveShell\n",
    "InteractiveShell.ast_node_interactivity = \"all\""
   ]
  },
  {
   "cell_type": "markdown",
   "metadata": {},
   "source": [
    "### Self-defined Function"
   ]
  },
  {
   "cell_type": "markdown",
   "metadata": {},
   "source": [
    "#### Case 1: Self-define with specific arguments passing (no return value)\n",
    "Example: Define a function `get_mean()` to calculate and print out the mean of 2 given values. The function should be able to cope with both of the input datatype below:\n",
    "```\n",
    "# Passing arguments to the function\n",
    "get_mean(153, 198)\n",
    "get_mean('153','198')\n",
    "```"
   ]
  },
  {
   "cell_type": "code",
   "execution_count": 21,
   "metadata": {},
   "outputs": [
    {
     "name": "stdout",
     "output_type": "stream",
     "text": [
      "Total mean is 175.5\n",
      "Total mean is 175.5\n"
     ]
    }
   ],
   "source": [
    "def get_mean(a=0, b=0):\n",
    "    #print('a=', a,'b=', b)\n",
    "    \n",
    "    # complete the code below\n",
    "    total = \n",
    "    avg = \n",
    "    print(f'Total mean is _______')\n",
    "\n",
    "\n",
    "# Passing arguments to the function\n",
    "get_mean(153, 198)\n",
    "get_mean('153', '198')"
   ]
  },
  {
   "cell_type": "markdown",
   "metadata": {},
   "source": [
    "#### Case 2: Self-define function with a list as argument passing (no return value)\n",
    "Example: Defined a new function `get_list_mean()` to take input of a list storing multiple values, calculate and print the mean of the values.\n",
    "```\n",
    "# Passing arguments to the function\n",
    "get_list_mean([153, 198, 350, 58, 78, 199])\n",
    "```\n",
    "Output: \n",
    "```\n",
    "Total mean is 172.7\n",
    "```\n"
   ]
  },
  {
   "cell_type": "code",
   "execution_count": 22,
   "metadata": {},
   "outputs": [
    {
     "name": "stdout",
     "output_type": "stream",
     "text": [
      "Total mean is 172.7\n"
     ]
    }
   ],
   "source": [
    "def get_list_mean(values):\n",
    "    #print('Input value:', values, '-- Data type:',type(values))\n",
    "    \n",
    "    # complete the code below\n",
    "    avg = \n",
    "    print(f'Total mean is ______')\n",
    "\n",
    "# Passing arguments to the function\n",
    "get_list_mean([153, 198, 350, 58, 78, 199])\n",
    "\n",
    "#get_list_mean(153, 198, 350, 58, 78, 199)           # <-- can you tell what's wrong with this code"
   ]
  },
  {
   "cell_type": "markdown",
   "metadata": {},
   "source": [
    "#### Case 3: Self-define function with asterisk (*) and return value \n",
    "When a parameter name in a Python function definition is preceded by an asterisk (*), it indicates argument tuple packing. It accepts arbitrary numbers of argument passing, and the arguments will be packed into a tuple. "
   ]
  },
  {
   "cell_type": "markdown",
   "metadata": {},
   "source": [
    "Example: From `get_list_mean()`, make some slight changes to rewrite the `get_mean()` function, to take input of multiple values (not storing in a list), and return the mean of the input values. The function should be able to cope with the inputs below:\n",
    "\n",
    "Hints: `*` \n",
    "\n",
    "```\n",
    "# Passing arguments to the function\n",
    "get_mean()\n",
    "get_mean(153)\n",
    "get_mean(153, 198)\n",
    "get_mean(153, 198, 350)\n",
    "get_mean(153, 198, 350, 58, 78, 199)\n",
    "```\n",
    "Output:\n",
    "```\n",
    "0\n",
    "153.0\n",
    "175.5\n",
    "233.7\n",
    "172.7\n",
    "```"
   ]
  },
  {
   "cell_type": "code",
   "execution_count": 23,
   "metadata": {},
   "outputs": [
    {
     "data": {
      "text/plain": [
       "0"
      ]
     },
     "execution_count": 23,
     "metadata": {},
     "output_type": "execute_result"
    },
    {
     "data": {
      "text/plain": [
       "153.0"
      ]
     },
     "execution_count": 23,
     "metadata": {},
     "output_type": "execute_result"
    },
    {
     "data": {
      "text/plain": [
       "175.5"
      ]
     },
     "execution_count": 23,
     "metadata": {},
     "output_type": "execute_result"
    },
    {
     "data": {
      "text/plain": [
       "233.7"
      ]
     },
     "execution_count": 23,
     "metadata": {},
     "output_type": "execute_result"
    },
    {
     "data": {
      "text/plain": [
       "172.7"
      ]
     },
     "execution_count": 23,
     "metadata": {},
     "output_type": "execute_result"
    }
   ],
   "source": [
    "def get_mean(*values):\n",
    "    #print('Input value:', values, '-- Data type:',type(values))\n",
    "    \n",
    "    # complete the code below\n",
    "    avg = \n",
    "    return ____________\n",
    "\n",
    "# Passing arguments to the function\n",
    "get_mean()\n",
    "get_mean(153)\n",
    "get_mean(153, 198)\n",
    "get_mean(153, 198, 350)\n",
    "get_mean(153, 198, 350, 58, 78, 199)\n"
   ]
  },
  {
   "cell_type": "markdown",
   "metadata": {},
   "source": [
    "#### Case 4: Self-define function with double asterisk (**) and return value\n",
    "Similarly, `**` is used to indicate that a parameter can take a variable sequence of keyword / named arguments, and pack them into a dictionary.\n"
   ]
  },
  {
   "cell_type": "markdown",
   "metadata": {},
   "source": [
    "Example: Write a Python function called `calculate_stats` that takes an arbitrary number of numeric values as input and returns a dictionary containing the following statistics:\n",
    "```\n",
    "\"sum\": the sum of all the input values\n",
    "\"mean\": the arithmetic mean of the input values\n",
    "\"max\": the maximum value among the input values\n",
    "\"min\": the minimum value among the input values\n",
    "```\n",
    "The function should utilize the double asterisk (**) syntax to allow for an arbitrary number of arguments to be passed. It will be called with below code:\n",
    "\n",
    "```\n",
    "calculate_stats(Assignment=80, Midterm=78, Project=70, Final=68)\n",
    "```\n",
    "And the return value is a dictionary:\n",
    "```\n",
    "{'sum': 296, 'mean': 74.0, 'max': 80, 'min': 68}\n",
    "```\n"
   ]
  },
  {
   "cell_type": "code",
   "execution_count": 40,
   "metadata": {},
   "outputs": [
    {
     "data": {
      "text/plain": [
       "{'sum': 296, 'mean': 74.0, 'max': 80, 'min': 68}"
      ]
     },
     "execution_count": 40,
     "metadata": {},
     "output_type": "execute_result"
    }
   ],
   "source": [
    "# Write your code below\n",
    "\n",
    "def calculate_stats(**numbers):\n",
    "    #print(numbers)\n",
    "    stats = {\n",
    "        \"sum\": _______,\n",
    "        \"mean\": _______,\n",
    "        \"max\": _______,\n",
    "        \"min\": _______ \n",
    "    }\n",
    "    return stats\n",
    "\n",
    "calculate_stats(Assignment=80, Midterm=78, Project=70, Final=68)\n"
   ]
  },
  {
   "cell_type": "markdown",
   "metadata": {},
   "source": [
    "### zip() function - join the iterators"
   ]
  },
  {
   "cell_type": "code",
   "execution_count": 24,
   "metadata": {},
   "outputs": [
    {
     "data": {
      "text/plain": [
       "dict_keys(['BTC', 'ETH', 'BCH', 'BNB', 'DOGE'])"
      ]
     },
     "execution_count": 24,
     "metadata": {},
     "output_type": "execute_result"
    },
    {
     "data": {
      "text/plain": [
       "dict_values([23844.68, 1656.9, 135.17, 304.76, 0.08245])"
      ]
     },
     "execution_count": 24,
     "metadata": {},
     "output_type": "execute_result"
    }
   ],
   "source": [
    "crypto_dict = {'BTC': 23844.68, 'ETH': 1656.9, 'BCH': 135.17, 'BNB': 304.76, 'DOGE': 0.08245}\n",
    "crypto_dict.keys()\n",
    "crypto_dict.values()"
   ]
  },
  {
   "cell_type": "markdown",
   "metadata": {},
   "source": [
    "Combine the keys & values list and form a nested items list. "
   ]
  },
  {
   "cell_type": "code",
   "execution_count": 25,
   "metadata": {},
   "outputs": [
    {
     "data": {
      "text/plain": [
       "[('BTC', 23844.68),\n",
       " ('ETH', 1656.9),\n",
       " ('BCH', 135.17),\n",
       " ('BNB', 304.76),\n",
       " ('DOGE', 0.08245)]"
      ]
     },
     "execution_count": 25,
     "metadata": {},
     "output_type": "execute_result"
    }
   ],
   "source": [
    "# write your code here\n",
    "[   ]    # the output is same as crypto_dict.items()"
   ]
  },
  {
   "cell_type": "markdown",
   "metadata": {},
   "source": [
    "### enumerate() function - add an index for enumerate object"
   ]
  },
  {
   "cell_type": "markdown",
   "metadata": {},
   "source": [
    "List the items in codes list with index starting from 1."
   ]
  },
  {
   "cell_type": "code",
   "execution_count": 1,
   "metadata": {},
   "outputs": [
    {
     "name": "stdout",
     "output_type": "stream",
     "text": [
      "1: PLTR\n",
      "2: TSLA\n",
      "3: NVDA\n",
      "4: AAPL\n",
      "5: AMD\n"
     ]
    }
   ],
   "source": [
    "codes = ['PLTR', 'TSLA', 'NVDA', 'AAPL', 'AMD']\n",
    "\n",
    "for idx, stock in enumerate(codes, start=1):                 # instead of range(len(codes))\n",
    "    print(idx, stock, sep=': ')"
   ]
  },
  {
   "cell_type": "markdown",
   "metadata": {},
   "source": [
    "### Exercises\n",
    "#### Task 1\n",
    "Define a function course_room(), take the provided lists as input, print the courses and rooms with index starting from 1, follow the required format shown below: \n",
    "```\n",
    "1: ISOM2020 at G001\n",
    "2: ISOM2600 at G002\n",
    "3: ISOM3360 at G003\n",
    "4: ISOM3400 at G004\n",
    "5: ISOM4400 at G005\n",
    "```"
   ]
  },
  {
   "cell_type": "code",
   "execution_count": 27,
   "metadata": {},
   "outputs": [
    {
     "name": "stdout",
     "output_type": "stream",
     "text": [
      "1: ISOM2020 at G001\n",
      "2: ISOM2600 at G002\n",
      "3: ISOM3360 at G003\n",
      "4: ISOM3400 at G004\n",
      "5: ISOM4400 at G005\n"
     ]
    }
   ],
   "source": [
    "is_courses = ['ISOM2020', 'ISOM2600', 'ISOM3360', 'ISOM3400', 'ISOM4400']\n",
    "lsk_rooms = ['G001', 'G002', 'G003', 'G004', 'G005']\n",
    "\n",
    "# write your code here\n",
    "def course_room(_______________):\n",
    "    for ________________ in _____________________________:\n",
    "        print( )\n",
    "\n",
    "course_room(is_courses, lsk_rooms)"
   ]
  },
  {
   "cell_type": "markdown",
   "metadata": {},
   "source": [
    "#### Task 2 \n",
    "Define a function to convert the provided lists (i.e. `codes`, `prices`, `shares`, `changes`, `w52_mid`) into a nested list, which contains tuples storing information of each stock. Return the nested list as output of the function.\n",
    "```\n",
    "portfolio = [('PLTR', 8.59, 2000, '+21.16%', 10.3),\n",
    "             ('TSLA', 202.46, 100, '+7.51%', 243.1),\n",
    "             ('NVDA', 226.62, 300, '+5.43%', 198.8),\n",
    "             ('AAPL', 153.0, 500, '-0.42%', 151.9),\n",
    "             ('AMD', 85.38, 600, '+3.39%', 90.1)]\n",
    "```"
   ]
  },
  {
   "cell_type": "code",
   "execution_count": 7,
   "metadata": {},
   "outputs": [],
   "source": [
    "# given lists\n",
    "codes = ['PLTR', 'TSLA', 'NVDA', 'AAPL', 'AMD']\n",
    "prices = [8.59, 202.46, 226.62, 153.0, 85.38]\n",
    "shares = [2000, 100, 300, 500, 600]\n",
    "changes = ['+21.16%', '+7.51%', '+5.43%', '-0.42%', '+3.39%']\n",
    "w52_mid = [10.3, 243.1, 198.8, 151.9, 90.1]"
   ]
  },
  {
   "cell_type": "code",
   "execution_count": 14,
   "metadata": {},
   "outputs": [
    {
     "data": {
      "text/plain": [
       "[('PLTR', 8.59, 2000, '+21.16%', 10.3),\n",
       " ('TSLA', 202.46, 100, '+7.51%', 243.1),\n",
       " ('NVDA', 226.62, 300, '+5.43%', 198.8),\n",
       " ('AAPL', 153.0, 500, '-0.42%', 151.9),\n",
       " ('AMD', 85.38, 600, '+3.39%', 90.1)]"
      ]
     },
     "execution_count": 14,
     "metadata": {},
     "output_type": "execute_result"
    }
   ],
   "source": [
    "# write your code here\n",
    "def portfolio(*input_list):\n",
    "    #print(input_list)\n",
    "    output = \n",
    "    for ___ in __________________:\n",
    "        \n",
    "    return \n",
    "\n",
    "portfolio(codes, prices, shares, changes, w52_mid)"
   ]
  }
 ],
 "metadata": {
  "kernelspec": {
   "display_name": "Python 3 (ipykernel)",
   "language": "python",
   "name": "python3"
  },
  "language_info": {
   "codemirror_mode": {
    "name": "ipython",
    "version": 3
   },
   "file_extension": ".py",
   "mimetype": "text/x-python",
   "name": "python",
   "nbconvert_exporter": "python",
   "pygments_lexer": "ipython3",
   "version": "3.9.7"
  }
 },
 "nbformat": 4,
 "nbformat_minor": 4
}
