{
 "cells": [
  {
   "cell_type": "markdown",
   "metadata": {},
   "source": [
    "# Lab 5 (cont'd): Lambda Function"
   ]
  },
  {
   "cell_type": "markdown",
   "metadata": {},
   "source": [
    "Learning focus:\n",
    "- Lambda Function"
   ]
  },
  {
   "cell_type": "markdown",
   "metadata": {},
   "source": [
    "### Lambda Function"
   ]
  },
  {
   "cell_type": "markdown",
   "metadata": {},
   "source": [
    "Write a lambda function and assign to variable `convert_int` which can convert a numerical string to integer."
   ]
  },
  {
   "cell_type": "code",
   "execution_count": 1,
   "metadata": {},
   "outputs": [
    {
     "data": {
      "text/plain": [
       "'10'"
      ]
     },
     "execution_count": 1,
     "metadata": {},
     "output_type": "execute_result"
    }
   ],
   "source": [
    "# complete the code below\n",
    "convert_int = lambda x: str(x)\n",
    "convert_int('10')"
   ]
  },
  {
   "cell_type": "markdown",
   "metadata": {},
   "source": [
    "Write a lambda function and assign to variable `show_name` which can format the input name as the required format.\n",
    "```\n",
    "'Full name: Elon MUSK'\n",
    "```"
   ]
  },
  {
   "cell_type": "code",
   "execution_count": 3,
   "metadata": {},
   "outputs": [
    {
     "data": {
      "text/plain": [
       "'Full name: Elon Musk'"
      ]
     },
     "execution_count": 3,
     "metadata": {},
     "output_type": "execute_result"
    }
   ],
   "source": [
    "# complete the code below\n",
    "show_name = lambda first, last: f'Full name: {first.capitalize()} {last.capitalize()}'\n",
    "show_name('elon', 'musk')"
   ]
  },
  {
   "cell_type": "markdown",
   "metadata": {},
   "source": [
    "Write a lambda function and assign to variable `sort_list` which can return a sorted list in descending order."
   ]
  },
  {
   "cell_type": "code",
   "execution_count": 4,
   "metadata": {},
   "outputs": [
    {
     "data": {
      "text/plain": [
       "[8, 7, 6, 5, 5, 1]"
      ]
     },
     "execution_count": 4,
     "metadata": {},
     "output_type": "execute_result"
    }
   ],
   "source": [
    "list_ex = [1,5,7,6,8,5]\n",
    "\n",
    "# complete the code below\n",
    "sort_list = lambda ls: sorted(ls, reverse=True)\n",
    "sort_list(list_ex)"
   ]
  },
  {
   "cell_type": "code",
   "execution_count": 5,
   "metadata": {},
   "outputs": [
    {
     "data": {
      "text/plain": [
       "[1, 5, 7, 6, 8, 5]"
      ]
     },
     "execution_count": 5,
     "metadata": {},
     "output_type": "execute_result"
    }
   ],
   "source": [
    "list_ex"
   ]
  },
  {
   "cell_type": "markdown",
   "metadata": {},
   "source": [
    "Write a lambda function and assign to variable `get_coin` which can return the coins with prices in 100 and 1000."
   ]
  },
  {
   "cell_type": "code",
   "execution_count": 8,
   "metadata": {},
   "outputs": [
    {
     "data": {
      "text/plain": [
       "['BCH', 'BNB']"
      ]
     },
     "execution_count": 8,
     "metadata": {},
     "output_type": "execute_result"
    }
   ],
   "source": [
    "crypto_list = [('BTC', 23844.68), ('ETH', 1656.9), ('BCH', 135.17), ('BNB', 304.76), ('DOGE', 0.08245)]\n",
    "\n",
    "# complete the code below\n",
    "get_coin = lambda crypto, low, high: [coin for coin, price in crypto if low < price < high]\n",
    "get_coin(crypto_list, 100, 1000)"
   ]
  },
  {
   "cell_type": "markdown",
   "metadata": {},
   "source": [
    "### Exercises\n",
    "Write a lambda function and assign to variable get_prices which can return the price list from a dictionary."
   ]
  },
  {
   "cell_type": "code",
   "execution_count": 9,
   "metadata": {},
   "outputs": [
    {
     "data": {
      "text/plain": [
       "[23844.68, 1656.9, 135.17, 304.76, 0.08245]"
      ]
     },
     "execution_count": 9,
     "metadata": {},
     "output_type": "execute_result"
    }
   ],
   "source": [
    "crypto_dict = {'BTC': 23844.68, 'ETH': 1656.9, 'BCH': 135.17, 'BNB': 304.76, 'DOGE': 0.08245}\n",
    "\n",
    "# complete the code below\n",
    "get_prices = lambda crypto: [price for coin, price in crypto.items()]\n",
    "get_prices(crypto_dict)"
   ]
  },
  {
   "cell_type": "markdown",
   "metadata": {},
   "source": [
    "### Lambda Function for Sorting List"
   ]
  },
  {
   "cell_type": "markdown",
   "metadata": {},
   "source": [
    "Both list.sort() and sorted() have a key parameter to specify a function (or other callable) to be called on each list element prior to making comparisons."
   ]
  },
  {
   "cell_type": "code",
   "execution_count": 204,
   "metadata": {},
   "outputs": [
    {
     "data": {
      "text/plain": [
       "['9', '8', '7', '6', '5', '4', '3', '2', '10', '1', '0']"
      ]
     },
     "execution_count": 204,
     "metadata": {},
     "output_type": "execute_result"
    },
    {
     "data": {
      "text/plain": [
       "['10', '9', '8', '7', '6', '5', '4', '3', '2', '1', '0']"
      ]
     },
     "execution_count": 204,
     "metadata": {},
     "output_type": "execute_result"
    }
   ],
   "source": [
    "clist = list(\"0123456789\")\n",
    "clist.append('10')\n",
    "sorted(clist, reverse=True)\n",
    "sorted(clist, key=int, reverse=True)     # remember the effect of the 'key' argument?"
   ]
  },
  {
   "cell_type": "markdown",
   "metadata": {},
   "source": [
    "### Exercises\n",
    "#### Task 1\n",
    "Sort the list by alphabet order of the names."
   ]
  },
  {
   "cell_type": "code",
   "execution_count": 11,
   "metadata": {},
   "outputs": [],
   "source": [
    "sid_name = [(20295541, \"John\") ,(20293369, \"Ian\"), (20293800, \"Hilton\"), (20573366, \"Violet\"), (20205548, \"Weslie\"), (19999999, \"Caroline\"), (20865590, \"Caroline\"), (20000000, \"Caroline\")]"
   ]
  },
  {
   "cell_type": "code",
   "execution_count": 14,
   "metadata": {},
   "outputs": [
    {
     "data": {
      "text/plain": [
       "[(19999999, 'Caroline'),\n",
       " (20865590, 'Caroline'),\n",
       " (20000000, 'Caroline'),\n",
       " (20293800, 'Hilton'),\n",
       " (20293369, 'Ian'),\n",
       " (20295541, 'John'),\n",
       " (20573366, 'Violet'),\n",
       " (20205548, 'Weslie')]"
      ]
     },
     "execution_count": 14,
     "metadata": {},
     "output_type": "execute_result"
    }
   ],
   "source": [
    "# complete the code below\n",
    "sorted(sid_name, key=lambda x: x[1])"
   ]
  },
  {
   "cell_type": "markdown",
   "metadata": {},
   "source": [
    "#### Task 2 -- Lab Submission (Lab 6): "
   ]
  },
  {
   "cell_type": "markdown",
   "metadata": {},
   "source": [
    "Sort the list by alphabet order of the names, then by descending order of sid"
   ]
  },
  {
   "cell_type": "code",
   "execution_count": 16,
   "metadata": {},
   "outputs": [
    {
     "data": {
      "text/plain": [
       "[(20865590, 'Caroline'),\n",
       " (20000000, 'Caroline'),\n",
       " (19999999, 'Caroline'),\n",
       " (20293800, 'Hilton'),\n",
       " (20293369, 'Ian'),\n",
       " (20295541, 'John'),\n",
       " (20573366, 'Violet'),\n",
       " (20205548, 'Weslie')]"
      ]
     },
     "execution_count": 16,
     "metadata": {},
     "output_type": "execute_result"
    }
   ],
   "source": [
    "# write the code below\n",
    "sorted(sid_name, key=lambda x: (x[1], -x[0]))"
   ]
  },
  {
   "cell_type": "markdown",
   "metadata": {},
   "source": [
    "#### Challenging Questions\n",
    "Sort the courses list by number of ISOM3400 students in descending order."
   ]
  },
  {
   "cell_type": "code",
   "execution_count": 18,
   "metadata": {},
   "outputs": [
    {
     "data": {
      "text/plain": [
       "[{'ISOM2020': 480, 'ISOM3230': 65, 'ISOM3260': 70, 'ISOM3400': 65},\n",
       " {'ISOM2020': 457, 'ISOM3180': 72, 'ISOM3260': 60, 'ISOM3400': 61},\n",
       " {'ISOM2010': 510,\n",
       "  'ISOM2020': 460,\n",
       "  'ISOM2030': 70,\n",
       "  'ISOM3230': 90,\n",
       "  'ISOM3400': 60},\n",
       " {'ISOM2010': 503,\n",
       "  'ISOM2030': 68,\n",
       "  'ISOM3180': 68,\n",
       "  'ISOM3230': 87,\n",
       "  'ISOM3400': 0}]"
      ]
     },
     "execution_count": 18,
     "metadata": {},
     "output_type": "execute_result"
    }
   ],
   "source": [
    "courses = [{\"ISOM2010\": 510, \"ISOM2020\": 460, \"ISOM2030\": 70, \"ISOM3230\": 90, \"ISOM3400\": 60}, \n",
    "              {\"ISOM2010\": 503, \"ISOM2030\": 68, \"ISOM3180\": 68, \"ISOM3230\": 87, \"ISOM3400\": 0}, \n",
    "              {\"ISOM2020\": 457, \"ISOM3180\": 72, \"ISOM3260\": 60, \"ISOM3400\": 61}, \n",
    "              {\"ISOM2020\": 480, \"ISOM3230\": 65, \"ISOM3260\": 70, \"ISOM3400\": 65}]\n",
    "\n",
    "# write the code below\n",
    "sorted(courses, key=lambda x: -x[\"ISOM3400\"])"
   ]
  },
  {
   "cell_type": "markdown",
   "metadata": {},
   "source": [
    "Then sort the courses list by total number of students in descending order."
   ]
  },
  {
   "cell_type": "code",
   "execution_count": 19,
   "metadata": {},
   "outputs": [
    {
     "data": {
      "text/plain": [
       "[{'ISOM2010': 510,\n",
       "  'ISOM2020': 460,\n",
       "  'ISOM2030': 70,\n",
       "  'ISOM3230': 90,\n",
       "  'ISOM3400': 60},\n",
       " {'ISOM2010': 503,\n",
       "  'ISOM2030': 68,\n",
       "  'ISOM3180': 68,\n",
       "  'ISOM3230': 87,\n",
       "  'ISOM3400': 0},\n",
       " {'ISOM2020': 480, 'ISOM3230': 65, 'ISOM3260': 70, 'ISOM3400': 65},\n",
       " {'ISOM2020': 457, 'ISOM3180': 72, 'ISOM3260': 60, 'ISOM3400': 61}]"
      ]
     },
     "execution_count": 19,
     "metadata": {},
     "output_type": "execute_result"
    }
   ],
   "source": [
    "# write the code below\n",
    "sorted(courses, key=lambda x: -sum(x.values()))\n"
   ]
  }
 ],
 "metadata": {
  "kernelspec": {
   "display_name": "Python 3 (ipykernel)",
   "language": "python",
   "name": "python3"
  },
  "language_info": {
   "codemirror_mode": {
    "name": "ipython",
    "version": 3
   },
   "file_extension": ".py",
   "mimetype": "text/x-python",
   "name": "python",
   "nbconvert_exporter": "python",
   "pygments_lexer": "ipython3",
   "version": "3.11.5"
  }
 },
 "nbformat": 4,
 "nbformat_minor": 4
}
