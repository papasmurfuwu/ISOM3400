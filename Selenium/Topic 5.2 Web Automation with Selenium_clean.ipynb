{
 "cells": [
  {
   "cell_type": "markdown",
   "metadata": {
    "id": "BDxYIw85cVdw"
   },
   "source": [
    "\n",
    "\n",
    "# Scraping Dynamic Web Pages\n",
    "\n",
    "\n",
    "We are increasingly encountering pages whose contents are dynamically generated within the user's Web browser; that is, the content is determined only when the page is rendered and is updated dynamically based on user interactions and inputs.\n",
    "\n",
    "\n",
    "\n"
   ]
  },
  {
   "cell_type": "markdown",
   "metadata": {
    "id": "09w_Y_NBcVdx"
   },
   "source": [
    "\n",
    "\n",
    "Is there a programmatic approach to drive a browser to mimic human users' actions, e.g., clicking on a button, filling in a form, etc., to load contents dynamically?\n",
    "\n",
    "<img src=\"https://upload.wikimedia.org/wikipedia/commons/d/d5/Selenium_Logo.png\"  width=150/>\n",
    "\n",
    "\n",
    "\n",
    "\n",
    "\n",
    "\n",
    "[Selenium](https://www.selenium.dev) is an umbrella project for a range of tools and libraries that enable and support the automation of web browsers. At its core is WebDriver, an interface to write instruction sets that can be run interchangeably in many browsers.\n",
    "\n",
    "\n"
   ]
  },
  {
   "cell_type": "code",
   "execution_count": null,
   "metadata": {},
   "outputs": [],
   "source": [
    "import selenium\n",
    "selenium.__version__"
   ]
  },
  {
   "cell_type": "markdown",
   "metadata": {
    "id": "NqAy_5MMcVdx"
   },
   "source": [
    "---\n",
    "\n",
    "<br>\n",
    "\n",
    "### Creating a WebDriver Instance and Navigating to the Target Page\n",
    "\n",
    "The `selenium.webdriver` module provides all the WebDriver implementations. Currently supported WebDriver implementations are Firefox, Chrome, IE, etc."
   ]
  },
  {
   "cell_type": "code",
   "execution_count": 3,
   "metadata": {
    "id": "DcKAQGgGySBY"
   },
   "outputs": [],
   "source": [
    "from selenium import webdriver\n",
    "from selenium.webdriver.chrome.service import Service\n",
    "from webdriver_manager.chrome import ChromeDriverManager\n",
    "\n",
    "# use Chrome\n",
    "s = Service(ChromeDriverManager().install())\n",
    "driver = webdriver.Chrome(service=s)"
   ]
  },
  {
   "cell_type": "markdown",
   "metadata": {
    "id": "uvLNkA_rcVdx"
   },
   "source": [
    "\n",
    "The first thing we'll want to do with the `WebDriver` is to navigate to a page given by the URL. The convenient way to do so is to call the `.get()` method:\n",
    "\n",
    "\n"
   ]
  },
  {
   "cell_type": "code",
   "execution_count": 4,
   "metadata": {
    "id": "_IQCXgZTcVdy"
   },
   "outputs": [],
   "source": [
    "driver.get(\"https://bing.com\")"
   ]
  },
  {
   "cell_type": "markdown",
   "metadata": {
    "id": "9djXUp4XcVdy"
   },
   "source": [
    "<div class=\"alert alert-info\">WebDriver will wait until the page has fully loaded before returning control to the script. </div>"
   ]
  },
  {
   "cell_type": "code",
   "execution_count": null,
   "metadata": {},
   "outputs": [],
   "source": [
    "driver.title     # retrieve the title of the page"
   ]
  },
  {
   "cell_type": "markdown",
   "metadata": {
    "id": "eS2F0U10cVdy"
   },
   "source": [
    "\n",
    "---\n",
    "\n",
    "<br>\n",
    "\n",
    "\n",
    "### Locating Desired Tags\n",
    "\n",
    "We can use the `WebDriver` instance's `.find_element()` or  `.find_elements()` methods to specify a locating strategy with a corresponding filter to find the first matching `WebElement` or a list of matching `WebElement`s.\n",
    "\n",
    "- Various locating strategies are available and can be specified via predefined strings:\n",
    "\n",
    "    - By ID: `\"id\"`\n",
    "    \n",
    "    - By tag name: `\"tag name\"`\n",
    "    \n",
    "    - By class name: `\"class name\"`\n",
    "    - By name: `\"name\"`\n",
    "    - By css selector: `\"css selector\"`\n",
    "    - By link text: `\"link text\"`\n",
    "    - By partial link text: `\"partial link text\"`\n",
    " \n"
   ]
  },
  {
   "cell_type": "markdown",
   "metadata": {
    "cell_style": "center",
    "id": "BGa1Mx_5cVdz"
   },
   "source": [
    "For example, a paragraph element of a specific class:\n",
    "\n",
    "```html\n",
    "<p class=\"class-one\"> This is a paragraph of  of class \"class-one\".</p>\n",
    "```\n",
    "\n",
    "can be found by using any of:\n",
    "\n",
    "```python\n",
    "driver.find_element(\"class name\", \"class-one\")\n",
    "driver.find_element(\"css selector\", 'p.class-one')\n",
    "driver.find_element(\"css selector\", \"p[class='class-one']\")\n",
    "```"
   ]
  },
  {
   "cell_type": "markdown",
   "metadata": {
    "cell_style": "center",
    "id": "n6PdxM-IcVdz"
   },
   "source": [
    "A hyperlink element that contains a specific link text:\n",
    "\n",
    "```html\n",
    "<a href=\"sample.html\">The 1st item</a>\n",
    "```\n",
    "\n",
    "can be found by using either of:\n",
    "\n",
    "```python\n",
    "driver.find_element(\"link text\", \"The 1st item\")\n",
    "driver.find_element(\"partial link text\", \"1st\")\n",
    "```"
   ]
  },
  {
   "cell_type": "markdown",
   "metadata": {
    "cell_style": "center",
    "id": "1gOB79GwcVdz"
   },
   "source": [
    "And a text field  \n",
    "\n",
    "<input type=\"text\" name=\"passwd\" id=\"passwd-id\" />\n",
    "\n",
    "\n",
    "defined as:\n",
    "\n",
    "\n",
    "```html\n",
    "<input type=\"text\" name=\"passwd\" id=\"passwd-id\" />\n",
    "\n",
    "```\n",
    "\n",
    "can be located using any of:\n",
    "\n",
    "```python\n",
    "driver.find_element(\"id\", \"passwd-id\")\n",
    "driver.find_element(\"name\", \"passwd\")\n",
    "driver.find_element(\"css selector\", \"input#passwd-id\")\n",
    "```"
   ]
  },
  {
   "cell_type": "markdown",
   "metadata": {
    "id": "9s6R7PiUySBa"
   },
   "source": [
    "### Using Chrome's Inspect Tool to Examine a Target Element\n",
    "\n",
    "\n",
    "Open Chrome's devtools. Use the mouse selector tool (top left button) to explore the web page content for the desired page element\n",
    "\n",
    "- The element will be highlighted on the page itself and its corresponding entry in the document tree.\n",
    "\n",
    "Take note of any identifying attributes for the target tags (class, id, etc) and use the `.find_elements()` or `.find_element()` method to fetch desired `WebElement`(s)."
   ]
  },
  {
   "cell_type": "code",
   "execution_count": null,
   "metadata": {},
   "outputs": [],
   "source": [
    " # locate the input text element by its name attribute\n",
    "search_box = driver.find_element(\"name\", \"q\")  \n",
    "search_box"
   ]
  },
  {
   "cell_type": "markdown",
   "metadata": {
    "id": "0ZazK33ZcVd1"
   },
   "source": [
    " ### Sending Text and Keystrokes\n",
    "\n",
    "\n",
    "\n",
    "Virtualized device input can be generated by the `send_keys()` method:\n",
    "\n"
   ]
  },
  {
   "cell_type": "code",
   "execution_count": 6,
   "metadata": {
    "id": "lpqKN9U1cVd1"
   },
   "outputs": [],
   "source": [
    "search_box.clear()    # clear any pre-populated text                          \n",
    "search_box.send_keys(\"us election 2020\")"
   ]
  },
  {
   "cell_type": "markdown",
   "metadata": {
    "id": "h4fJbe1acVd1"
   },
   "source": [
    "<div class=\"alert alert-info\">Typing something into a text field won't automatically clear it. Instead, what we type will be appended to what's already there.</div>"
   ]
  },
  {
   "cell_type": "markdown",
   "metadata": {
    "id": "5Hv5_WKiySBb"
   },
   "source": [
    " Special keys can be sent using the `Keys` class imported from `selenium.webdriver.common.keys` (try `dir(Keys)` to see a list of supported virtual keystrokes):"
   ]
  },
  {
   "cell_type": "code",
   "execution_count": 7,
   "metadata": {
    "id": "j2sWvNLmcVd2"
   },
   "outputs": [],
   "source": [
    "from selenium.webdriver.common.keys import Keys\n",
    "search_box.send_keys(Keys.RETURN)"
   ]
  },
  {
   "cell_type": "code",
   "execution_count": null,
   "metadata": {},
   "outputs": [],
   "source": [
    "dir(Keys)"
   ]
  },
  {
   "cell_type": "code",
   "execution_count": 4,
   "metadata": {
    "id": "-0VGguUQcVd2"
   },
   "outputs": [],
   "source": [
    "from selenium.webdriver.common.keys import Keys\n",
    "\n",
    "# We can also send the query text and the keystroke in one call\n",
    "search_box = driver.find_element(\"name\", \"q\")\n",
    "search_box.clear()\n",
    "search_box.send_keys(\"us election 2020\", Keys.RETURN)"
   ]
  },
  {
   "cell_type": "markdown",
   "metadata": {
    "id": "G-tFd59RySBb"
   },
   "source": [
    "---\n",
    "\n",
    "<br>\n",
    "\n",
    "### Extracting Information"
   ]
  },
  {
   "cell_type": "code",
   "execution_count": null,
   "metadata": {},
   "outputs": [],
   "source": [
    "search_results = driver.find_elements(\"class name\", 'b_algo')\n",
    "\n",
    "# a top-down approach to narrow down the selection to the correct elements\n",
    "# search_results = driver.find_elements(\"css selector\", \"#b_results .b_algo\")\n",
    "search_results"
   ]
  },
  {
   "cell_type": "code",
   "execution_count": null,
   "metadata": {},
   "outputs": [],
   "source": [
    "for result in search_results[1:]:\n",
    "    print(result.text)"
   ]
  },
  {
   "cell_type": "markdown",
   "metadata": {
    "id": "7cfM-2G6cVd3"
   },
   "source": [
    "The rendered text of a specific element can be retrieved by `.text`:"
   ]
  },
  {
   "cell_type": "code",
   "execution_count": null,
   "metadata": {},
   "outputs": [],
   "source": [
    "search_results[2].text"
   ]
  },
  {
   "cell_type": "markdown",
   "metadata": {
    "id": "7ePjorypcVd3"
   },
   "source": [
    "The parent `WebElement` can also be chained with a `find_element()` method to access child elements:"
   ]
  },
  {
   "cell_type": "code",
   "execution_count": null,
   "metadata": {},
   "outputs": [],
   "source": [
    "search_results[2].find_element(\"class name\", \"tpcn\").text"
   ]
  },
  {
   "cell_type": "code",
   "execution_count": null,
   "metadata": {},
   "outputs": [],
   "source": [
    "search_results[2].find_element(\"tag name\", \"h2\").text"
   ]
  },
  {
   "cell_type": "code",
   "execution_count": null,
   "metadata": {},
   "outputs": [],
   "source": [
    "search_results[2].find_element(\"css selector\", \"p\").text"
   ]
  },
  {
   "cell_type": "markdown",
   "metadata": {
    "id": "9sv2y4mJcVd4"
   },
   "source": [
    "---\n",
    "\n",
    "## Transitioning to Beautiful Soup\n",
    "\n",
    "\n",
    "After retrieving the search result page, we instruct selenium to hand off the page source (via the WebDriver's `page_source` attribute) to Beautiful Soup:"
   ]
  },
  {
   "cell_type": "code",
   "execution_count": 6,
   "metadata": {
    "id": "tPbAmIUdcVd4"
   },
   "outputs": [],
   "source": [
    "from bs4 import BeautifulSoup\n",
    "\n",
    "search_result_soup = BeautifulSoup(driver.page_source, 'html.parser')"
   ]
  },
  {
   "cell_type": "code",
   "execution_count": null,
   "metadata": {},
   "outputs": [],
   "source": [
    "print(search_result_soup.prettify())"
   ]
  },
  {
   "cell_type": "code",
   "execution_count": 8,
   "metadata": {
    "id": "b3f4gEZccVd5"
   },
   "outputs": [],
   "source": [
    "search_result_list = search_result_soup.find_all('li', {'class': 'b_algo'})"
   ]
  },
  {
   "cell_type": "code",
   "execution_count": null,
   "metadata": {},
   "outputs": [],
   "source": [
    "search_result_list[2]"
   ]
  },
  {
   "cell_type": "code",
   "execution_count": null,
   "metadata": {},
   "outputs": [],
   "source": [
    "search_result_list[2].find(\"a\").get('href')       # equivalently, search_result_list[2].a['href']  "
   ]
  },
  {
   "cell_type": "code",
   "execution_count": null,
   "metadata": {},
   "outputs": [],
   "source": [
    "import pandas as pd\n",
    "\n",
    "# a row-based approach\n",
    "\n",
    "all_records = []\n",
    "\n",
    "for search_result in search_result_list:\n",
    "    url = search_result.find(\"a\").get('href')\n",
    "    text = search_result.find(\"h2\").get_text()\n",
    "    all_records.append({'text': text, 'url': url})\n",
    "\n",
    "search_result_df = pd.DataFrame(all_records)\n",
    "search_result_df"
   ]
  },
  {
   "cell_type": "markdown",
   "metadata": {
    "id": "IecY4wl0cVd6"
   },
   "source": [
    "Navigating around the search result is just a repeated application of generating keystrokes with `selenium`:"
   ]
  },
  {
   "cell_type": "code",
   "execution_count": 12,
   "metadata": {},
   "outputs": [],
   "source": [
    "# use .send_keys(Keys.RETURN) to click on a hyperlink\n",
    "driver.find_element(\"css selector\", \"[title='Next page']\").send_keys(Keys.RETURN)"
   ]
  },
  {
   "cell_type": "markdown",
   "metadata": {
    "id": "nbU-WCQmcVd6"
   },
   "source": [
    "`WebDriver`'s `back()` and `forward()` methods allow us to move backward and forward in the browser's history:\n"
   ]
  },
  {
   "cell_type": "code",
   "execution_count": 13,
   "metadata": {
    "id": "6BTTFZ2scVd7"
   },
   "outputs": [],
   "source": [
    "driver.back()      # driver.forward()"
   ]
  },
  {
   "cell_type": "code",
   "execution_count": 14,
   "metadata": {},
   "outputs": [],
   "source": [
    "driver.forward()"
   ]
  },
  {
   "cell_type": "markdown",
   "metadata": {
    "id": "rg8XnGAzcVd7"
   },
   "source": [
    "`.refresh()` refreshes the current page:"
   ]
  },
  {
   "cell_type": "code",
   "execution_count": 15,
   "metadata": {
    "id": "taI8xTy7cVd7"
   },
   "outputs": [],
   "source": [
    "driver.refresh()"
   ]
  },
  {
   "cell_type": "markdown",
   "metadata": {
    "id": "2jF2yHzScVd7"
   },
   "source": [
    "When we are finished with the browser session, we should close the browser window:"
   ]
  },
  {
   "cell_type": "code",
   "execution_count": 16,
   "metadata": {
    "id": "qMBCJBHocVd7"
   },
   "outputs": [],
   "source": [
    "driver.close()"
   ]
  },
  {
   "cell_type": "markdown",
   "metadata": {
    "id": "imOpFporcVd7"
   },
   "source": [
    "<div class=\"alert alert-info\"> We can also call <code>quit()</code> method instead of <code>close()</code>. <code>quit()</code> will exit entire browser whereas <code>close()</code> will close one tab.</div>"
   ]
  },
  {
   "cell_type": "markdown",
   "metadata": {
    "id": "qj86YOFmySBc"
   },
   "source": [
    "---\n",
    "\n",
    "## Waits\n",
    "\n",
    "\n",
    "Nowadays, it is increasingly the case that, when a page is loaded, the elements which we want to interact with may load at different time intervals (e.g., some elements may be added after the document has completed loading). This makes locating elements difficult.\n",
    "\n",
    "Selenium's `WebDriverWait` addresses this issue by providing some slack between actions performed by the browser and those instructed by our WebDriver script. In particular, we can use waits to tell the WebDriver to:\n",
    "\n",
    "- Wait a certain amount of time before throwing an exception, e.g., `driver.implicitly_wait(time_in_seconds)`;\n",
    "   \n",
    "   - It needs to be called only once per selenium session.\n",
    "   - It makes each command wait for the defined time before resuming execution  \n",
    "    \n",
    " ```python\n",
    " # setting an implicit wait of 10 seconds\n",
    "driver.implicitly_wait(10)\n",
    " ```"
   ]
  },
  {
   "cell_type": "markdown",
   "metadata": {
    "id": "O3LAP1rEcVd4"
   },
   "source": [
    "\n",
    "\n",
    "- Wait for certain conditions before proceeding further, e.g., `WebDriverWait(driver).until(some_condition)`.\n",
    "\n",
    "\n"
   ]
  },
  {
   "cell_type": "code",
   "execution_count": 17,
   "metadata": {
    "id": "W9FdJGYw4hj0"
   },
   "outputs": [],
   "source": [
    "from selenium import webdriver\n",
    "from selenium.webdriver.chrome.service import Service\n",
    "from webdriver_manager.chrome import ChromeDriverManager\n",
    "\n",
    "# use Chrome\n",
    "s = Service(ChromeDriverManager().install())\n",
    "driver = webdriver.Chrome(service=s)\n",
    "driver.get(\"https://techcrunch.com/video/\")"
   ]
  },
  {
   "cell_type": "code",
   "execution_count": 19,
   "metadata": {
    "id": "t3qkogOqySBd"
   },
   "outputs": [],
   "source": [
    "from selenium.webdriver.support.ui import WebDriverWait\n",
    "\n",
    "# wait up to 10 seconds before throwing a TimeoutException unless it finds the element within 10 seconds\n",
    "loadmore_button = WebDriverWait(driver, 10).until(lambda d: \n",
    "                                                  d.find_element(\"css selector\", \"button.load-more\"))\n",
    "loadmore_button.click()"
   ]
  },
  {
   "cell_type": "markdown",
   "metadata": {
    "id": "3jlBbgmjFSVy"
   },
   "source": [
    "       \n",
    "There are predefined conditions for [frequent wait operations](https://www.selenium.dev/selenium/docs/api/py/webdriver_support/selenium.webdriver.support.expected_conditions.html).  Some of them are:\n",
    "\n",
    " - `title_is()`\n",
    " - `title_contains()`\n",
    " -  `presence_of_element_located()`\n",
    " - `visibility_of_element_located()`\n",
    " - `visibility_of()`\n",
    " - `presence_of_all_elements_located()`\n",
    " - `element_to_be_clickable()`\n",
    " - `element_located_to_be_selected()`\n",
    " - `element_selection_state_to_be()`\n",
    " - `element_located_selection_state_to_be()`\n",
    " - `alert_is_present()`\n",
    " - ...\n",
    "\n"
   ]
  },
  {
   "cell_type": "code",
   "execution_count": 20,
   "metadata": {
    "id": "1JyzqkoRFmVI"
   },
   "outputs": [],
   "source": [
    "from selenium import webdriver\n",
    "from selenium.webdriver.chrome.service import Service\n",
    "from webdriver_manager.chrome import ChromeDriverManager\n",
    "\n",
    "from selenium.webdriver.support import expected_conditions as EC\n",
    "from selenium.webdriver.support.ui import WebDriverWait\n",
    "\n",
    "# use Chrome\n",
    "s = Service(ChromeDriverManager().install())\n",
    "driver = webdriver.Chrome(service=s)\n",
    "driver.get(\"https://techcrunch.com/video/\")\n",
    "\n",
    "# EC.element_to_be_clickable is a class\n",
    "loadmore_button = WebDriverWait(driver, 10).until(EC.element_to_be_clickable((\"css selector\",\n",
    "                                                                              \"button.load-more\")))\n",
    "loadmore_button.click()"
   ]
  },
  {
   "cell_type": "markdown",
   "metadata": {
    "id": "qrDn3MIEcoDB"
   },
   "source": [
    "Please refer to this Web page for [the detail](https://www.selenium.dev/documentation/webdriver/waits) of uses of waits.\n",
    "\n",
    "\n",
    "\n",
    "<div class=\"alert alert-info\"> Warning: Do not mix implicit and explicit waits. Doing so can cause unpredictable wait times.</div>"
   ]
  },
  {
   "cell_type": "code",
   "execution_count": null,
   "metadata": {},
   "outputs": [],
   "source": [
    "from selenium.webdriver.support import expected_conditions as EC\n",
    "from selenium.webdriver.support.ui import WebDriverWait\n",
    "\n",
    "driver.get(\"https://techcrunch.com/video/\")\n",
    "\n",
    "for i in range(10):\n",
    "# EC.element_to_be_clickable is a class\n",
    "    try:\n",
    "        WebDriverWait(driver, 10).until(EC.element_to_be_clickable((\"css selector\", \n",
    "                                                                    \"button.load-more\"))).click()\n",
    "        print(f\"Click on the load-more button {i+1} times\")\n",
    "    except:\n",
    "        break"
   ]
  },
  {
   "cell_type": "markdown",
   "metadata": {
    "id": "n4cb2j10-wfK"
   },
   "source": [
    "# Optional: Run Selenium on Colab\n"
   ]
  },
  {
   "cell_type": "code",
   "execution_count": 1,
   "metadata": {
    "executionInfo": {
     "elapsed": 37131,
     "status": "ok",
     "timestamp": 1699967692914,
     "user": {
      "displayName": "JJ J",
      "userId": "02730144426697756961"
     },
     "user_tz": -480
    },
    "id": "i8bhf-4h-z7a"
   },
   "outputs": [],
   "source": [
    "%%capture\n",
    "! pip install selenium\n",
    "! apt-get update\n",
    "! apt install chromium-chromedriver"
   ]
  },
  {
   "cell_type": "code",
   "execution_count": null,
   "metadata": {},
   "outputs": [],
   "source": [
    "from selenium import webdriver\n",
    "chrome_options = webdriver.ChromeOptions()\n",
    "chrome_options.add_argument('--headless')\n",
    "chrome_options.add_argument('--no-sandbox')\n",
    "chrome_options.add_argument('-- disable-dev-shm-usage')\n",
    "driver = webdriver.Chrome(options=chrome_options)\n",
    "driver.get(\"https://w5.ab.ust.hk/wcq/cgi-bin/2310/\")\n",
    "driver.title"
   ]
  }
 ],
 "metadata": {
  "colab": {
   "provenance": []
  },
  "kernelspec": {
   "display_name": "Python 3 (ipykernel)",
   "language": "python",
   "name": "python3"
  },
  "language_info": {
   "codemirror_mode": {
    "name": "ipython",
    "version": 3
   },
   "file_extension": ".py",
   "mimetype": "text/x-python",
   "name": "python",
   "nbconvert_exporter": "python",
   "pygments_lexer": "ipython3",
   "version": "3.11.5"
  },
  "vscode": {
   "interpreter": {
    "hash": "ad2bdc8ecc057115af97d19610ffacc2b4e99fae6737bb82f5d7fb13d2f2c186"
   }
  }
 },
 "nbformat": 4,
 "nbformat_minor": 1
}
