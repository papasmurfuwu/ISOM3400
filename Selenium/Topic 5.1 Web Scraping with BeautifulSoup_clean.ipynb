{
  "cells": [
    {
      "cell_type": "markdown",
      "metadata": {
        "id": "eKUoS234zVDC"
      },
      "source": [
        " ### <span style=\"color: #DB4437; font-family: Trebuchet MS, sans-serif;\"> Disclaimer: Please note that the instructions for Web scraping in this file are tailored for the Chrome browser, and may not be applicable to other browsers. We recommend using Chrome for best results. </span>  \n",
        " [Chrome Download Link](https://www.google.com/chrome/)"
      ]
    },
    {
      "cell_type": "markdown",
      "metadata": {
        "id": "vIb0Iv2pcVdS"
      },
      "source": [
        "# [Trump's Lies](https://www.nytimes.com/interactive/2017/06/23/opinion/trumps-lies.html)\n",
        "\n",
        "<img src=\"https://raw.githubusercontent.com/justinjiajia/img/69b47fdb83d0f3026cb3677e818df0ead20e15b7/python/trump%20lies.PNG\"/>"
      ]
    },
    {
      "cell_type": "markdown",
      "metadata": {
        "id": "_Ztt4qCBySA8"
      },
      "source": [
        "How to open the Chrome's developer tools (or devtools):\n",
        "\n",
        "- Press <kbd>F12</kbd> on the keyboard (sometimes <kbd>Fn</kbd> + <kbd>F12</kbd>)\n",
        "- Right-click on a Web page → Inspect\n",
        "- Choose <kbd>⋮</kbd> at the top right corner of the Chrome window → More tools → Developers tool (or <kbd>Ctrl</kbd> or <kbd>Command</kbd> + <kbd>Shift</kbd> + <kbd>I</kbd>)"
      ]
    },
    {
      "cell_type": "markdown",
      "metadata": {
        "id": "kKjtPYWHcVdY"
      },
      "source": [
        "\n",
        "---\n",
        "\n",
        "\n",
        "# Web Scraping\n",
        "\n",
        "\n",
        "Using the Python programming language, it is possible to \"scrape\" data from the Web in a quick and efficient manner.\n",
        "\n",
        "**Web Scraping** commonly refers to the practice of writing an automated program\n",
        "that queries a web server, requests data (usually in the form of HTML and other files\n",
        "that compose web pages), and then parses that data to extract needed information.\n",
        "\n",
        "\n",
        "\n",
        "Web scraping is a valuable tool in the data scientist's skill set.\n",
        "\n",
        "<span style=\"margin-right: 10%;  margin-left: 20%;\">[BeautifulSoup](https://www.crummy.com/software/BeautifulSoup/)</span>\n",
        "<span style=\"margin-left: 5%;\">[Selenium](https://www.selenium.dev)</span>\n",
        "\n",
        "<p>\n",
        "\n",
        "<img src=\"https://raw.githubusercontent.com/justinjiajia/img/master/python/beautifulsoup.jpg\" style=\"float: left; margin-bottom: 1.5em; margin-top: 1.5em; margin-right: 10%;  margin-left: 15%; \" width=220/>\n",
        " <img src=\"https://upload.wikimedia.org/wikipedia/commons/d/d5/Selenium_Logo.png\" style=\"float: left; margin-top: 3.8em;\" width=140/>\n",
        "\n"
      ]
    },
    {
      "cell_type": "markdown",
      "metadata": {
        "id": "oq_AQVAlcVdZ"
      },
      "source": [
        "---\n",
        "<br>\n",
        "\n",
        "# HTML Basics\n",
        "\n",
        "\n",
        "\n",
        "[**HyperText Markup Language**](https://developer.mozilla.org/en-US/docs/Web/HTML) (HTML for short) is a markup language for describing Web documents.\n",
        "\n",
        "\n",
        "It is plain text, but includes a rich collection of \"tags\" that define the structure of the document and allow documents to include a variety of page elements.\n",
        "\n",
        "- Tags are always enclosed in angle brackets: ` <tagname>`.\n",
        "\n",
        "\n",
        "<img src=\"https://developer.mozilla.org/en-US/docs/Learn/HTML/Introduction_to_HTML/Getting_started/grumpy-cat-small.png\" width=480/>\n",
        "\n",
        "\n",
        "- Tags usually travel in pairs and contain something in between. An opening (or start) tag begins a section of page content, and a closing (or end) tag ends it, e.g.,  `<tagname>content</tagname>`.\n",
        "\n",
        "    - `<h1>`, `<h2>`, ..., `<h6>`: largest headings, second largest headings, etc.;\n",
        "\n",
        "    - `<p>`: paragraphs;\n",
        "\n",
        "    - `<ul>` or `<ol>`: unordered or ordered bulleted lists;\n",
        "\n",
        "    - `<li>`: individual list items;\n",
        "\n",
        "    - `<div>`: divisions or sections;\n",
        "\n",
        "    - `<a>`: anchors;\n",
        "\n",
        "    - and [many others ...](https://developer.mozilla.org/en-US/docs/Web/HTML/Element)\n",
        "\n"
      ]
    },
    {
      "cell_type": "markdown",
      "metadata": {
        "id": "g88zNx5pzVDH"
      },
      "source": [
        "    \n",
        "- There are also a few *self-closing* tags, e.g.:\n",
        "\n",
        "    - `<br/>`\n",
        "\n",
        "    - ```html\n",
        "      <img src=\"https://idp.ust.hk/idp/images/logo.png\" alt=\"UST Logo\"/>\n",
        "      ```\n",
        "\n",
        "\n",
        "- Tags can have attributes, which are always specified in the start tag and come in `name=\"value\"` pairs. E.g.:\n",
        "\n",
        "    - ```html\n",
        "      <a href=\"https://docs.python.org/\" target=\"_blank\">Python documentation</a>\n",
        "      ```\n",
        "      \n",
        "      \n",
        "<img src=\"https://developer.mozilla.org/en-US/docs/Learn/HTML/Introduction_to_HTML/Getting_started/grumpy-cat-attribute-small.png\" width=600/>\n",
        "\n",
        "\n"
      ]
    },
    {
      "cell_type": "markdown",
      "metadata": {
        "id": "-VmWuSNPzVDH"
      },
      "source": [
        "\n",
        "\n",
        "- There are a few attributes that are common to all tags, among which the two most used ones are `id` and `class`:\n",
        "\n",
        "    - `id` allows us to specify a unique identifier for an element which must be unique in the whole document. E.g.:\n",
        "    \n",
        "        - ```html\n",
        "          <p id=\"unique-one\">This is a paragraph with id \"unique-one\".</p>\n",
        "          ```    \n",
        "\n",
        "    - `class` allows us to assign multiple elements (possibly of different types) to the same group identified by a class name. E.g.:\n",
        "\n",
        "        - ```html\n",
        "          <p class=\"class-one\"> This is a paragraph of class \"class-one\". </p>\n",
        "          ```\n",
        "\n",
        "        - An element can also be assigned to multiple groups that are specified by a *space-separated* list of class names. E.g.:\n",
        "        \n",
        "            - ```html\n",
        "              <div class=\"col m-1 border class-one\">Some Content</div>\n",
        "              ```\n",
        "\n",
        "    - In Web scraping, the  `class` and/or `id` attributes can be leveraged to differentiate the section we want from other sections. To do so, we need to use something called the **CSS selector**."
      ]
    },
    {
      "cell_type": "markdown",
      "metadata": {
        "id": "7rYey1VFzVDI"
      },
      "source": [
        "**<font color='steelblue' >Question</font>**:\n",
        "\n",
        "\n",
        "Use a text editor on your computer to create an HTML Web page that has the following layout:\n",
        "\n",
        "<img src=\"https://canvas.ust.hk/courses/49017/files/7437224/preview?instfs=true\" width=800 />\n",
        "\n",
        "\n",
        "- The text on the page is as follows:\n",
        "\n",
        "    Countries of the World: A Simple Example\n",
        "\n",
        "    Andorra\n",
        "\n",
        "    - Capital: Andorra la Vella\n",
        "    - Population: 84000\n",
        "    - Area (km^2): 468.0\n",
        "\n",
        "    - The image address: https://upload.wikimedia.org/wikipedia/commons/5/5b/Andorra_la_Vella_-_view2.jpg\n",
        "\n",
        "\n",
        "\n",
        "- Tags you may want to enclose in the `<body>` tag includes: `<h1>`, `<h3>`, `<hr>`, `<div>`, `<ol>`, `<li>`, and `<img>`"
      ]
    },
    {
      "cell_type": "markdown",
      "metadata": {
        "id": "MiTl0wi9ySBA"
      },
      "source": [
        "---\n",
        "\n",
        "<br>\n",
        "\n",
        "## CSS Basics\n",
        "\n",
        "\n",
        "[**Cascading Style Sheets**](https://developer.mozilla.org/en-US/docs/Web/CSS) (CSS for short) is a style sheet language for describing the presentation of a document written in a markup language.\n",
        "\n",
        "HTML dictates the content and structure of a webpage, while CSS modifies design and display of HTML elements.\n",
        "\n",
        "\n",
        "\n",
        "\n",
        "3 ways of creating and applying CSS rules:\n",
        "\n",
        "- An inline style created right on an HTML start tag, using `style=\"attribute: value;\"`;\n",
        "\n",
        "- An [embedded style sheet](sample_embeddedCSS.html) included by a `<style>` tag nested within the `<head>` section;\n",
        "\n",
        "- As an [external style sheet](sample_externalCSS.html) in a [separate file](example.css).\n"
      ]
    },
    {
      "cell_type": "markdown",
      "metadata": {
        "id": "uTd0Lh1vySBB"
      },
      "source": [
        "<img src=\"https://4.bp.blogspot.com/-yQFU_PhmTRg/U7viQ7bMNjI/AAAAAAAADJE/ctlBTLl-fhY/s640/css-selectors-lrg.png\" width=500px />\n",
        "\n",
        "A CSS stylesheet is a set of style rules, and a CSS ruleset consists of:\n",
        "\n",
        "- A CSS selector: a pattern used to select the element(s) we want to style;\n",
        "\n",
        "-  A style declaration block, which contains a list of style properties and their values:\n",
        "\n",
        "    - Style properties and values come in pairs, with each pair separated with a semicolon (`;`).\n",
        "\n",
        "    - See a [list](https://developer.mozilla.org/en-US/docs/Web/CSS/CSS_Properties_Reference) of common properties and what values are accepted for them.\n",
        "\n",
        "\n",
        "\n",
        "\n",
        "\n"
      ]
    },
    {
      "cell_type": "markdown",
      "metadata": {
        "id": "sI1uAkVHySBB"
      },
      "source": [
        "Different types of selectors:\n",
        "\n",
        "| Type | Notation |  Example | Explanation |\n",
        "|-----|-----|-----|-----|\n",
        "| type | `elementname` | `p` | Select all `<p>` elements|\n",
        "| id | `#idname` | `#unique-one` | Select the element with `id=\"unique-one\"` |\n",
        "| class | `.classname` | `.class-one`  |Select all elements with `class=\"class-one\"` |\n",
        "| attribute | `[attributename]` |`[alt]` | Select all elements with an `alt` attribute |\n",
        "| attribute value | `[attr=value]` |`[alt='UST Logo']` |  Select all elements whose `alt` attribute has the value `'UST Logo'` |\n",
        "\n",
        "\n",
        "\n",
        "\n",
        "Attribute selectors also allow for several special symbols (e.g., `~`, `$`, `^`, `*`, etc.) to create more flexible value matching patterns. You can find more details [here](https://developer.mozilla.org/en-US/docs/Web/CSS)."
      ]
    },
    {
      "cell_type": "markdown",
      "metadata": {
        "id": "cPnrIwa6ySBC"
      },
      "source": [
        "CSS selectors can be combined to create more specific selectors. For example,\n",
        "to select\n",
        "```html\n",
        "<div class=\"col m-1 border class-one\">Relevant Content</div>\n",
        "```\n",
        "we can use:\n",
        "\n",
        "- `div.class-one`;\n",
        "\n",
        "- `div.m-1.col` (the order does not matter);\n",
        "\n",
        "- `div[class=\"col m-1 border class-one\"]`.\n"
      ]
    },
    {
      "cell_type": "markdown",
      "metadata": {
        "id": "VZ6oGok3ySBD"
      },
      "source": [
        "\n",
        "CSS selector syntax also supports a set of relational notations, called **combinators**, that describe elements in terms of their relations to others\n",
        "\n",
        "| Name | Notation |  Example | Explanation |\n",
        "|-----|-----|-----|-----|\n",
        "| Descendant| ` `| `div p` | Select all `<p>` elements inside `<div>` elements |\n",
        "| Child | `>`| `div > p` | Select all `<p>` elements whose parent is a `<div>` element|\n",
        "|Adjacent sibling | `+`| `div + p` | Select all `<p>` elements that immediately follows a `<div>` element |\n",
        "|General sibling  | `~`| `div ~ p` | Select all `<p>` elements as long as they follow a `<div>` element |\n",
        "\n",
        "\n",
        "More use can be find [here](https://developer.mozilla.org/en-US/docs/Web/CSS/CSS_Selectors)."
      ]
    },
    {
      "cell_type": "markdown",
      "metadata": {
        "id": "Wlb0jc3TySBE"
      },
      "source": [
        "\n",
        "Handy interactive [HTML cheatsheet](https://htmlcheatsheet.com/html) and [CSS cheatsheet](https://htmlcheatsheet.com/css)\n",
        "\n",
        "\n"
      ]
    },
    {
      "cell_type": "markdown",
      "metadata": {
        "id": "tCo6d17KcVdg"
      },
      "source": [
        "---\n",
        "\n",
        "\n",
        "# Beautiful Soup\n",
        "\n",
        "\n",
        "> Beautiful Soup, so rich and green,<br>\n",
        "> Waiting in a hot tureen!<br>\n",
        "> Who for such dainties would not stoop?<br>\n",
        "> Soup of the evening, beautiful Soup!\n",
        "\n",
        "\n",
        "<img src=\"https://raw.githubusercontent.com/justinjiajia/img/master/python/beautifulsoup.jpg\"  width=220/>\n",
        "\n",
        "\n",
        "<br>\n",
        "\n",
        "[BeautifulSoup](https://www.crummy.com/software/BeautifulSoup/) is a Python library for pulling data out of files written in a markup language.\n",
        "\n"
      ]
    },
    {
      "cell_type": "markdown",
      "metadata": {
        "cell_style": "split",
        "id": "50LjKh3lcVdh"
      },
      "source": [
        "\n",
        "An examples of [\"**tag soup**\"](https://en.wikipedia.org/wiki/Tag_soup):\n",
        "\n",
        "\n",
        "```html\n",
        "<H1>Tacky HTML</H1>\n",
        "<p>\n",
        "    <img src=https://idp.ust.hk/idp/images/logo.png>\n",
        "    Browsers tolerate a lot of completely broken HTML.\n",
        "<UL>\n",
        "    <LI>List one\n",
        "    <LI>List 2\n",
        "</UL>\n",
        "```"
      ]
    },
    {
      "cell_type": "markdown",
      "metadata": {
        "id": "XtXOYuKGcVdh"
      },
      "source": [
        "BeautifulSoup helps format and organize the messy web by fixing bad HTML and presenting us with easily traversable Python objects.\n",
        "\n",
        "The most commonly used object in the BeautifulSoup library is the `BeautifulSoup` object."
      ]
    },
    {
      "cell_type": "code",
      "execution_count": 3,
      "metadata": {
        "id": "_69I1EqKzVDK"
      },
      "outputs": [
        {
          "data": {
            "text/plain": [
              "'4.12.3'"
            ]
          },
          "execution_count": 3,
          "metadata": {},
          "output_type": "execute_result"
        }
      ],
      "source": [
        "from bs4 import BeautifulSoup\n",
        "import bs4\n",
        "\n",
        "bs4.__version__"
      ]
    },
    {
      "cell_type": "markdown",
      "metadata": {
        "id": "uULEZPD4cVdj"
      },
      "source": [
        "\n",
        "The use of the `BeautifulSoup` constructor:\n",
        "\n",
        "- The 1st argument is the HTML text the object is based on;\n",
        "\n",
        "- The 2nd argument specifies the parser that we want BeautifulSoup to use in order to create a `BeautifulSoup` object.\n",
        "\n",
        "\n",
        "<div class='alert alert-info'><code>html.parser</code> is the HTML parser included in the standard Python 3 library. Information on other HTML parsers is available <a href=\"http://www.crummy.com/software/BeautifulSoup/bs4/doc/#installing-a-parser\">here</a>.</div>\n",
        "\n",
        "\n",
        "\n",
        "\n",
        "Let's create a `BeautifulSoup` object for the tacky HTML code above to \"***make the soup***\":\n",
        "\n"
      ]
    },
    {
      "cell_type": "code",
      "execution_count": 4,
      "metadata": {
        "id": "vCqMJz1azVDL"
      },
      "outputs": [
        {
          "data": {
            "text/plain": [
              "<h1>Tacky HTML</h1>\n",
              "<p>\n",
              "<img src=\"https://idp.ust.hk/idp/images/logo.png\"/>\n",
              "    Browsers tolerate a lot of completely broken HTML.\n",
              "<ul>\n",
              "<li>List one </li>\n",
              "<li>List 2\n",
              "</li></ul></p>"
            ]
          },
          "execution_count": 4,
          "metadata": {},
          "output_type": "execute_result"
        }
      ],
      "source": [
        "tacky_html = '''<H1>Tacky HTML</H1>\n",
        "<p>\n",
        "    <img src=https://idp.ust.hk/idp/images/logo.png>\n",
        "    Browsers tolerate a lot of completely broken HTML.\n",
        "<UL>\n",
        "    <LI>List one </LI>\n",
        "    <LI>List 2\n",
        "</UL>'''\n",
        "\n",
        "BeautifulSoup(tacky_html, 'html.parser')"
      ]
    },
    {
      "cell_type": "code",
      "execution_count": 11,
      "metadata": {
        "id": "2qxgpgs9zVDL"
      },
      "outputs": [
        {
          "data": {
            "text/plain": [
              "<!DOCTYPE html>\n",
              "<html lang=\"en\"><head><title>Sample HTML Page</title></head><body><h1>This is a heading.</h1><p>This is a typical paragraph.</p><p class=\"class-one\">This is a paragraph of class \"class-one\".</p><ol><li class=\"class-one\"><a href=\"sample.html\">The 1st item</a></li><li>Hello</li></ol><p id=\"unique-one\">This is a paragraph with id \"unique-one\".</p><div class=\"col m-3 border class-one\">This is a division.</div></body></html>"
            ]
          },
          "execution_count": 11,
          "metadata": {},
          "output_type": "execute_result"
        }
      ],
      "source": [
        "html_sample_code = ('<!DOCTYPE html><html lang=\"en\"><head><title>Sample HTML Page</title></head>'\n",
        "                    '<body><h1>This is a heading.</h1>'\n",
        "                    '<p>This is a typical paragraph.</p>'\n",
        "                    '<p class=\"class-one\">This is a paragraph of class \"class-one\".</p>'\n",
        "                    '<ol><li class=\"class-one\"><a href=\"sample.html\">The 1st item</a></li></ol>'\n",
        "                    '<p id=\"unique-one\">This is a paragraph with id \"unique-one\".</p>'\n",
        "                    '<div class=\"col m-3 border class-one\">This is a division.</div></body></html>')\n",
        "\n",
        "sample_soup = BeautifulSoup(html_sample_code, 'html.parser')\n",
        "sample_soup"
      ]
    },
    {
      "cell_type": "markdown",
      "metadata": {
        "id": "UqrfNIzHcVdk"
      },
      "source": [
        "\n",
        "We can use the `prettify()` method to format the HTML source code so as to get a better idea of its structure:\n"
      ]
    },
    {
      "cell_type": "code",
      "execution_count": 6,
      "metadata": {
        "id": "2iG83dCDzVDM"
      },
      "outputs": [
        {
          "name": "stdout",
          "output_type": "stream",
          "text": [
            "<!DOCTYPE html>\n",
            "<html lang=\"en\">\n",
            " <head>\n",
            "  <title>\n",
            "   Sample HTML Page\n",
            "  </title>\n",
            " </head>\n",
            " <body>\n",
            "  <h1>\n",
            "   This is a heading.\n",
            "  </h1>\n",
            "  <p>\n",
            "   This is a typical paragraph.\n",
            "  </p>\n",
            "  <p class=\"class-one\">\n",
            "   This is a paragraph of class \"class-one\".\n",
            "  </p>\n",
            "  <ol>\n",
            "   <li class=\"class-one\">\n",
            "    <a href=\"sample.html\">\n",
            "     The 1st item\n",
            "    </a>\n",
            "   </li>\n",
            "  </ol>\n",
            "  <p id=\"unique-one\">\n",
            "   This is a paragraph with id \"unique-one\".\n",
            "  </p>\n",
            "  <div class=\"col m-3 border class-one\">\n",
            "   This is a division.\n",
            "  </div>\n",
            " </body>\n",
            "</html>\n",
            "\n"
          ]
        }
      ],
      "source": [
        "from bs4.formatter import HTMLFormatter\n",
        "\n",
        "# you can customize the indent size by setting e.g., formatter=HTMLFormatter(indent=4)\n",
        "print(sample_soup.prettify())"
      ]
    },
    {
      "cell_type": "markdown",
      "metadata": {
        "id": "dqbKHhyFySBK"
      },
      "source": [
        "\n",
        "\n",
        "These textual components form a [\"family tree\"](familytree.html), where the top-level `<html>` tag contains the `<head>` and `<body`> tags, which further contain other textual contents and tags, and so on.\n",
        "\n",
        "\n",
        "\n",
        "\n",
        "We can define parents, chidren, and siblings for each tag by referencing this family tree (based on the identation levels of related tags)"
      ]
    },
    {
      "cell_type": "markdown",
      "metadata": {
        "id": "aYtUhm2IcVdl"
      },
      "source": [
        "\n",
        "## What's in a Soup?\n",
        "\n",
        "A `BeautifulSoup` object is essentially a hierarchical collection of `Tag` objects, which are each equipped with attributes for navigating and iterating over child tags and strings it contains.\n",
        "\n",
        "The simplest way to navigate this collection is to say the name of a child tag we want:"
      ]
    },
    {
      "cell_type": "code",
      "execution_count": 7,
      "metadata": {
        "id": "KjR8UYEszVDM"
      },
      "outputs": [
        {
          "data": {
            "text/plain": [
              "<body><h1>This is a heading.</h1><p>This is a typical paragraph.</p><p class=\"class-one\">This is a paragraph of class \"class-one\".</p><ol><li class=\"class-one\"><a href=\"sample.html\">The 1st item</a></li></ol><p id=\"unique-one\">This is a paragraph with id \"unique-one\".</p><div class=\"col m-3 border class-one\">This is a division.</div></body>"
            ]
          },
          "execution_count": 7,
          "metadata": {},
          "output_type": "execute_result"
        }
      ],
      "source": [
        "sample_soup.html.body          # the <body> tag is beneath the <html> tag"
      ]
    },
    {
      "cell_type": "markdown",
      "metadata": {
        "id": "kGDHT8AqySBL"
      },
      "source": [
        "We can also call the <body> tag directly as long as there's no ambiguity:"
      ]
    },
    {
      "cell_type": "code",
      "execution_count": 8,
      "metadata": {
        "id": "XHC07xmJzVDM"
      },
      "outputs": [
        {
          "data": {
            "text/plain": [
              "<body><h1>This is a heading.</h1><p>This is a typical paragraph.</p><p class=\"class-one\">This is a paragraph of class \"class-one\".</p><ol><li class=\"class-one\"><a href=\"sample.html\">The 1st item</a></li></ol><p id=\"unique-one\">This is a paragraph with id \"unique-one\".</p><div class=\"col m-3 border class-one\">This is a division.</div></body>"
            ]
          },
          "execution_count": 8,
          "metadata": {},
          "output_type": "execute_result"
        }
      ],
      "source": [
        "sample_soup.body"
      ]
    },
    {
      "cell_type": "code",
      "execution_count": null,
      "metadata": {
        "id": "dyiLO1HMzVDN"
      },
      "outputs": [],
      "source": [
        "# get the <h1> tag nested two layers deep into the BeautifulSoup object structure (html → body → h1)\n",
        "sample_soup.html.body.h1        # equivalently, bs_sample.body.h1 or bs_sample.h1"
      ]
    },
    {
      "cell_type": "code",
      "execution_count": null,
      "metadata": {
        "id": "C2Bp8xeTzVDN"
      },
      "outputs": [],
      "source": [
        "sample_soup.body.p              # get the 1st <p> tag beneath the <body> tag"
      ]
    },
    {
      "cell_type": "markdown",
      "metadata": {
        "id": "b1YzIb15cVdm"
      },
      "source": [
        "A tag's children are available in a list when we call `.contents`:"
      ]
    },
    {
      "cell_type": "code",
      "execution_count": null,
      "metadata": {
        "id": "EdOjLeFNzVDN"
      },
      "outputs": [],
      "source": [
        "sample_soup.body.contents"
      ]
    },
    {
      "cell_type": "markdown",
      "metadata": {
        "id": "GwIILCrGcVdp"
      },
      "source": [
        "If we want the human-readable text inside a document or tag, we can use the `get_text()` method, which returns all the text in a document or beneath a tag, as a single regular string:"
      ]
    },
    {
      "cell_type": "code",
      "execution_count": 10,
      "metadata": {
        "id": "BG4Zp9omzVDN"
      },
      "outputs": [
        {
          "data": {
            "text/plain": [
              "'This is a heading.This is a typical paragraph.This is a paragraph of class \"class-one\".The 1st itemThis is a paragraph with id \"unique-one\".This is a division.'"
            ]
          },
          "execution_count": 10,
          "metadata": {},
          "output_type": "execute_result"
        }
      ],
      "source": [
        "sample_soup.body.get_text()"
      ]
    },
    {
      "cell_type": "code",
      "execution_count": 12,
      "metadata": {
        "id": "CnD0zfk2zVDO"
      },
      "outputs": [
        {
          "data": {
            "text/plain": [
              "'The 1st itemHello'"
            ]
          },
          "execution_count": 12,
          "metadata": {},
          "output_type": "execute_result"
        }
      ],
      "source": [
        "sample_soup.ol.get_text()"
      ]
    },
    {
      "cell_type": "markdown",
      "metadata": {
        "id": "K7SpB8QuySBQ"
      },
      "source": [
        "If we want to extract the value of a specific attribute, we can use a tag's `.get()` method:"
      ]
    },
    {
      "cell_type": "code",
      "execution_count": 13,
      "metadata": {
        "id": "XsY0ofkWzVDO"
      },
      "outputs": [
        {
          "data": {
            "text/plain": [
              "'sample.html'"
            ]
          },
          "execution_count": 13,
          "metadata": {},
          "output_type": "execute_result"
        }
      ],
      "source": [
        "sample_soup.a.get('href')    # alternatively, it can also be accessed with dictionary-like indexing, e.g., sample_soup.a['href]"
      ]
    },
    {
      "cell_type": "code",
      "execution_count": 16,
      "metadata": {},
      "outputs": [
        {
          "name": "stdout",
          "output_type": "stream",
          "text": [
            "\n",
            "Hello, World!\n",
            "Hello again!\n",
            "This is a paragraph with some text.\n",
            "\n",
            "Item 1\n",
            "Item 2\n",
            "\n",
            "\n"
          ]
        }
      ],
      "source": [
        "from bs4 import BeautifulSoup\n",
        "\n",
        "html = \"\"\"\n",
        "<div>\n",
        "  <h1>Hello, World!</h1>\n",
        "  <h2>Hello again!</h2>\n",
        "  <p>This is a <strong>paragraph</strong> with some text.</p>\n",
        "  <ul>\n",
        "    <li>Item 1</li>\n",
        "    <li>Item 2</li>\n",
        "  </ul>\n",
        "</div>\n",
        "\"\"\"\n",
        "\n",
        "soup = BeautifulSoup(html, 'html.parser')\n",
        "div = soup.find('div')\n",
        "\n",
        "# Get the text of the div element and its children\n",
        "text = div.get_text()\n",
        "print(text)"
      ]
    },
    {
      "cell_type": "markdown",
      "metadata": {
        "id": "Twf_7ay4cVdq"
      },
      "source": [
        "\n",
        "---\n",
        "\n",
        "<br>\n",
        "\n",
        "### `.find()` & `.find_all()`--> returns List\n",
        "\n",
        "Using a tag name as an attribute gives us only the first tag by that name.\n",
        "\n",
        "If we need to get all tags with a certain name, we need to use `find_all()`.\n",
        "\n",
        "The `find_all()` (`find()`) method can take a variety of filters to find lists of desired tags (a single tag):"
      ]
    },
    {
      "cell_type": "code",
      "execution_count": null,
      "metadata": {
        "id": "Ge9U4xLfcVdq",
        "outputId": "aa57f685-1468-4682-ba19-8c43b13d236a"
      },
      "outputs": [
        {
          "data": {
            "text/plain": [
              "[<p>This is a typical paragraph.</p>,\n",
              " <p class=\"class-one\">This is a paragraph of class \"class-one\".</p>,\n",
              " <p id=\"unique-one\">This is a paragraph with id \"unique-one\".</p>]"
            ]
          },
          "execution_count": 8,
          "metadata": {},
          "output_type": "execute_result"
        }
      ],
      "source": [
        "sample_soup.find_all('p')                      # perform a match against that exact string; return a list of tags"
      ]
    },
    {
      "cell_type": "code",
      "execution_count": null,
      "metadata": {
        "id": "jH33YDNjcVdq",
        "outputId": "1e76be2f-a9ce-42f2-d897-be19bd172a9f"
      },
      "outputs": [
        {
          "data": {
            "text/plain": [
              "[<p>This is a typical paragraph.</p>,\n",
              " <p class=\"class-one\">This is a paragraph of class \"class-one\".</p>,\n",
              " <a href=\"sample.html\">The 1st item</a>,\n",
              " <p id=\"unique-one\">This is a paragraph with id \"unique-one\".</p>]"
            ]
          },
          "execution_count": 9,
          "metadata": {},
          "output_type": "execute_result"
        }
      ],
      "source": [
        "sample_soup.find_all([\"p\", \"a\"])               # perform a string match against any item in that list"
      ]
    },
    {
      "cell_type": "markdown",
      "metadata": {
        "id": "WQQmhRpdcVdq"
      },
      "source": [
        " We can also form filters based on tags' various attributes:\n",
        "\n",
        "- The 1st argument is a (list of) filter(s) on tag name(s);\n",
        "\n",
        "- The 2nd argument is a dictionary of filters on attribute values, e.g., `{attr_1: val_1, attr_2: val_2, ...}`."
      ]
    },
    {
      "cell_type": "code",
      "execution_count": null,
      "metadata": {
        "colab": {
          "base_uri": "https://localhost:8080/"
        },
        "id": "sf-oH3_ry5jZ",
        "outputId": "50acc5b0-41a4-40ce-eaad-ab63538fb5f7"
      },
      "outputs": [
        {
          "name": "stdout",
          "output_type": "stream",
          "text": [
            "Help on method find_all in module bs4.element:\n",
            "\n",
            "find_all(name=None, attrs={}, recursive=True, text=None, limit=None, **kwargs) method of bs4.BeautifulSoup instance\n",
            "    Extracts a list of Tag objects that match the given\n",
            "    criteria.  You can specify the name of the Tag and any\n",
            "    attributes you want the Tag to have.\n",
            "    \n",
            "    The value of a key-value pair in the 'attrs' map can be a\n",
            "    string, a list of strings, a regular expression object, or a\n",
            "    callable that takes a string and returns whether or not the\n",
            "    string matches for some custom definition of 'matches'. The\n",
            "    same is true of the tag name.\n",
            "\n"
          ]
        }
      ],
      "source": [
        "help(sample_soup.find_all)"
      ]
    },
    {
      "cell_type": "code",
      "execution_count": 17,
      "metadata": {
        "id": "X4C8p4BBcVdq"
      },
      "outputs": [
        {
          "data": {
            "text/plain": [
              "[<p class=\"class-one\">This is a paragraph of class \"class-one\".</p>]"
            ]
          },
          "execution_count": 17,
          "metadata": {},
          "output_type": "execute_result"
        }
      ],
      "source": [
        "sample_soup.find_all('p', {'class': 'class-one'})"
      ]
    },
    {
      "cell_type": "code",
      "execution_count": null,
      "metadata": {
        "id": "_K_0hnwRcVdr"
      },
      "outputs": [],
      "source": [
        "sample_soup.find_all(['div', 'p'], {'class': 'class-one'})"
      ]
    },
    {
      "cell_type": "code",
      "execution_count": null,
      "metadata": {
        "id": "SYCfsslXySBR"
      },
      "outputs": [],
      "source": [
        "# filter elements only on attributes' values\n",
        "sample_soup.find_all(attrs={'class': 'class-one'})"
      ]
    },
    {
      "cell_type": "markdown",
      "metadata": {
        "id": "tM9BMBuTySBS"
      },
      "source": [
        "We can also search for the exact string value of the class attribute:"
      ]
    },
    {
      "cell_type": "code",
      "execution_count": null,
      "metadata": {
        "id": "x2CdUbXVySBS",
        "outputId": "a722c7a8-e95c-49e7-e2fb-67f24c912fad"
      },
      "outputs": [
        {
          "data": {
            "text/plain": [
              "<div class=\"col m-3 border class-one\">This is a division.</div>"
            ]
          },
          "execution_count": 12,
          "metadata": {},
          "output_type": "execute_result"
        }
      ],
      "source": [
        "sample_soup.find('div', {'class': 'col m-3 border class-one'})"
      ]
    },
    {
      "cell_type": "markdown",
      "metadata": {
        "id": "XkdKK18-ySBS"
      },
      "source": [
        "But searching for variants of the string value won't work:"
      ]
    },
    {
      "cell_type": "code",
      "execution_count": null,
      "metadata": {
        "id": "jOKGFkT4zVDV"
      },
      "outputs": [],
      "source": [
        "sample_soup.find_all('div', {'class': 'col class-one'})"
      ]
    },
    {
      "cell_type": "markdown",
      "metadata": {
        "id": "fNRdNmq7zVDV"
      },
      "source": [
        "**<font color='steelblue' >Question</font>**:\n",
        "\n",
        "\n",
        "This [web page](https://justinjia.people.ust.hk/countries.html) lists information about 249 countries in the world. Use `.find_all()` to extract the information on name, capital, population, and area of each country."
      ]
    },
    {
      "cell_type": "code",
      "execution_count": 32,
      "metadata": {
        "id": "5QS3IVH3zVDV"
      },
      "outputs": [
        {
          "name": "stdout",
          "output_type": "stream",
          "text": [
            "[{'name': 'Andorra', 'capital': 'Andorra la Vella', 'population': '84000'}, {'name': 'United Arab Emirates', 'capital': 'Abu Dhabi', 'population': '4975593'}, {'name': 'Afghanistan', 'capital': 'Kabul', 'population': '29121286'}, {'name': 'Antigua and Barbuda', 'capital': \"St. John's\", 'population': '86754'}, {'name': 'Anguilla', 'capital': 'The Valley', 'population': '13254'}, {'name': 'Albania', 'capital': 'Tirana', 'population': '2986952'}, {'name': 'Armenia', 'capital': 'Yerevan', 'population': '2968000'}, {'name': 'Angola', 'capital': 'Luanda', 'population': '13068161'}, {'name': 'Antarctica', 'capital': 'None', 'population': '0'}, {'name': 'Argentina', 'capital': 'Buenos Aires', 'population': '41343201'}, {'name': 'American Samoa', 'capital': 'Pago Pago', 'population': '57881'}, {'name': 'Austria', 'capital': 'Vienna', 'population': '8205000'}, {'name': 'Australia', 'capital': 'Canberra', 'population': '21515754'}, {'name': 'Aruba', 'capital': 'Oranjestad', 'population': '71566'}, {'name': 'Åland', 'capital': 'Mariehamn', 'population': '26711'}, {'name': 'Azerbaijan', 'capital': 'Baku', 'population': '8303512'}, {'name': 'Bosnia and Herzegovina', 'capital': 'Sarajevo', 'population': '4590000'}, {'name': 'Barbados', 'capital': 'Bridgetown', 'population': '285653'}, {'name': 'Bangladesh', 'capital': 'Dhaka', 'population': '156118464'}, {'name': 'Belgium', 'capital': 'Brussels', 'population': '10403000'}, {'name': 'Burkina Faso', 'capital': 'Ouagadougou', 'population': '16241811'}, {'name': 'Bulgaria', 'capital': 'Sofia', 'population': '7148785'}, {'name': 'Bahrain', 'capital': 'Manama', 'population': '738004'}, {'name': 'Burundi', 'capital': 'Bujumbura', 'population': '9863117'}, {'name': 'Benin', 'capital': 'Porto-Novo', 'population': '9056010'}, {'name': 'Saint Barthélemy', 'capital': 'Gustavia', 'population': '8450'}, {'name': 'Bermuda', 'capital': 'Hamilton', 'population': '65365'}, {'name': 'Brunei', 'capital': 'Bandar Seri Begawan', 'population': '395027'}, {'name': 'Bolivia', 'capital': 'Sucre', 'population': '9947418'}, {'name': 'Bonaire', 'capital': 'Kralendijk', 'population': '18012'}, {'name': 'Brazil', 'capital': 'Brasília', 'population': '201103330'}, {'name': 'Bahamas', 'capital': 'Nassau', 'population': '301790'}, {'name': 'Bhutan', 'capital': 'Thimphu', 'population': '699847'}, {'name': 'Bouvet Island', 'capital': 'None', 'population': '0'}, {'name': 'Botswana', 'capital': 'Gaborone', 'population': '2029307'}, {'name': 'Belarus', 'capital': 'Minsk', 'population': '9685000'}, {'name': 'Belize', 'capital': 'Belmopan', 'population': '314522'}, {'name': 'Canada', 'capital': 'Ottawa', 'population': '33679000'}, {'name': 'Cocos [Keeling] Islands', 'capital': 'West Island', 'population': '628'}, {'name': 'Democratic Republic of the Congo', 'capital': 'Kinshasa', 'population': '70916439'}, {'name': 'Central African Republic', 'capital': 'Bangui', 'population': '4844927'}, {'name': 'Republic of the Congo', 'capital': 'Brazzaville', 'population': '3039126'}, {'name': 'Switzerland', 'capital': 'Bern', 'population': '7581000'}, {'name': 'Ivory Coast', 'capital': 'Yamoussoukro', 'population': '21058798'}, {'name': 'Cook Islands', 'capital': 'Avarua', 'population': '21388'}, {'name': 'Chile', 'capital': 'Santiago', 'population': '16746491'}, {'name': 'Cameroon', 'capital': 'Yaoundé', 'population': '19294149'}, {'name': 'China', 'capital': 'Beijing', 'population': '1330044000'}, {'name': 'Colombia', 'capital': 'Bogotá', 'population': '47790000'}, {'name': 'Costa Rica', 'capital': 'San José', 'population': '4516220'}, {'name': 'Cuba', 'capital': 'Havana', 'population': '11423000'}, {'name': 'Cape Verde', 'capital': 'Praia', 'population': '508659'}, {'name': 'Curacao', 'capital': 'Willemstad', 'population': '141766'}, {'name': 'Christmas Island', 'capital': 'Flying Fish Cove', 'population': '1500'}, {'name': 'Cyprus', 'capital': 'Nicosia', 'population': '1102677'}, {'name': 'Czech Republic', 'capital': 'Prague', 'population': '10476000'}, {'name': 'Germany', 'capital': 'Berlin', 'population': '81802257'}, {'name': 'Djibouti', 'capital': 'Djibouti', 'population': '740528'}, {'name': 'Denmark', 'capital': 'Copenhagen', 'population': '5484000'}, {'name': 'Dominica', 'capital': 'Roseau', 'population': '72813'}, {'name': 'Dominican Republic', 'capital': 'Santo Domingo', 'population': '9823821'}, {'name': 'Algeria', 'capital': 'Algiers', 'population': '34586184'}, {'name': 'Ecuador', 'capital': 'Quito', 'population': '14790608'}, {'name': 'Estonia', 'capital': 'Tallinn', 'population': '1291170'}, {'name': 'Egypt', 'capital': 'Cairo', 'population': '80471869'}, {'name': 'Western Sahara', 'capital': 'Laâyoune / El Aaiún', 'population': '273008'}, {'name': 'Eritrea', 'capital': 'Asmara', 'population': '5792984'}, {'name': 'Spain', 'capital': 'Madrid', 'population': '46505963'}, {'name': 'Ethiopia', 'capital': 'Addis Ababa', 'population': '88013491'}, {'name': 'Finland', 'capital': 'Helsinki', 'population': '5244000'}, {'name': 'Fiji', 'capital': 'Suva', 'population': '875983'}, {'name': 'Falkland Islands', 'capital': 'Stanley', 'population': '2638'}, {'name': 'Micronesia', 'capital': 'Palikir', 'population': '107708'}, {'name': 'Faroe Islands', 'capital': 'Tórshavn', 'population': '48228'}, {'name': 'France', 'capital': 'Paris', 'population': '64768389'}, {'name': 'Gabon', 'capital': 'Libreville', 'population': '1545255'}, {'name': 'United Kingdom', 'capital': 'London', 'population': '62348447'}, {'name': 'Grenada', 'capital': \"St. George's\", 'population': '107818'}, {'name': 'Georgia', 'capital': 'Tbilisi', 'population': '4630000'}, {'name': 'French Guiana', 'capital': 'Cayenne', 'population': '195506'}, {'name': 'Guernsey', 'capital': 'St Peter Port', 'population': '65228'}, {'name': 'Ghana', 'capital': 'Accra', 'population': '24339838'}, {'name': 'Gibraltar', 'capital': 'Gibraltar', 'population': '27884'}, {'name': 'Greenland', 'capital': 'Nuuk', 'population': '56375'}, {'name': 'Gambia', 'capital': 'Bathurst', 'population': '1593256'}, {'name': 'Guinea', 'capital': 'Conakry', 'population': '10324025'}, {'name': 'Guadeloupe', 'capital': 'Basse-Terre', 'population': '443000'}, {'name': 'Equatorial Guinea', 'capital': 'Malabo', 'population': '1014999'}, {'name': 'Greece', 'capital': 'Athens', 'population': '11000000'}, {'name': 'South Georgia and the South Sandwich Islands', 'capital': 'Grytviken', 'population': '30'}, {'name': 'Guatemala', 'capital': 'Guatemala City', 'population': '13550440'}, {'name': 'Guam', 'capital': 'Hagåtña', 'population': '159358'}, {'name': 'Guinea-Bissau', 'capital': 'Bissau', 'population': '1565126'}, {'name': 'Guyana', 'capital': 'Georgetown', 'population': '748486'}, {'name': 'Hong Kong', 'capital': 'Hong Kong', 'population': '6898686'}, {'name': 'Heard Island and McDonald Islands', 'capital': 'None', 'population': '0'}, {'name': 'Honduras', 'capital': 'Tegucigalpa', 'population': '7989415'}, {'name': 'Croatia', 'capital': 'Zagreb', 'population': '4491000'}, {'name': 'Haiti', 'capital': 'Port-au-Prince', 'population': '9648924'}, {'name': 'Hungary', 'capital': 'Budapest', 'population': '9982000'}, {'name': 'Indonesia', 'capital': 'Jakarta', 'population': '242968342'}, {'name': 'Ireland', 'capital': 'Dublin', 'population': '4622917'}, {'name': 'Israel', 'capital': 'None', 'population': '7353985'}, {'name': 'Isle of Man', 'capital': 'Douglas', 'population': '75049'}, {'name': 'India', 'capital': 'New Delhi', 'population': '1173108018'}, {'name': 'British Indian Ocean Territory', 'capital': 'None', 'population': '4000'}, {'name': 'Iraq', 'capital': 'Baghdad', 'population': '29671605'}, {'name': 'Iran', 'capital': 'Tehran', 'population': '76923300'}, {'name': 'Iceland', 'capital': 'Reykjavik', 'population': '308910'}, {'name': 'Italy', 'capital': 'Rome', 'population': '60340328'}, {'name': 'Jersey', 'capital': 'Saint Helier', 'population': '90812'}, {'name': 'Jamaica', 'capital': 'Kingston', 'population': '2847232'}, {'name': 'Jordan', 'capital': 'Amman', 'population': '6407085'}, {'name': 'Japan', 'capital': 'Tokyo', 'population': '127288000'}, {'name': 'Kenya', 'capital': 'Nairobi', 'population': '40046566'}, {'name': 'Kyrgyzstan', 'capital': 'Bishkek', 'population': '5776500'}, {'name': 'Cambodia', 'capital': 'Phnom Penh', 'population': '14453680'}, {'name': 'Kiribati', 'capital': 'Tarawa', 'population': '92533'}, {'name': 'Comoros', 'capital': 'Moroni', 'population': '773407'}, {'name': 'Saint Kitts and Nevis', 'capital': 'Basseterre', 'population': '51134'}, {'name': 'North Korea', 'capital': 'Pyongyang', 'population': '22912177'}, {'name': 'South Korea', 'capital': 'Seoul', 'population': '48422644'}, {'name': 'Kuwait', 'capital': 'Kuwait City', 'population': '2789132'}, {'name': 'Cayman Islands', 'capital': 'George Town', 'population': '44270'}, {'name': 'Kazakhstan', 'capital': 'Astana', 'population': '15340000'}, {'name': 'Laos', 'capital': 'Vientiane', 'population': '6368162'}, {'name': 'Lebanon', 'capital': 'Beirut', 'population': '4125247'}, {'name': 'Saint Lucia', 'capital': 'Castries', 'population': '160922'}, {'name': 'Liechtenstein', 'capital': 'Vaduz', 'population': '35000'}, {'name': 'Sri Lanka', 'capital': 'Colombo', 'population': '21513990'}, {'name': 'Liberia', 'capital': 'Monrovia', 'population': '3685076'}, {'name': 'Lesotho', 'capital': 'Maseru', 'population': '1919552'}, {'name': 'Lithuania', 'capital': 'Vilnius', 'population': '2944459'}, {'name': 'Luxembourg', 'capital': 'Luxembourg', 'population': '497538'}, {'name': 'Latvia', 'capital': 'Riga', 'population': '2217969'}, {'name': 'Libya', 'capital': 'Tripoli', 'population': '6461454'}, {'name': 'Morocco', 'capital': 'Rabat', 'population': '31627428'}, {'name': 'Monaco', 'capital': 'Monaco', 'population': '32965'}, {'name': 'Moldova', 'capital': 'Chişinău', 'population': '4324000'}, {'name': 'Montenegro', 'capital': 'Podgorica', 'population': '666730'}, {'name': 'Saint Martin', 'capital': 'Marigot', 'population': '35925'}, {'name': 'Madagascar', 'capital': 'Antananarivo', 'population': '21281844'}, {'name': 'Marshall Islands', 'capital': 'Majuro', 'population': '65859'}, {'name': 'Macedonia', 'capital': 'Skopje', 'population': '2062294'}, {'name': 'Mali', 'capital': 'Bamako', 'population': '13796354'}, {'name': 'Myanmar [Burma]', 'capital': 'Naypyitaw', 'population': '53414374'}, {'name': 'Mongolia', 'capital': 'Ulan Bator', 'population': '3086918'}, {'name': 'Macao', 'capital': 'Macao', 'population': '449198'}, {'name': 'Northern Mariana Islands', 'capital': 'Saipan', 'population': '53883'}, {'name': 'Martinique', 'capital': 'Fort-de-France', 'population': '432900'}, {'name': 'Mauritania', 'capital': 'Nouakchott', 'population': '3205060'}, {'name': 'Montserrat', 'capital': 'Plymouth', 'population': '9341'}, {'name': 'Malta', 'capital': 'Valletta', 'population': '403000'}, {'name': 'Mauritius', 'capital': 'Port Louis', 'population': '1294104'}, {'name': 'Maldives', 'capital': 'Malé', 'population': '395650'}, {'name': 'Malawi', 'capital': 'Lilongwe', 'population': '15447500'}, {'name': 'Mexico', 'capital': 'Mexico City', 'population': '112468855'}, {'name': 'Malaysia', 'capital': 'Kuala Lumpur', 'population': '28274729'}, {'name': 'Mozambique', 'capital': 'Maputo', 'population': '22061451'}, {'name': 'Namibia', 'capital': 'Windhoek', 'population': '2128471'}, {'name': 'New Caledonia', 'capital': 'Noumea', 'population': '216494'}, {'name': 'Niger', 'capital': 'Niamey', 'population': '15878271'}, {'name': 'Norfolk Island', 'capital': 'Kingston', 'population': '1828'}, {'name': 'Nigeria', 'capital': 'Abuja', 'population': '154000000'}, {'name': 'Nicaragua', 'capital': 'Managua', 'population': '5995928'}, {'name': 'Netherlands', 'capital': 'Amsterdam', 'population': '16645000'}, {'name': 'Norway', 'capital': 'Oslo', 'population': '5009150'}, {'name': 'Nepal', 'capital': 'Kathmandu', 'population': '28951852'}, {'name': 'Nauru', 'capital': 'Yaren', 'population': '10065'}, {'name': 'Niue', 'capital': 'Alofi', 'population': '2166'}, {'name': 'New Zealand', 'capital': 'Wellington', 'population': '4252277'}, {'name': 'Oman', 'capital': 'Muscat', 'population': '2967717'}, {'name': 'Panama', 'capital': 'Panama City', 'population': '3410676'}, {'name': 'Peru', 'capital': 'Lima', 'population': '29907003'}, {'name': 'French Polynesia', 'capital': 'Papeete', 'population': '270485'}, {'name': 'Papua New Guinea', 'capital': 'Port Moresby', 'population': '6064515'}, {'name': 'Philippines', 'capital': 'Manila', 'population': '99900177'}, {'name': 'Pakistan', 'capital': 'Islamabad', 'population': '184404791'}, {'name': 'Poland', 'capital': 'Warsaw', 'population': '38500000'}, {'name': 'Saint Pierre and Miquelon', 'capital': 'Saint-Pierre', 'population': '7012'}, {'name': 'Pitcairn Islands', 'capital': 'Adamstown', 'population': '46'}, {'name': 'Puerto Rico', 'capital': 'San Juan', 'population': '3916632'}, {'name': 'Palestine', 'capital': 'None', 'population': '3800000'}, {'name': 'Portugal', 'capital': 'Lisbon', 'population': '10676000'}, {'name': 'Palau', 'capital': 'Melekeok', 'population': '19907'}, {'name': 'Paraguay', 'capital': 'Asunción', 'population': '6375830'}, {'name': 'Qatar', 'capital': 'Doha', 'population': '840926'}, {'name': 'Réunion', 'capital': 'Saint-Denis', 'population': '776948'}, {'name': 'Romania', 'capital': 'Bucharest', 'population': '21959278'}, {'name': 'Serbia', 'capital': 'Belgrade', 'population': '7344847'}, {'name': 'Russia', 'capital': 'Moscow', 'population': '140702000'}, {'name': 'Rwanda', 'capital': 'Kigali', 'population': '11055976'}, {'name': 'Saudi Arabia', 'capital': 'Riyadh', 'population': '25731776'}, {'name': 'Solomon Islands', 'capital': 'Honiara', 'population': '559198'}, {'name': 'Seychelles', 'capital': 'Victoria', 'population': '88340'}, {'name': 'Sudan', 'capital': 'Khartoum', 'population': '35000000'}, {'name': 'Sweden', 'capital': 'Stockholm', 'population': '9828655'}, {'name': 'Singapore', 'capital': 'Singapore', 'population': '4701069'}, {'name': 'Saint Helena', 'capital': 'Jamestown', 'population': '7460'}, {'name': 'Slovenia', 'capital': 'Ljubljana', 'population': '2007000'}, {'name': 'Svalbard and Jan Mayen', 'capital': 'Longyearbyen', 'population': '2550'}, {'name': 'Slovakia', 'capital': 'Bratislava', 'population': '5455000'}, {'name': 'Sierra Leone', 'capital': 'Freetown', 'population': '5245695'}, {'name': 'San Marino', 'capital': 'San Marino', 'population': '31477'}, {'name': 'Senegal', 'capital': 'Dakar', 'population': '12323252'}, {'name': 'Somalia', 'capital': 'Mogadishu', 'population': '10112453'}, {'name': 'Suriname', 'capital': 'Paramaribo', 'population': '492829'}, {'name': 'South Sudan', 'capital': 'Juba', 'population': '8260490'}, {'name': 'São Tomé and Príncipe', 'capital': 'São Tomé', 'population': '175808'}, {'name': 'El Salvador', 'capital': 'San Salvador', 'population': '6052064'}, {'name': 'Sint Maarten', 'capital': 'Philipsburg', 'population': '37429'}, {'name': 'Syria', 'capital': 'Damascus', 'population': '22198110'}, {'name': 'Swaziland', 'capital': 'Mbabane', 'population': '1354051'}, {'name': 'Turks and Caicos Islands', 'capital': 'Cockburn Town', 'population': '20556'}, {'name': 'Chad', 'capital': \"N'Djamena\", 'population': '10543464'}, {'name': 'French Southern Territories', 'capital': 'Port-aux-Français', 'population': '140'}, {'name': 'Togo', 'capital': 'Lomé', 'population': '6587239'}, {'name': 'Thailand', 'capital': 'Bangkok', 'population': '67089500'}, {'name': 'Tajikistan', 'capital': 'Dushanbe', 'population': '7487489'}, {'name': 'Tokelau', 'capital': 'None', 'population': '1466'}, {'name': 'East Timor', 'capital': 'Dili', 'population': '1154625'}, {'name': 'Turkmenistan', 'capital': 'Ashgabat', 'population': '4940916'}, {'name': 'Tunisia', 'capital': 'Tunis', 'population': '10589025'}, {'name': 'Tonga', 'capital': \"Nuku'alofa\", 'population': '122580'}, {'name': 'Turkey', 'capital': 'Ankara', 'population': '77804122'}, {'name': 'Trinidad and Tobago', 'capital': 'Port of Spain', 'population': '1228691'}, {'name': 'Tuvalu', 'capital': 'Funafuti', 'population': '10472'}, {'name': 'Tanzania', 'capital': 'Dodoma', 'population': '41892895'}, {'name': 'Ukraine', 'capital': 'Kiev', 'population': '45415596'}, {'name': 'Uganda', 'capital': 'Kampala', 'population': '33398682'}, {'name': 'U.S. Minor Outlying Islands', 'capital': 'None', 'population': '0'}, {'name': 'United States', 'capital': 'Washington', 'population': '310232863'}, {'name': 'Uruguay', 'capital': 'Montevideo', 'population': '3477000'}, {'name': 'Uzbekistan', 'capital': 'Tashkent', 'population': '27865738'}, {'name': 'Vatican City', 'capital': 'Vatican City', 'population': '921'}, {'name': 'Saint Vincent and the Grenadines', 'capital': 'Kingstown', 'population': '104217'}, {'name': 'Venezuela', 'capital': 'Caracas', 'population': '27223228'}, {'name': 'British Virgin Islands', 'capital': 'Road Town', 'population': '21730'}, {'name': 'U.S. Virgin Islands', 'capital': 'Charlotte Amalie', 'population': '108708'}, {'name': 'Vietnam', 'capital': 'Hanoi', 'population': '89571130'}, {'name': 'Vanuatu', 'capital': 'Port Vila', 'population': '221552'}, {'name': 'Wallis and Futuna', 'capital': 'Mata-Utu', 'population': '16025'}, {'name': 'Samoa', 'capital': 'Apia', 'population': '192001'}, {'name': 'Kosovo', 'capital': 'Pristina', 'population': '1800000'}, {'name': 'Yemen', 'capital': 'Sanaa', 'population': '23495361'}, {'name': 'Mayotte', 'capital': 'Mamoudzou', 'population': '159042'}, {'name': 'South Africa', 'capital': 'Pretoria', 'population': '49000000'}, {'name': 'Zambia', 'capital': 'Lusaka', 'population': '13460305'}, {'name': 'Zimbabwe', 'capital': 'Harare', 'population': '11651858'}]\n"
          ]
        }
      ],
      "source": [
        "# starter code\n",
        "\n",
        "import requests\n",
        "response = requests.get(\"https://justinjia.people.ust.hk/countries.html\", timeout=3)\n",
        "soup = BeautifulSoup(response.content, 'html.parser')\n",
        "\n",
        "# provide your code below\n",
        "# print(soup.prettify()) <-- print out HTML structure \n",
        "countries = soup.find_all('div', {'class': 'col-md-4 country'})\n",
        "country_data = []\n",
        "\n",
        "for country in countries:\n",
        "    country_name = country.h3.get_text().strip() # Extract country name [[1]]\n",
        "    capital = country.find('span', {'class': 'country-capital'}).get_text() # Extract capital [[2]]\n",
        "    population = country.find('span', {'class': 'country-population'}).get_text() # Extract population [[3]]\n",
        "    \n",
        "    country_data.append({\n",
        "        'name': country_name,\n",
        "        'capital': capital,\n",
        "        'population': population\n",
        "    })\n",
        "\n",
        "print(country_data)\n",
        "\n"
      ]
    },
    {
      "cell_type": "code",
      "execution_count": 37,
      "metadata": {},
      "outputs": [
        {
          "name": "stdout",
          "output_type": "stream",
          "text": [
            "<span class=\"country-capital\">Andorra la Vella</span>\n"
          ]
        }
      ],
      "source": [
        "print(soup.select_one('span'))"
      ]
    },
    {
      "cell_type": "markdown",
      "metadata": {
        "id": "Pri5rdTsySBS"
      },
      "source": [
        "---\n",
        "\n",
        "<br/>\n",
        "\n",
        "### `.select()` & `.select_one()`\n",
        "\n",
        "\n"
      ]
    },
    {
      "cell_type": "markdown",
      "metadata": {
        "id": "Jnwtnb_HySBT"
      },
      "source": [
        "A `BeautifulSoup` object has a `.select()` (or `.select_one()`) method, which allows us to query elements using CSS selectors:"
      ]
    },
    {
      "cell_type": "code",
      "execution_count": 33,
      "metadata": {
        "id": "sRNvosLLySBT"
      },
      "outputs": [
        {
          "data": {
            "text/plain": [
              "[<div class=\"col m-3 border class-one\">This is a division.</div>]"
            ]
          },
          "execution_count": 33,
          "metadata": {},
          "output_type": "execute_result"
        }
      ],
      "source": [
        "# match elements against two or more classes\n",
        "sample_soup.select(\".class-one.m-3\")"
      ]
    },
    {
      "cell_type": "code",
      "execution_count": 34,
      "metadata": {
        "id": "9WZ6fy45ySBT"
      },
      "outputs": [
        {
          "data": {
            "text/plain": [
              "[<a href=\"sample.html\">The 1st item</a>]"
            ]
          },
          "execution_count": 34,
          "metadata": {},
          "output_type": "execute_result"
        }
      ],
      "source": [
        "sample_soup.select(\"[href]\")"
      ]
    },
    {
      "cell_type": "markdown",
      "metadata": {
        "id": "z-Vd6wSPzVDW"
      },
      "source": [
        "**<font color='steelblue' >Question</font>**:\n",
        "\n",
        "\n",
        "Now use `.select()` to extract the same information from this [web page](https://justinjia.people.ust.hk/countries.html)."
      ]
    },
    {
      "cell_type": "code",
      "execution_count": null,
      "metadata": {
        "id": "9jF-9SgfzVDW"
      },
      "outputs": [],
      "source": [
        "# starter code\n",
        "import requests\n",
        "response = requests.get(\"https://justinjia.people.ust.hk/countries.html\", timeout=3)\n",
        "soup = BeautifulSoup(response.content, 'html.parser')\n",
        "\n",
        "# provide your code below\n",
        "\n",
        "\n"
      ]
    },
    {
      "cell_type": "markdown",
      "metadata": {
        "id": "pj54e5X_cVdr"
      },
      "source": [
        "---\n",
        "<Br>\n",
        "\n",
        "## Scraping Textual Data on Trump's Lies\n",
        "\n",
        "\n",
        "We'll first use `requests.get(url)` to connect to a URL and make a soup with what is held by the `.content` attribute of the response:\n",
        "\n",
        "\n",
        "\n"
      ]
    },
    {
      "cell_type": "code",
      "execution_count": null,
      "metadata": {
        "id": "071arDD6zVDX"
      },
      "outputs": [],
      "source": [
        "from bs4 import BeautifulSoup\n",
        "\n",
        "import requests\n",
        "# open the URL; set timeout to 3 seconds\n",
        "response = requests.get(\"https://drive.google.com/uc?export=download&id=1rJNpIuhDMnuARYfDbUqHjo-RQMWTCTvg\",\n",
        "                        timeout=3)\n",
        "lies_soup = BeautifulSoup(response.content, 'html.parser')"
      ]
    },
    {
      "cell_type": "markdown",
      "metadata": {
        "id": "ayJhh_j-cVds"
      },
      "source": [
        "---\n",
        "\n",
        "<br>\n",
        "\n",
        "\n",
        "In the HTML code, every record is surrounded by the `<span>` tag of `class=\"short-desc\"`:\n",
        "\n",
        "```html\n",
        "<span class=\"short-desc\">\n",
        "      <strong> DATE </strong> LIE <span class=\"short-truth\"><a href=\"URL\"> EXPLANATION </a></span>\n",
        "</span>\n",
        "\n",
        "```\n",
        "\n",
        "\n",
        "\n",
        "\n"
      ]
    },
    {
      "cell_type": "code",
      "execution_count": null,
      "metadata": {
        "id": "y8S3TxUMcVdt"
      },
      "outputs": [],
      "source": [
        "# equivalently, lies_soup.select('span.short-desc')\n",
        "item_list = lies_soup.find_all('span', {'class': 'short-desc'})"
      ]
    },
    {
      "cell_type": "markdown",
      "metadata": {
        "id": "eEqleGfZcVdt"
      },
      "source": [
        "This returns a list of all tags that match the given criteria:"
      ]
    },
    {
      "cell_type": "code",
      "execution_count": null,
      "metadata": {
        "id": "9Ze-CBtazVDX"
      },
      "outputs": [],
      "source": [
        "item_list[0]s"
      ]
    },
    {
      "cell_type": "code",
      "execution_count": null,
      "metadata": {
        "id": "nGDcBqvlzVDY"
      },
      "outputs": [],
      "source": [
        "item_list[5]"
      ]
    },
    {
      "cell_type": "markdown",
      "metadata": {
        "id": "XbPGIExdcVdt"
      },
      "source": [
        "The general structure of a single record is:\n",
        "\n",
        "```html\n",
        "<strong> DATE </strong> LIE <span class=\"short-truth\"><a href=\"URL\"> EXPLANATION </a></span>\n",
        "```\n",
        "\n",
        "\n",
        "Use `.find()` with the tag name `\"strong\"` to select the tag that contains the `DATE`:\n",
        "\n"
      ]
    },
    {
      "cell_type": "code",
      "execution_count": null,
      "metadata": {
        "id": "cZsLaC3bzVDY"
      },
      "outputs": [],
      "source": [
        "item_list[0].find(\"strong\")    # equivalently, item_list[0].select_one(\"strong\")"
      ]
    },
    {
      "cell_type": "markdown",
      "metadata": {
        "id": "qPNZcyEgcVdu"
      },
      "source": [
        "Then use `.get_text()` to extract only the text, with the `strip` option active to remove leading and trailing spaces:"
      ]
    },
    {
      "cell_type": "code",
      "execution_count": null,
      "metadata": {
        "id": "-VkbO3zpzVDY"
      },
      "outputs": [],
      "source": [
        "item_list[0].find(\"strong\").get_text(strip=True)"
      ]
    },
    {
      "cell_type": "markdown",
      "metadata": {
        "id": "pc-ZMS5ycVdu"
      },
      "source": [
        "Next, use `.contents` with list indexing to extract the `LIE`:"
      ]
    },
    {
      "cell_type": "code",
      "execution_count": null,
      "metadata": {
        "id": "XrAId62CzVDZ"
      },
      "outputs": [],
      "source": [
        "item_list[0].contents"
      ]
    },
    {
      "cell_type": "code",
      "execution_count": null,
      "metadata": {
        "id": "xpZEOKyczVDZ"
      },
      "outputs": [],
      "source": [
        "child_nodes = item_list[0].contents\n",
        "child_nodes[1][1:-2]"
      ]
    },
    {
      "cell_type": "markdown",
      "metadata": {
        "id": "DZzB9YSccVdu"
      },
      "source": [
        "For the `EXPLANATION`, select the text within the `<span>` tag, which is the 3rd child of the tag:"
      ]
    },
    {
      "cell_type": "code",
      "execution_count": null,
      "metadata": {
        "id": "5TAwBZFKcVdu",
        "outputId": "276010dc-6e5a-424d-ef86-0a764c914e63"
      },
      "outputs": [
        {
          "data": {
            "text/plain": [
              "'He was for an invasion before he was against it'"
            ]
          },
          "execution_count": 42,
          "metadata": {},
          "output_type": "execute_result"
        }
      ],
      "source": [
        "child_nodes[2].get_text(strip=True)[1:-2]"
      ]
    },
    {
      "cell_type": "markdown",
      "metadata": {
        "id": "rH6J0fAKcVdv"
      },
      "source": [
        "Note that the `URL` is an attribute (the `href` attribute) within the `<a>` tag.  We can access the tag's certain attribute with `get()`:\n"
      ]
    },
    {
      "cell_type": "code",
      "execution_count": null,
      "metadata": {
        "id": "d7ztio3wcVdv",
        "outputId": "e17c88ca-dbd6-4a13-a8e2-3ed7a751369b"
      },
      "outputs": [
        {
          "data": {
            "text/plain": [
              "'https://www.buzzfeed.com/andrewkaczynski/in-2002-donald-trump-said-he-supported-invading-iraq-on-the'"
            ]
          },
          "execution_count": 84,
          "metadata": {},
          "output_type": "execute_result"
        }
      ],
      "source": [
        "item_list[0].a.get('href')"
      ]
    },
    {
      "cell_type": "markdown",
      "metadata": {
        "id": "JkkZuvmxcVdv"
      },
      "source": [
        "Finally, we extend this process to all the rest of it using a `for` loop:"
      ]
    },
    {
      "cell_type": "code",
      "execution_count": null,
      "metadata": {
        "id": "bIFFwj-dcVdv"
      },
      "outputs": [],
      "source": [
        "date_list = []; lie_list = []; explanation_list = []; url_list = []\n",
        "\n",
        "for item in item_list:\n",
        "    first, middle, last = item.contents\n",
        "    date_list.append(first.get_text(strip=True))\n",
        "    lie_list.append(middle[1:-2])\n",
        "    explanation_list.append(last.get_text(strip=True)[1:-2])\n",
        "    url_list.append(item.find('a').get('href'))\n"
      ]
    },
    {
      "cell_type": "code",
      "execution_count": null,
      "metadata": {
        "id": "KBY1DK_WzVDa"
      },
      "outputs": [],
      "source": [
        "print(date_list)"
      ]
    },
    {
      "cell_type": "markdown",
      "metadata": {
        "id": "KeNYOUDpcVdw"
      },
      "source": [
        "We can now combine the data into a pandas `DataFrame` (a tabular data model that makes data manipulation and analysis easier):"
      ]
    },
    {
      "cell_type": "code",
      "execution_count": null,
      "metadata": {
        "id": "mry-Tl_fcVdw",
        "outputId": "c3ecb75a-7b8b-4137-d005-40eff8209779"
      },
      "outputs": [
        {
          "data": {
            "text/html": [
              "<div>\n",
              "<style scoped>\n",
              "    .dataframe tbody tr th:only-of-type {\n",
              "        vertical-align: middle;\n",
              "    }\n",
              "\n",
              "    .dataframe tbody tr th {\n",
              "        vertical-align: top;\n",
              "    }\n",
              "\n",
              "    .dataframe thead th {\n",
              "        text-align: right;\n",
              "    }\n",
              "</style>\n",
              "<table border=\"1\" class=\"dataframe\">\n",
              "  <thead>\n",
              "    <tr style=\"text-align: right;\">\n",
              "      <th></th>\n",
              "      <th>date</th>\n",
              "      <th>lie</th>\n",
              "      <th>explanation</th>\n",
              "      <th>url</th>\n",
              "    </tr>\n",
              "  </thead>\n",
              "  <tbody>\n",
              "    <tr>\n",
              "      <th>0</th>\n",
              "      <td>Jan. 21</td>\n",
              "      <td>I wasn't a fan of Iraq. I didn't want to go in...</td>\n",
              "      <td>He was for an invasion before he was against it</td>\n",
              "      <td>https://www.buzzfeed.com/andrewkaczynski/in-20...</td>\n",
              "    </tr>\n",
              "    <tr>\n",
              "      <th>1</th>\n",
              "      <td>Jan. 21</td>\n",
              "      <td>A reporter for Time magazine — and I have been...</td>\n",
              "      <td>Trump was on the cover 11 times and Nixon appe...</td>\n",
              "      <td>http://nation.time.com/2013/11/06/10-things-yo...</td>\n",
              "    </tr>\n",
              "    <tr>\n",
              "      <th>2</th>\n",
              "      <td>Jan. 23</td>\n",
              "      <td>Between 3 million and 5 million illegal votes ...</td>\n",
              "      <td>There's no evidence of illegal voting</td>\n",
              "      <td>https://www.nytimes.com/2017/01/23/us/politics...</td>\n",
              "    </tr>\n",
              "    <tr>\n",
              "      <th>3</th>\n",
              "      <td>Jan. 25</td>\n",
              "      <td>Now, the audience was the biggest ever. But th...</td>\n",
              "      <td>Official aerial photos show Obama's 2009 inaug...</td>\n",
              "      <td>https://www.nytimes.com/2017/01/21/us/politics...</td>\n",
              "    </tr>\n",
              "    <tr>\n",
              "      <th>4</th>\n",
              "      <td>Jan. 25</td>\n",
              "      <td>Take a look at the Pew reports (which show vot...</td>\n",
              "      <td>The report never mentioned voter fraud</td>\n",
              "      <td>https://www.nytimes.com/2017/01/24/us/politics...</td>\n",
              "    </tr>\n",
              "    <tr>\n",
              "      <th>...</th>\n",
              "      <td>...</td>\n",
              "      <td>...</td>\n",
              "      <td>...</td>\n",
              "      <td>...</td>\n",
              "    </tr>\n",
              "    <tr>\n",
              "      <th>175</th>\n",
              "      <td>Oct. 25</td>\n",
              "      <td>We have trade deficits with almost everybody.</td>\n",
              "      <td>We have trade surpluses with more than 100 cou...</td>\n",
              "      <td>https://www.bea.gov/newsreleases/international...</td>\n",
              "    </tr>\n",
              "    <tr>\n",
              "      <th>176</th>\n",
              "      <td>Oct. 27</td>\n",
              "      <td>Wacky &amp; totally unhinged Tom Steyer, who has b...</td>\n",
              "      <td>Steyer has financially supported many winning ...</td>\n",
              "      <td>https://www.opensecrets.org/donor-lookup/resul...</td>\n",
              "    </tr>\n",
              "    <tr>\n",
              "      <th>177</th>\n",
              "      <td>Nov. 1</td>\n",
              "      <td>Again, we're the highest-taxed nation, just ab...</td>\n",
              "      <td>We're not</td>\n",
              "      <td>http://www.politifact.com/truth-o-meter/statem...</td>\n",
              "    </tr>\n",
              "    <tr>\n",
              "      <th>178</th>\n",
              "      <td>Nov. 7</td>\n",
              "      <td>When you look at the city with the strongest g...</td>\n",
              "      <td>Several other cities, including New York and L...</td>\n",
              "      <td>http://www.politifact.com/truth-o-meter/statem...</td>\n",
              "    </tr>\n",
              "    <tr>\n",
              "      <th>179</th>\n",
              "      <td>Nov. 11</td>\n",
              "      <td>I'd rather have him  – you know, work with him...</td>\n",
              "      <td>There is no evidence that Democrats \"set up\" R...</td>\n",
              "      <td>https://www.nytimes.com/interactive/2017/12/10...</td>\n",
              "    </tr>\n",
              "  </tbody>\n",
              "</table>\n",
              "<p>180 rows × 4 columns</p>\n",
              "</div>"
            ],
            "text/plain": [
              "        date                                                lie  \\\n",
              "0    Jan. 21  I wasn't a fan of Iraq. I didn't want to go in...   \n",
              "1    Jan. 21  A reporter for Time magazine — and I have been...   \n",
              "2    Jan. 23  Between 3 million and 5 million illegal votes ...   \n",
              "3    Jan. 25  Now, the audience was the biggest ever. But th...   \n",
              "4    Jan. 25  Take a look at the Pew reports (which show vot...   \n",
              "..       ...                                                ...   \n",
              "175  Oct. 25      We have trade deficits with almost everybody.   \n",
              "176  Oct. 27  Wacky & totally unhinged Tom Steyer, who has b...   \n",
              "177   Nov. 1  Again, we're the highest-taxed nation, just ab...   \n",
              "178   Nov. 7  When you look at the city with the strongest g...   \n",
              "179  Nov. 11  I'd rather have him  – you know, work with him...   \n",
              "\n",
              "                                           explanation  \\\n",
              "0      He was for an invasion before he was against it   \n",
              "1    Trump was on the cover 11 times and Nixon appe...   \n",
              "2                There's no evidence of illegal voting   \n",
              "3    Official aerial photos show Obama's 2009 inaug...   \n",
              "4               The report never mentioned voter fraud   \n",
              "..                                                 ...   \n",
              "175  We have trade surpluses with more than 100 cou...   \n",
              "176  Steyer has financially supported many winning ...   \n",
              "177                                          We're not   \n",
              "178  Several other cities, including New York and L...   \n",
              "179  There is no evidence that Democrats \"set up\" R...   \n",
              "\n",
              "                                                   url  \n",
              "0    https://www.buzzfeed.com/andrewkaczynski/in-20...  \n",
              "1    http://nation.time.com/2013/11/06/10-things-yo...  \n",
              "2    https://www.nytimes.com/2017/01/23/us/politics...  \n",
              "3    https://www.nytimes.com/2017/01/21/us/politics...  \n",
              "4    https://www.nytimes.com/2017/01/24/us/politics...  \n",
              "..                                                 ...  \n",
              "175  https://www.bea.gov/newsreleases/international...  \n",
              "176  https://www.opensecrets.org/donor-lookup/resul...  \n",
              "177  http://www.politifact.com/truth-o-meter/statem...  \n",
              "178  http://www.politifact.com/truth-o-meter/statem...  \n",
              "179  https://www.nytimes.com/interactive/2017/12/10...  \n",
              "\n",
              "[180 rows x 4 columns]"
            ]
          },
          "execution_count": 18,
          "metadata": {},
          "output_type": "execute_result"
        }
      ],
      "source": [
        "import pandas as pd\n",
        "lie_df = pd.DataFrame({'date': date_list, 'lie': lie_list,\n",
        "                       'explanation': explanation_list, 'url': url_list})\n",
        "lie_df"
      ]
    },
    {
      "cell_type": "code",
      "execution_count": null,
      "metadata": {
        "id": "QijontFm0b5i"
      },
      "outputs": [],
      "source": [
        "# alternatively, a row-based approach\n",
        "\n",
        "all_records = []\n",
        "\n",
        "    \n",
        "for item in item_list:\n",
        "    first, middle, last = item.contents\n",
        "    date = first.get_text(strip=True)\n",
        "    lie = middle[1:-2]\n",
        "    explanation = last.get_text(strip=True)[1:-2]\n",
        "    url = item.find('a').get('href'))\n",
        "    record = {'date': date, 'lie': lie, 'explanation': explanation, 'url': url}\n",
        "    all_records.append(record)\n",
        "\n",
        "lie_df = pd.DataFrame(all_records)"
      ]
    },
    {
      "cell_type": "markdown",
      "metadata": {
        "id": "cD3G0wjEcVdw"
      },
      "source": [
        "Save the output in the file system:"
      ]
    },
    {
      "cell_type": "code",
      "execution_count": null,
      "metadata": {
        "id": "g4qKJo9scVdw"
      },
      "outputs": [],
      "source": [
        "lie_df.to_csv('trump_lies.csv')"
      ]
    },
    {
      "cell_type": "markdown",
      "metadata": {
        "id": "YJXLgkizzVDd"
      },
      "source": [
        "---\n",
        "\n",
        "\n",
        "**<font color='steelblue' >Question</font>**:\n",
        "\n",
        "This time, extract the 4 pieces of information country by country, and combine them into a Pandas `DataFrame`.\n"
      ]
    },
    {
      "cell_type": "code",
      "execution_count": null,
      "metadata": {
        "id": "vtZ84KEczVDd"
      },
      "outputs": [],
      "source": [
        "# starter code\n",
        "import requests\n",
        "response = requests.get(\"https://justinjia.people.ust.hk/countries.html\", timeout=3)\n",
        "soup = BeautifulSoup(response.content, 'html.parser')\n",
        "\n",
        "# provide your code below\n",
        "\n",
        "\n"
      ]
    }
  ],
  "metadata": {
    "colab": {
      "provenance": []
    },
    "kernelspec": {
      "display_name": "Python 3 (ipykernel)",
      "language": "python",
      "name": "python3"
    },
    "language_info": {
      "codemirror_mode": {
        "name": "ipython",
        "version": 3
      },
      "file_extension": ".py",
      "mimetype": "text/x-python",
      "name": "python",
      "nbconvert_exporter": "python",
      "pygments_lexer": "ipython3",
      "version": "3.11.5"
    },
    "vscode": {
      "interpreter": {
        "hash": "ad2bdc8ecc057115af97d19610ffacc2b4e99fae6737bb82f5d7fb13d2f2c186"
      }
    }
  },
  "nbformat": 4,
  "nbformat_minor": 0
}
