{
 "cells": [
  {
   "cell_type": "markdown",
   "metadata": {
    "colab_type": "text",
    "id": "5EbjHlte3uJV"
   },
   "source": [
    "## Practice Questions on Data Structures\n",
    "\n",
    "For each question below, please write the corresponding code, and then run the code to show the output."
   ]
  },
  {
   "cell_type": "markdown",
   "metadata": {},
   "source": [
    "1) Between (1) and 1, which is a valid tuple display to create a tuple of element 1?"
   ]
  },
  {
   "cell_type": "code",
   "execution_count": 1,
   "metadata": {},
   "outputs": [
    {
     "name": "stdout",
     "output_type": "stream",
     "text": [
      "1\n"
     ]
    }
   ],
   "source": [
    "numTuple = (1)\n",
    "print(numTuple)"
   ]
  },
  {
   "cell_type": "markdown",
   "metadata": {
    "colab_type": "text",
    "id": "3MDTAvBErzw7"
   },
   "source": [
    "2) Run the following code snippet and briefly explain why the value of `course_tuple` changes?\n",
    "\n",
    "```python\n",
    "a = ['python']\n",
    "course_tuple = (a, ['business', 'analytics'])\n",
    "a[:] = ['programming']\n",
    "course_tuple\n",
    "```\n"
   ]
  },
  {
   "cell_type": "code",
   "execution_count": 2,
   "metadata": {},
   "outputs": [
    {
     "data": {
      "text/plain": [
       "(['programming'], ['business', 'analytics'])"
      ]
     },
     "execution_count": 2,
     "metadata": {},
     "output_type": "execute_result"
    }
   ],
   "source": [
    "a = ['python']\n",
    "course_tuple = (a, ['business', 'analytics'])\n",
    "a[:] = ['programming']\n",
    "course_tuple"
   ]
  },
  {
   "cell_type": "markdown",
   "metadata": {
    "colab_type": "text",
    "id": "c7CdCSfWhu16"
   },
   "source": [
    "3) Create a tuple `tp` with two lists inside: `[1, 2, 3], [4, 5, 6]`. Write code to extract element 5 out of the tuple. "
   ]
  },
  {
   "cell_type": "code",
   "execution_count": 5,
   "metadata": {},
   "outputs": [
    {
     "name": "stdout",
     "output_type": "stream",
     "text": [
      "5\n"
     ]
    }
   ],
   "source": [
    "tp = ([1, 2, 3], [4, 5, 6])\n",
    "print(tp[-1][1])"
   ]
  },
  {
   "cell_type": "markdown",
   "metadata": {
    "colab_type": "text",
    "id": "oEPhcl5Wh220"
   },
   "source": [
    "4) Try to replace 5 with 6. Print the updated tuple `tp`. "
   ]
  },
  {
   "cell_type": "code",
   "execution_count": 7,
   "metadata": {},
   "outputs": [
    {
     "data": {
      "text/plain": [
       "([1, 2, 3], [4, 6, 6])"
      ]
     },
     "execution_count": 7,
     "metadata": {},
     "output_type": "execute_result"
    }
   ],
   "source": [
    "tp[1][1] = 6 \n",
    "tp"
   ]
  },
  {
   "cell_type": "markdown",
   "metadata": {
    "colab_type": "text",
    "id": "OjwUnGGmiB3l"
   },
   "source": [
    "5) Create a list `ls` with two tuples inside: `(1, 2, 3), (4, 5, 6)`. Write code to extract element 5 out of the list. Then try to replace 5 with 6. What results do you get? Briefly explain the result."
   ]
  },
  {
   "cell_type": "code",
   "execution_count": 12,
   "metadata": {},
   "outputs": [
    {
     "data": {
      "text/plain": [
       "[(1, 2, 3), (4, 5, 6)]"
      ]
     },
     "execution_count": 12,
     "metadata": {},
     "output_type": "execute_result"
    }
   ],
   "source": [
    "ls = [(1, 2, 3), (4, 5, 6)]\n",
    "element = ls[1][1]\n",
    "element = 6 \n",
    "ls \n",
    "# the tuples' elements cannot be changed thus ls remains the same "
   ]
  },
  {
   "cell_type": "markdown",
   "metadata": {
    "colab_type": "text",
    "id": "HMMmFTY0iXtU"
   },
   "source": [
    "6) Given a sentence: `\"Python is a high-level language for general-purpose programming\"`, create a tuple `tp2` and a list `ls2` with each character in the sentence as an element. \n",
    "\n",
    "Print `tp2` and `ls2`. The output should look like: \n",
    "\n",
    "```python\n",
    "('P', 'y', 't', 'h', 'o', 'n', ' ', 'i', 's', ' ', 'a', ' ', 'h', 'i', 'g', 'h', '-', 'l', 'e', 'v', 'e', 'l', ' ', 'l', 'a', 'n', 'g', 'u', 'a', 'g', 'e', ' ', 'f', 'o', 'r', ' ', 'g', 'e', 'n', 'e', 'r', 'a', 'l', '-', 'p', 'u', 'r', 'p', 'o', 's', 'e', ' ', 'p', 'r', 'o', 'g', 'r', 'a', 'm', 'm', 'i', 'n', 'g')\n",
    "```\n",
    "```python\n",
    "['P', 'y', 't', 'h', 'o', 'n', ' ', 'i', 's', ' ', 'a', ' ', 'h', 'i', 'g', 'h', '-', 'l', 'e', 'v', 'e', 'l', ' ', 'l', 'a', 'n', 'g', 'u', 'a', 'g', 'e', ' ', 'f', 'o', 'r', ' ', 'g', 'e', 'n', 'e', 'r', 'a', 'l', '-', 'p', 'u', 'r', 'p', 'o', 's', 'e', ' ', 'p', 'r', 'o', 'g', 'r', 'a', 'm', 'm', 'i', 'n', 'g']\n",
    "```\n",
    "Also print the length of `tp2` and `ls2`, which shall be 63 for each."
   ]
  },
  {
   "cell_type": "code",
   "execution_count": 36,
   "metadata": {},
   "outputs": [
    {
     "name": "stdout",
     "output_type": "stream",
     "text": [
      "('P', 'y', 't', 'h', 'o', 'n', ' ', 'i', 's', ' ', 'a', ' ', 'h', 'i', 'g', 'h', '-', 'l', 'e', 'v', 'e', 'l', ' ', 'l', 'a', 'n', 'g', 'u', 'a', 'g', 'e', ' ', 'f', 'o', 'r', ' ', 'g', 'e', 'n', 'e', 'r', 'a', 'l', '-', 'p', 'u', 'r', 'p', 'o', 's', 'e', ' ', 'p', 'r', 'o', 'g', 'r', 'a', 'm', 'm', 'i', 'n', 'g') ['P', 'y', 't', 'h', 'o', 'n', ' ', 'i', 's', ' ', 'a', ' ', 'h', 'i', 'g', 'h', '-', 'l', 'e', 'v', 'e', 'l', ' ', 'l', 'a', 'n', 'g', 'u', 'a', 'g', 'e', ' ', 'f', 'o', 'r', ' ', 'g', 'e', 'n', 'e', 'r', 'a', 'l', '-', 'p', 'u', 'r', 'p', 'o', 's', 'e', ' ', 'p', 'r', 'o', 'g', 'r', 'a', 'm', 'm', 'i', 'n', 'g'] \n",
      "63 63\n"
     ]
    }
   ],
   "source": [
    "sentence = \"Python is a high-level language for general-purpose programming\"\n",
    "tp2 = tuple(sentence)\n",
    "ls2 = list(sentence)\n",
    "print(f\"{tp2} {ls} \\n{len(tp2)} {len(ls)}\")\n"
   ]
  },
  {
   "cell_type": "markdown",
   "metadata": {
    "colab_type": "text",
    "id": "crrAZR58kXL-"
   },
   "source": [
    "7) How many hyphens are there in `tp2`? The answer should be 2."
   ]
  },
  {
   "cell_type": "code",
   "execution_count": 23,
   "metadata": {},
   "outputs": [
    {
     "name": "stdout",
     "output_type": "stream",
     "text": [
      "2\n"
     ]
    }
   ],
   "source": [
    "print(tp2.count('-'))"
   ]
  },
  {
   "cell_type": "markdown",
   "metadata": {
    "colab_type": "text",
    "id": "xAQURNQHlAAI"
   },
   "source": [
    "8) How many spaces (i.e., `' '`) are there in `ls2`? The answer should be 7."
   ]
  },
  {
   "cell_type": "code",
   "execution_count": 24,
   "metadata": {},
   "outputs": [
    {
     "name": "stdout",
     "output_type": "stream",
     "text": [
      "7\n"
     ]
    }
   ],
   "source": [
    "print(ls.count(' '))"
   ]
  },
  {
   "cell_type": "markdown",
   "metadata": {},
   "source": [
    "9) Can you find the index for the 2nd `'a'` in `tp2`? The answer is 24."
   ]
  },
  {
   "cell_type": "code",
   "execution_count": 35,
   "metadata": {},
   "outputs": [
    {
     "name": "stdout",
     "output_type": "stream",
     "text": [
      "('P', 'y', 't', 'h', 'o', 'n', ' ', 'i', 's', ' ', 'a', ' ', 'h', 'i', 'g', 'h', '-', 'l', 'e', 'v', 'e', 'l', ' ', 'l', 'a', 'n', 'g', 'u', 'a', 'g', 'e', ' ', 'f', 'o', 'r', ' ', 'g', 'e', 'n', 'e', 'r', 'a', 'l', '-', 'p', 'u', 'r', 'p', 'o', 's', 'e', ' ', 'p', 'r', 'o', 'g', 'r', 'a', 'm', 'm', 'i', 'n', 'g')\n",
      "24\n",
      "24\n"
     ]
    }
   ],
   "source": [
    "count = 0\n",
    "print(tp2)\n",
    "for i, char in enumerate(tp2):\n",
    "    if char == \"a\":\n",
    "        count += 1\n",
    "        if count == 2:\n",
    "            secondIndex = i \n",
    "            break\n",
    "\n",
    "print(secondIndex)\n",
    "\n",
    "# Another method\n",
    "# Find the index of the first 'a'\n",
    "first_a_index = tp2.index('a')\n",
    "\n",
    "# Find the index of the second 'a' by slicing the tuple to start after the first 'a'\n",
    "second_a_index = tp2.index('a', first_a_index + 1)\n",
    "\n",
    "print(second_a_index)  "
   ]
  },
  {
   "cell_type": "markdown",
   "metadata": {
    "colab_type": "text",
    "id": "JwELf23albe6"
   },
   "source": [
    "10) Use a list comprehension to find out how many elements in `ls2` are greater than `\"A\"`? The answer should be 54."
   ]
  },
  {
   "cell_type": "code",
   "execution_count": 39,
   "metadata": {},
   "outputs": [
    {
     "name": "stdout",
     "output_type": "stream",
     "text": [
      "54\n"
     ]
    }
   ],
   "source": [
    "isGreater = [element for element in ls2 if element > \"A\"]\n",
    "print(len(isGreater))"
   ]
  },
  {
   "cell_type": "markdown",
   "metadata": {
    "colab_type": "text",
    "id": "v4hbkFCHmUAl"
   },
   "source": [
    "11) Create a new string with all spaces and hypens being removed from `\"Python is a high-level language for general-purpose programming\"`. \n",
    "\n",
    "The result should look like\n",
    "``` python\n",
    "'Pythonisahighlevellanguageforgeneralpurposeprogramming'\n",
    "```\n",
    "\n",
    "(hint: use a list comprehension to create a new list with these two characters eliminated and pass the new list to the `join()` method. See `help(''.join)`)"
   ]
  },
  {
   "cell_type": "code",
   "execution_count": 46,
   "metadata": {},
   "outputs": [
    {
     "name": "stdout",
     "output_type": "stream",
     "text": [
      "Pythonisahighlevellanguageforgeneralpurposeprogramming\n"
     ]
    }
   ],
   "source": [
    "newList = [i for i in ls2 if i != \" \" and i != \"-\"]\n",
    "otherList = ''.join(newList)\n",
    "print(otherList)"
   ]
  },
  {
   "cell_type": "markdown",
   "metadata": {
    "colab_type": "text",
    "id": "aCh4wQBm3uJe"
   },
   "source": [
    "12) Use a list comprehension to create a new list called `slist` that contains the square of all even numbers in `[0, 1, 2, 3, 4, 5, 6, 7, 8, 9, 10]`. "
   ]
  },
  {
   "cell_type": "code",
   "execution_count": 49,
   "metadata": {},
   "outputs": [
    {
     "data": {
      "text/plain": [
       "[4, 16, 36, 64, 100]"
      ]
     },
     "execution_count": 49,
     "metadata": {},
     "output_type": "execute_result"
    }
   ],
   "source": [
    "nums = [0, 1, 2, 3, 4, 5, 6, 7, 8, 9, 10]\n",
    "slist = [x**2 for x in nums if x % 2 == 0 and x != 0]\n",
    "slist"
   ]
  },
  {
   "cell_type": "markdown",
   "metadata": {
    "colab_type": "text",
    "id": "CHpTuXzQ3uJo"
   },
   "source": [
    "13) Use a list comprehenstion to show only elements in `slist` that contains number 4. The result should be `[4, 64]`"
   ]
  },
  {
   "cell_type": "code",
   "execution_count": 52,
   "metadata": {},
   "outputs": [
    {
     "data": {
      "text/plain": [
       "[4, 64]"
      ]
     },
     "execution_count": 52,
     "metadata": {},
     "output_type": "execute_result"
    }
   ],
   "source": [
    "slist2 = [x for x in slist if \"4\" in str(x)]\n",
    "slist2"
   ]
  },
  {
   "cell_type": "markdown",
   "metadata": {
    "colab_type": "text",
    "id": "u_mUfdXb3uJs"
   },
   "source": [
    "14) Find out how many elements in `slist` are divisable by 8. The result should be `3`"
   ]
  },
  {
   "cell_type": "code",
   "execution_count": 53,
   "metadata": {},
   "outputs": [
    {
     "name": "stdout",
     "output_type": "stream",
     "text": [
      "2\n"
     ]
    }
   ],
   "source": [
    "slist3 = [x for x in slist if x % 8 == 0]\n",
    "print(len(slist3))"
   ]
  },
  {
   "cell_type": "markdown",
   "metadata": {
    "colab_type": "text",
    "id": "CDJaiGnE3uJw"
   },
   "source": [
    "15) Create a string `st_sports` that looks like this: \n",
    "\n",
    "```python\n",
    "'soccer tennis badminton swimming'\n",
    "```\n",
    "Then create a list `ls_sports` from `st_sports` with each sport as an element in the list.\n",
    "\n",
    "Print `ls_sports`. The result should look like: \n",
    "\n",
    "```python\n",
    "['soccer', 'tennis', 'badminton', 'swimming']\n",
    "```\n",
    "\n",
    "(hint: `help(str.split)`)"
   ]
  },
  {
   "cell_type": "code",
   "execution_count": 57,
   "metadata": {},
   "outputs": [
    {
     "data": {
      "text/plain": [
       "['soccer', 'tennis', 'badminton', 'swimming']"
      ]
     },
     "execution_count": 57,
     "metadata": {},
     "output_type": "execute_result"
    }
   ],
   "source": [
    "st_sports = 'soccer tennis badminton swimming'\n",
    "ls_sports = st_sports.split()\n",
    "ls_sports"
   ]
  },
  {
   "cell_type": "markdown",
   "metadata": {
    "colab_type": "text",
    "id": "vfRB2RSI3uJz"
   },
   "source": [
    "16) Based on `ls_sports`, create a new nested list `sports` that looks like the following:\n",
    "\n",
    "```python\n",
    "[[1, 2, 3, 4], ['soccer', 'tennis', 'badminton', 'swimming']]\n",
    "```"
   ]
  },
  {
   "cell_type": "code",
   "execution_count": 65,
   "metadata": {},
   "outputs": [
    {
     "data": {
      "text/plain": [
       "[[1, 2, 3, 4], ['soccer', 'tennis', 'badminton', 'swimming']]"
      ]
     },
     "execution_count": 65,
     "metadata": {},
     "output_type": "execute_result"
    }
   ],
   "source": [
    "sports = [[i+1 for i in range(len(ls_sports))], ls_sports]\n",
    "sports"
   ]
  },
  {
   "cell_type": "markdown",
   "metadata": {
    "colab_type": "text",
    "id": "ZQuWwK6E3uJ5"
   },
   "source": [
    "17) Create a new nested list called `sports_rev` by switching the order the two sublists in `sports`, and then sorting each sublist in descending order. \n",
    "\n",
    "Print `sports_rev` and the result should be: \n",
    "\n",
    "```python\n",
    "[['tennis', 'swimming', 'soccer', 'badminton'], [4, 3, 2, 1]]\n",
    "```\n"
   ]
  },
  {
   "cell_type": "code",
   "execution_count": 71,
   "metadata": {},
   "outputs": [
    {
     "data": {
      "text/plain": [
       "[['tennis', 'swimming', 'soccer', 'badminton'], [4, 3, 2, 1]]"
      ]
     },
     "execution_count": 71,
     "metadata": {},
     "output_type": "execute_result"
    }
   ],
   "source": [
    "sports_rev = [sorted(ls, reverse=True) for ls in sports[::-1]]\n",
    "sports_rev"
   ]
  },
  {
   "cell_type": "markdown",
   "metadata": {
    "colab_type": "text",
    "id": "tZ22pHyG3uJ8"
   },
   "source": [
    "18) Use the `remove()` method to remove `4` and `'swimming'` from `sports`, then print the updated `sports` list, which should look like: \n",
    "\n",
    "```python\n",
    "[[1, 2, 3], ['soccer', 'tennis', 'badminton']]\n",
    "```"
   ]
  },
  {
   "cell_type": "code",
   "execution_count": 82,
   "metadata": {},
   "outputs": [
    {
     "name": "stdout",
     "output_type": "stream",
     "text": [
      "[[1, 2, 3], ['soccer', 'tennis', 'badminton']]\n"
     ]
    }
   ],
   "source": [
    "sports = [[1, 2, 3, 4], ['soccer', 'tennis', 'badminton', 'swimming']]\n",
    "sports[1].remove('swimming')\n",
    "sports[0].remove(4)\n",
    "print(sports)\n"
   ]
  },
  {
   "cell_type": "markdown",
   "metadata": {
    "colab_type": "text",
    "id": "kGJrN2hj3uJ_"
   },
   "source": [
    "19) Can you add number 4 and 'swimming' back to sports by using the `extend()` method? Print `sports` to confirm. "
   ]
  },
  {
   "cell_type": "code",
   "execution_count": 109,
   "metadata": {},
   "outputs": [
    {
     "data": {
      "text/plain": [
       "[[1, 2, 3, 4, 4, 4, 4, 4, 4, 4, 4, 4, 4, 4, 4, 4, 4],\n",
       " ['soccer',\n",
       "  'tennis',\n",
       "  'badminton',\n",
       "  's',\n",
       "  'w',\n",
       "  'i',\n",
       "  'm',\n",
       "  'm',\n",
       "  'i',\n",
       "  'n',\n",
       "  'g',\n",
       "  'swimming',\n",
       "  'swimming',\n",
       "  'swimming',\n",
       "  'swimming',\n",
       "  'swimming',\n",
       "  'swimming',\n",
       "  'swimming']]"
      ]
     },
     "execution_count": 109,
     "metadata": {},
     "output_type": "execute_result"
    }
   ],
   "source": [
    "sports[1].extend([\"swimming\"])\n",
    "sports[0].extend([4])\n",
    "sports"
   ]
  },
  {
   "cell_type": "markdown",
   "metadata": {
    "colab_type": "text",
    "id": "sE0NTfnY3uKC"
   },
   "source": [
    "20) Create `lista` that contains `['1', '3', '5']`. Print the sum of the numeric values of the elements, which should be 9. "
   ]
  },
  {
   "cell_type": "code",
   "execution_count": 146,
   "metadata": {},
   "outputs": [],
   "source": [
    "lista = [str(x) for x in range(6) if x % 2 != 0 and x != 0]\n"
   ]
  },
  {
   "cell_type": "markdown",
   "metadata": {
    "colab_type": "text",
    "id": "b6NE5wJj3uKF"
   },
   "source": [
    "21) Create `listb` that contains `['2', '4', '6']`. Concatenate `lista` and `listb`, which should look like \n",
    "\n",
    "`['1', '3', '5', '2', '4', '6']`"
   ]
  },
  {
   "cell_type": "code",
   "execution_count": 147,
   "metadata": {},
   "outputs": [
    {
     "data": {
      "text/plain": [
       "['1', '3', '5', '2', '4', '6']"
      ]
     },
     "execution_count": 147,
     "metadata": {},
     "output_type": "execute_result"
    }
   ],
   "source": [
    "listb = [str(x) for x in range(7) if x % 2 == 0 and x != 0]\n",
    "lista = lista + listb\n",
    "lista"
   ]
  },
  {
   "cell_type": "markdown",
   "metadata": {
    "colab_type": "text",
    "id": "BKZIfHwB3uKN"
   },
   "source": [
    "22) Redefine lista as `['1', '2', '3', '4', '5', '6']`. Add a sublist `['7', '8', '9']` to `lista`, so it becomes `['1', '2', '3', '4', '5', '6', ['7','8','9']]`. And then pop the sublist out and assign it to `listc`. Print `lista` and `listc`. "
   ]
  },
  {
   "cell_type": "code",
   "execution_count": 148,
   "metadata": {},
   "outputs": [
    {
     "name": "stdout",
     "output_type": "stream",
     "text": [
      "['1', '2', '3', '4', '5', '6'] ['7', '8', '9']\n"
     ]
    }
   ],
   "source": [
    "lista = ['1', '2', '3', '4', '5', '6']\n",
    "lista.append([str(x) for x in range(7, 10)])\n",
    "listc = lista.pop(-1)\n",
    "print(lista, listc)"
   ]
  },
  {
   "cell_type": "markdown",
   "metadata": {
    "colab_type": "text",
    "id": "6CSvRhIN3uKS"
   },
   "source": [
    "23) Combine `lista` and `listc` and print them in reverse order such that it looks like: \n",
    "\n",
    "```python\n",
    "['9', '8', '7', '6', '5', '4', '3', '2', '1']\n",
    "```"
   ]
  },
  {
   "cell_type": "code",
   "execution_count": 149,
   "metadata": {},
   "outputs": [
    {
     "name": "stdout",
     "output_type": "stream",
     "text": [
      "['9', '8', '7', '6', '5', '4', '3', '2', '1']\n"
     ]
    }
   ],
   "source": [
    "lista = lista + listc \n",
    "print(sorted(lista, reverse=True))"
   ]
  },
  {
   "cell_type": "markdown",
   "metadata": {
    "colab_type": "text",
    "id": "HdBA3ntr3uKd"
   },
   "source": [
    "24) Define a list `xtree` as\n",
    "```python\n",
    "['*****', '***', '*******', '*********', '*']\n",
    "```\n",
    "Try to use it to print a christmas tree as below:\n",
    "\n",
    "         *          \n",
    "        ***         \n",
    "       *****        \n",
    "      *******       \n",
    "     *********  \n",
    "\n",
    "Steps: \n",
    "\n",
    "1. sort `xtree` from one star to nine stars; \n",
    "\n",
    "2. use a list comprehension to regenerate a list with added spaces around each element and center the element to the middle of 20 characters each. Hint: \n",
    " - `help(''.center)` or\n",
    " - use the new-style string formatting. The format specifier to use is `{: ^20}`.\n",
    " \n",
    "\n",
    "3. use print function to print the result of 3, and in fact step 3 and 4 shall be done in one step. \n",
    "\n",
    "\n",
    "     \n",
    "Additional information on how to print a list without square brackets, commas, and print each list item on a new line. Try the following three print functions, and you will see the difference. Select the appropriate one for your Christmas tree. \n",
    "\n",
    "```python\n",
    "print([1, 2, 3])\n",
    "print(*[1, 2, 3])\n",
    "print(*[1, 2, 3], sep=\"\\n\")\n",
    "```"
   ]
  },
  {
   "cell_type": "code",
   "execution_count": 24,
   "metadata": {},
   "outputs": [
    {
     "name": "stdout",
     "output_type": "stream",
     "text": [
      "['         *          ', '        ***         ', '       *****        ', '      *******       ', '     *********      ']\n",
      "         *          \n",
      "        ***         \n",
      "       *****        \n",
      "      *******       \n",
      "     *********      \n"
     ]
    },
    {
     "data": {
      "text/plain": [
       "str"
      ]
     },
     "execution_count": 24,
     "metadata": {},
     "output_type": "execute_result"
    }
   ],
   "source": [
    "xtree = sorted(['*****', '***', '*******', '*********', '*'])\n",
    "xtree_ls = [f'{element: ^20}' for element in xtree]\n",
    "print(xtree_ls)\n",
    "# '\\n.join() joins each elements with a newline in between \n",
    "# and becomes a string, thus no \"\" \n",
    "final_output = '\\n'.join(xtree_ls)\n",
    "print(final_output)\n",
    "type(final_output)\n"
   ]
  },
  {
   "cell_type": "markdown",
   "metadata": {
    "colab_type": "text",
    "id": "R4ZPflQkogxf"
   },
   "source": [
    "25) Create two sets `seta` and `setb` from `[1, 2, 4, 'a', 'b', 4, 1]` and `[2, 4, 2, 3, 'b', 'c']`."
   ]
  },
  {
   "cell_type": "markdown",
   "metadata": {
    "colab_type": "text",
    "id": "1A-Qcss6qRuq"
   },
   "source": [
    "26) Create a dictionary `course` based on the following list with all duplicates being removed:\n",
    "\n",
    "```python\n",
    "[('ISOM3210', 'Information Systems Analysis and Design'), \n",
    " ('ISOM3210', 'Information Systems Analysis and Design'), \n",
    " ('ISOM3210', 'Information Systems Analysis and Design'), \n",
    " ('ISOM3230', 'Business Applications Programming'), \n",
    " ('ISOM3260', 'Database Design and Administration'), \n",
    " ('ISOM3260', 'Database Design and Administration'), \n",
    " ('ISOM3320', 'Internet Applications Development'), \n",
    " ('ISOM3320', 'Internet Applications Development'), \n",
    " ('ISOM3360', 'Data Mining for Business Analytics'),\n",
    " ('ISOM3370', 'Big Data Technologies'), \n",
    " ('ISOM3390', 'R for Business Programming'),\n",
    " ('ISOM3400', 'Python Programming for Business Analytics')]\n",
    "```"
   ]
  },
  {
   "cell_type": "code",
   "execution_count": 3,
   "metadata": {},
   "outputs": [
    {
     "name": "stdout",
     "output_type": "stream",
     "text": [
      "{'ISOM3210': 'Information Systems Analysis and Design', 'ISOM3230': 'Business Applications Programming', 'ISOM3260': 'Database Design and Administration', 'ISOM3320': 'Internet Applications Development', 'ISOM3360': 'Data Mining for Business Analytics', 'ISOM3370': 'Big Data Technologies', 'ISOM3390': 'R for Business Programming', 'ISOM3400': 'Python Programming for Business Analytics'}\n"
     ]
    }
   ],
   "source": [
    "# first turn into set \n",
    "# list comprehension create dictionary? \n",
    "courses_ls = [('ISOM3210', 'Information Systems Analysis and Design'), \n",
    " ('ISOM3210', 'Information Systems Analysis and Design'), \n",
    " ('ISOM3210', 'Information Systems Analysis and Design'), \n",
    " ('ISOM3230', 'Business Applications Programming'), \n",
    " ('ISOM3260', 'Database Design and Administration'), \n",
    " ('ISOM3260', 'Database Design and Administration'), \n",
    " ('ISOM3320', 'Internet Applications Development'), \n",
    " ('ISOM3320', 'Internet Applications Development'), \n",
    " ('ISOM3360', 'Data Mining for Business Analytics'),\n",
    " ('ISOM3370', 'Big Data Technologies'), \n",
    " ('ISOM3390', 'R for Business Programming'),\n",
    " ('ISOM3400', 'Python Programming for Business Analytics')]\n",
    "\n",
    "course = dict(courses_ls)\n",
    "print(course)"
   ]
  },
  {
   "cell_type": "markdown",
   "metadata": {
    "colab_type": "text",
    "id": "Q0-OvJMAwaCZ"
   },
   "source": [
    "27) Based on `course`, create a dictionary `prog_course` with all courses whose title contains `'Programming'`. Printing `prog_course` should return: \n",
    "\n",
    "```python\n",
    "{'ISOM3230': 'Business Applications Programming',\n",
    " 'ISOM3390': 'R for Business Programming',\n",
    " 'ISOM3400': 'Python Programming for Business Analytics'}\n",
    "```"
   ]
  },
  {
   "cell_type": "code",
   "execution_count": 11,
   "metadata": {},
   "outputs": [
    {
     "data": {
      "text/plain": [
       "{'ISOM3230': 'Business Applications Programming',\n",
       " 'ISOM3390': 'R for Business Programming',\n",
       " 'ISOM3400': 'Python Programming for Business Analytics'}"
      ]
     },
     "execution_count": 11,
     "metadata": {},
     "output_type": "execute_result"
    }
   ],
   "source": [
    "# dict comprehension \n",
    "# prog_course = {id: title for course in course if \"Programming\" in course}\n",
    "prog_course = {k: v for k, v in course.items() if 'Programming' in v}\n",
    "prog_course"
   ]
  },
  {
   "cell_type": "markdown",
   "metadata": {
    "colab_type": "text",
    "id": "G8TNOL8_yLYw"
   },
   "source": [
    "28) Present the content of `prog_course` as follows:\n",
    "\n",
    "```\n",
    "-----------------------------------------------------------------\n",
    "|  ISOM3230  |  Business Applications Programming               |\n",
    "-----------------------------------------------------------------\n",
    "|  ISOM3390  |  R for Business Programming                      |\n",
    "-----------------------------------------------------------------\n",
    "|  ISOM3400  |  Python Programming for Business Analytics       |\n",
    "-----------------------------------------------------------------\n",
    "```\n",
    "\n",
    "Hint: Use the following string in a comprehension\n",
    "\n",
    "```python\n",
    "'|  {:<10}|  {:<48}|'.format(code, title) + '\\n'  + '-' * 65\n",
    "```\n"
   ]
  },
  {
   "cell_type": "code",
   "execution_count": 14,
   "metadata": {},
   "outputs": [
    {
     "name": "stdout",
     "output_type": "stream",
     "text": [
      "-----------------------------------------------------------------\n",
      "|  ISOM3230  |  Business Applications Programming               |\n",
      "-----------------------------------------------------------------\n",
      "|  ISOM3390  |  R for Business Programming                      |\n",
      "-----------------------------------------------------------------\n",
      "|  ISOM3400  |  Python Programming for Business Analytics       |\n",
      "-----------------------------------------------------------------\n"
     ]
    }
   ],
   "source": [
    "output = '-' * 65 + '\\n' + '\\n'.join(['|  {:<10}|  {:<48}|'.format(code, title) + '\\n'  + '-' * 65 for code, title in prog_course.items()])\n",
    "print(output)"
   ]
  }
 ],
 "metadata": {
  "colab": {
   "collapsed_sections": [],
   "name": "Extra Exercises on Data Structures.ipynb",
   "provenance": []
  },
  "kernelspec": {
   "display_name": "Python 3",
   "language": "python",
   "name": "python3"
  },
  "language_info": {
   "codemirror_mode": {
    "name": "ipython",
    "version": 3
   },
   "file_extension": ".py",
   "mimetype": "text/x-python",
   "name": "python",
   "nbconvert_exporter": "python",
   "pygments_lexer": "ipython3",
   "version": "3.11.5"
  }
 },
 "nbformat": 4,
 "nbformat_minor": 1
}
